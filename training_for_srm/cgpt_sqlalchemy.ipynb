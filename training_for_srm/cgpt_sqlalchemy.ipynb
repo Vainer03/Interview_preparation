{
 "cells": [
  {
   "cell_type": "markdown",
   "id": "f6f211ee",
   "metadata": {},
   "source": [
    "## Модуль №1 - Что такое SQLAlchemy?"
   ]
  },
  {
   "cell_type": "code",
   "execution_count": 7,
   "id": "b73bfe40",
   "metadata": {},
   "outputs": [],
   "source": [
    "from sqlalchemy import create_engine, MetaData, Table, Column, Integer, String\n",
    "\n",
    "engine = create_engine('sqlite:///test.db')\n",
    "\n",
    "metadata = MetaData()\n",
    "\n",
    "users = Table(\n",
    "    'users',\n",
    "    metadata,\n",
    "    Column('id', Integer, primary_key=True),\n",
    "    Column('name', String),\n",
    ")\n",
    "\n",
    "metadata.create_all(engine)"
   ]
  },
  {
   "cell_type": "code",
   "execution_count": 8,
   "id": "2844457a",
   "metadata": {},
   "outputs": [
    {
     "name": "stdout",
     "output_type": "stream",
     "text": [
      "(1, 'Alice')\n"
     ]
    }
   ],
   "source": [
    "with engine.connect() as conn:\n",
    "    conn.execute(users.insert().values(name='Alice'))\n",
    "    result = conn.execute(users.select())\n",
    "    for row in result:\n",
    "        print(row)"
   ]
  },
  {
   "cell_type": "code",
   "execution_count": 9,
   "id": "a4f892ef",
   "metadata": {},
   "outputs": [],
   "source": [
    "books = Table(\n",
    "    'books',\n",
    "    metadata,\n",
    "    Column('id', Integer, primary_key=True),\n",
    "    Column('title', String),\n",
    "    Column('author', String),\n",
    ")\n",
    "\n",
    "metadata.create_all(engine)"
   ]
  },
  {
   "cell_type": "code",
   "execution_count": 13,
   "id": "70bd19d9",
   "metadata": {},
   "outputs": [
    {
     "name": "stdout",
     "output_type": "stream",
     "text": [
      "(1, 'Война и мир', 'Лев Толстой')\n",
      "(2, 'Тихий Дон', 'Михаил Шолохов')\n"
     ]
    }
   ],
   "source": [
    "with engine.connect() as conn:\n",
    "    conn.execute(books.insert().values(title='Война и мир', author='Лев Толстой'))\n",
    "    conn.execute(books.insert().values(title='Тихий Дон', author='Михаил Шолохов'))\n",
    "    result = conn.execute(books.select())\n",
    "    for row in result:\n",
    "        print(row)\n"
   ]
  },
  {
   "cell_type": "markdown",
   "id": "7f8046d4",
   "metadata": {},
   "source": [
    "## Модуль №2 - SQLAlchemy Core - работа с SQL через Python"
   ]
  },
  {
   "cell_type": "code",
   "execution_count": 20,
   "id": "848d4772",
   "metadata": {},
   "outputs": [
    {
     "name": "stdout",
     "output_type": "stream",
     "text": [
      "2025-07-23 11:36:19,895 INFO sqlalchemy.engine.Engine BEGIN (implicit)\n",
      "2025-07-23 11:36:19,896 INFO sqlalchemy.engine.Engine PRAGMA main.table_info(\"books\")\n",
      "2025-07-23 11:36:19,896 INFO sqlalchemy.engine.Engine [raw sql] ()\n",
      "2025-07-23 11:36:19,897 INFO sqlalchemy.engine.Engine COMMIT\n",
      "2025-07-23 11:36:19,898 INFO sqlalchemy.engine.Engine BEGIN (implicit)\n",
      "2025-07-23 11:36:19,899 INFO sqlalchemy.engine.Engine INSERT INTO books (title, author) VALUES (?, ?)\n",
      "2025-07-23 11:36:19,899 INFO sqlalchemy.engine.Engine [generated in 0.00100s] ('1984', 'George Orwell')\n",
      "2025-07-23 11:36:19,900 INFO sqlalchemy.engine.Engine INSERT INTO books (title, author) VALUES (?, ?)\n",
      "2025-07-23 11:36:19,901 INFO sqlalchemy.engine.Engine [generated in 0.00058s] [('Brave New World', 'Aldous Huxley'), ('Fahrenheit 451', 'Ray Bradbury')]\n",
      "2025-07-23 11:36:19,902 INFO sqlalchemy.engine.Engine SELECT books.id, books.title, books.author \n",
      "FROM books\n",
      "2025-07-23 11:36:19,902 INFO sqlalchemy.engine.Engine [generated in 0.00036s] ()\n",
      "(1, '1984', 'George Orwell')\n",
      "(2, 'Brave New World', 'Aldous Huxley')\n",
      "(3, 'Fahrenheit 451', 'Ray Bradbury')\n",
      "2025-07-23 11:36:19,903 INFO sqlalchemy.engine.Engine SELECT books.title, books.author \n",
      "FROM books\n",
      "2025-07-23 11:36:19,903 INFO sqlalchemy.engine.Engine [generated in 0.00034s] ()\n",
      "2025-07-23 11:36:19,904 INFO sqlalchemy.engine.Engine SELECT books.id, books.title, books.author \n",
      "FROM books \n",
      "WHERE books.author = ? OR books.title LIKE ?\n",
      "2025-07-23 11:36:19,904 INFO sqlalchemy.engine.Engine [generated in 0.00041s] ('George Orwell', '%451%')\n",
      "2025-07-23 11:36:19,905 INFO sqlalchemy.engine.Engine UPDATE books SET title=? WHERE books.author = ?\n",
      "2025-07-23 11:36:19,906 INFO sqlalchemy.engine.Engine [generated in 0.00048s] ('Nineteen Eighty-Four', 'George Orwell')\n",
      "2025-07-23 11:36:19,907 INFO sqlalchemy.engine.Engine DELETE FROM books WHERE books.title = ?\n",
      "2025-07-23 11:36:19,911 INFO sqlalchemy.engine.Engine [generated in 0.00433s] ('Brave New World',)\n",
      "2025-07-23 11:36:19,912 INFO sqlalchemy.engine.Engine SELECT books.id, books.title, books.author \n",
      "FROM books\n",
      "2025-07-23 11:36:19,912 INFO sqlalchemy.engine.Engine [cached since 0.01021s ago] ()\n",
      "(1, 'Nineteen Eighty-Four', 'George Orwell')\n",
      "(3, 'Fahrenheit 451', 'Ray Bradbury')\n",
      "2025-07-23 11:36:19,912 INFO sqlalchemy.engine.Engine ROLLBACK\n",
      "2025-07-23 11:36:19,913 INFO sqlalchemy.engine.Engine BEGIN (implicit)\n",
      "2025-07-23 11:36:19,914 INFO sqlalchemy.engine.Engine INSERT INTO books (title, author) VALUES (?, ?)\n",
      "2025-07-23 11:36:19,914 INFO sqlalchemy.engine.Engine [cached since 0.01566s ago] ('Dune', 'Frank Herbert')\n",
      "2025-07-23 11:36:19,915 INFO sqlalchemy.engine.Engine INSERT INTO books (title, author) VALUES (?, ?)\n",
      "2025-07-23 11:36:19,915 INFO sqlalchemy.engine.Engine [cached since 0.0168s ago] ('Hyperion', 'Dan Simmons')\n",
      "2025-07-23 11:36:19,915 INFO sqlalchemy.engine.Engine COMMIT\n"
     ]
    }
   ],
   "source": [
    "from sqlalchemy import create_engine, MetaData, Table, Column, Integer, String, select, and_, or_\n",
    "\n",
    "engine = create_engine(\"sqlite:///books.db\", echo=True)\n",
    "\n",
    "metadata = MetaData()\n",
    "\n",
    "books = Table(\n",
    "    'books',\n",
    "    metadata,\n",
    "    Column('id', Integer, primary_key=True),\n",
    "    Column('title', String, nullable=False),\n",
    "    Column('author', String),\n",
    ")\n",
    "\n",
    "metadata.create_all(engine)\n",
    "\n",
    "with engine.connect() as conn:\n",
    "    insert_smth = books.insert().values(title='1984', author='George Orwell')\n",
    "    conn.execute(insert_smth)\n",
    "    conn.execute(\n",
    "        books.insert(),\n",
    "        [\n",
    "            {\"title\": \"Brave New World\", \"author\": \"Aldous Huxley\"},\n",
    "            {\"title\": \"Fahrenheit 451\", \"author\": \"Ray Bradbury\"},\n",
    "        ]\n",
    "    )\n",
    "    result = conn.execute(select(books))\n",
    "    for row in result:\n",
    "        print(row)\n",
    "    \n",
    "    # Select specific columns\n",
    "\n",
    "    select_smth = select(books.c.title, books.c.author)\n",
    "    result2 = conn.execute(select_smth)\n",
    "\n",
    "    # Select specific books\n",
    "\n",
    "    select_smth2 = select(books).where(\n",
    "        or_(\n",
    "            books.c.author == 'George Orwell',\n",
    "            books.c.title.like(\"%451%\")\n",
    "        )\n",
    "    )\n",
    "    result3 = conn.execute(select_smth2)\n",
    "\n",
    "    # Update the data\n",
    "\n",
    "    update_smth = books.update().where(books.c.author == \"George Orwell\").values(title=\"Nineteen Eighty-Four\")\n",
    "    conn.execute(update_smth)\n",
    "\n",
    "    delete_smth = books.delete().where(books.c.title == \"Brave New World\")\n",
    "    conn.execute(delete_smth)\n",
    "\n",
    "    result = conn.execute(select(books))\n",
    "    for row in result:\n",
    "        print(row)\n",
    "\n",
    "with engine.begin() as conn:\n",
    "    conn.execute(books.insert().values(title=\"Dune\", author=\"Frank Herbert\"))\n",
    "    conn.execute(books.insert().values(title=\"Hyperion\", author=\"Dan Simmons\"))\n",
    "    "
   ]
  },
  {
   "cell_type": "code",
   "execution_count": null,
   "id": "82e72496",
   "metadata": {},
   "outputs": [],
   "source": []
  }
 ],
 "metadata": {
  "kernelspec": {
   "display_name": "venv",
   "language": "python",
   "name": "python3"
  },
  "language_info": {
   "codemirror_mode": {
    "name": "ipython",
    "version": 3
   },
   "file_extension": ".py",
   "mimetype": "text/x-python",
   "name": "python",
   "nbconvert_exporter": "python",
   "pygments_lexer": "ipython3",
   "version": "3.13.5"
  }
 },
 "nbformat": 4,
 "nbformat_minor": 5
}
