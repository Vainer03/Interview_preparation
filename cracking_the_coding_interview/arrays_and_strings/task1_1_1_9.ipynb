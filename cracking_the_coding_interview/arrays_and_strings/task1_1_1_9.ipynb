{
 "cells": [
  {
   "cell_type": "markdown",
   "id": "80334d5b",
   "metadata": {},
   "source": [
    "#### Imports"
   ]
  },
  {
   "cell_type": "code",
   "execution_count": 3,
   "id": "8a4154f7",
   "metadata": {},
   "outputs": [],
   "source": [
    "import math"
   ]
  },
  {
   "cell_type": "markdown",
   "id": "0127b0ae",
   "metadata": {},
   "source": [
    "#### task 1.1\n",
    "Реализуйте алгоритм, определяющий все ли символы в строке встречаются только один раз. А если запрещено использование дополнительных структур данных?"
   ]
  },
  {
   "cell_type": "code",
   "execution_count": 4,
   "id": "1df1c49a",
   "metadata": {},
   "outputs": [],
   "source": [
    "def task1_1(string):\n",
    "    for i in range(len(string)):\n",
    "        for j in range(i+1, len(string)):\n",
    "            if string[i] == string[j]:\n",
    "                return False\n",
    "    return True"
   ]
  },
  {
   "cell_type": "markdown",
   "id": "1c0c43e3",
   "metadata": {},
   "source": [
    "#### task 1.2\n",
    "Для двух строк напишите метод, определяющий, является \n",
    "ли одна строка перестановкой другой"
   ]
  },
  {
   "cell_type": "code",
   "execution_count": 5,
   "id": "980ee40f",
   "metadata": {},
   "outputs": [],
   "source": [
    "def task1_2(string_1, string_2):\n",
    "    string_1 = string_1.lower().replace(\" \", \"\")\n",
    "    string_2 = string_2.lower().replace(\" \", \"\")\n",
    "\n",
    "    if len(string_1) != len(string_2):\n",
    "        return False\n",
    "\n",
    "    s1 = {}\n",
    "    for i in string_1:\n",
    "        if i in s1:\n",
    "            s1[i] += 1\n",
    "        else:\n",
    "            s1[i] = 1\n",
    "    s2 = {}\n",
    "    for j in string_2:\n",
    "        if j in s2:\n",
    "            s2[j] += 1\n",
    "        else:\n",
    "            s2[j] = 1\n",
    "    for symb, count in s1.items():\n",
    "        if s2[symb] != count:\n",
    "            return False       \n",
    "    return True"
   ]
  },
  {
   "cell_type": "markdown",
   "id": "4368a692",
   "metadata": {},
   "source": [
    "#### task 1.3\n",
    "Напишите метод, заменяющий все пробелы в строке символами '%20'. Можете считать, что длина строки позволяет сохранить дополнительные символы, а фактическая длина строки известна заранее"
   ]
  },
  {
   "cell_type": "code",
   "execution_count": 6,
   "id": "aa3459c6",
   "metadata": {},
   "outputs": [],
   "source": [
    "def task1_3(string_1):\n",
    "    string_2 = string_1.strip().replace(\" \", \"%20\")\n",
    "    return string_2"
   ]
  },
  {
   "cell_type": "markdown",
   "id": "c5633697",
   "metadata": {},
   "source": [
    "#### task 1.4\n",
    "Напишите функцию, которая проверяет, является ли заданная \n",
    "строка перестановкой палиндрома."
   ]
  },
  {
   "cell_type": "code",
   "execution_count": 7,
   "id": "9cda6a0d",
   "metadata": {},
   "outputs": [],
   "source": [
    "def task1_4(string_1):\n",
    "    string_1 = string_1.lower().replace(\" \", \"\")\n",
    "    s1 = {}\n",
    "    for i in string_1:\n",
    "        if i in s1:\n",
    "            s1[i] += 1\n",
    "        else:\n",
    "            s1[i] = 1       \n",
    "    middle = len(string_1)%2\n",
    "    for symb, count in s1.items():\n",
    "        if s1[symb]%2==1:\n",
    "            middle-=1\n",
    "            if middle < 0:\n",
    "                return False     \n",
    "    return True"
   ]
  },
  {
   "cell_type": "markdown",
   "id": "7424965a",
   "metadata": {},
   "source": [
    "#### task 1.5\n",
    "Существуют три вида модифицирующих операций со строками: вставка \n",
    "символа, удаление символа и замена символа. Напишите функцию, \n",
    "которая проверяет, находятся ли две строки на расстоянии одной \n",
    "модификации или нуля модификаций"
   ]
  },
  {
   "cell_type": "code",
   "execution_count": 8,
   "id": "0224821d",
   "metadata": {},
   "outputs": [],
   "source": [
    "def task1_5(string_1, string_2):\n",
    "    if abs(len(string_1) - len(string_2))>1:\n",
    "        return False\n",
    "    mod_count = 0\n",
    "    i = 0\n",
    "    j = 0\n",
    "    while (min(i,j) < min(len(string_1), len(string_2))):\n",
    "        if string_1[i] != string_2[j]:\n",
    "            mod_count+=1\n",
    "            if mod_count>1:\n",
    "                return False\n",
    "            if len(string_1) > len(string_2):\n",
    "                i+=1\n",
    "            elif len(string_1) < len(string_2):\n",
    "                j+=1\n",
    "        i+=1\n",
    "        j+=1\n",
    "    return True"
   ]
  },
  {
   "cell_type": "markdown",
   "id": "96003b5f",
   "metadata": {},
   "source": [
    "#### task 1.6\n",
    "Реализуйте метод для выполнения простейшего сжатия строк с использованием\n",
    "счетчика повторяющихся символов. Например строка aabcccccaaa превращается\n",
    "в a2b1c5a3. Если сжатая строка не становится короче исходной, то метод\n",
    "возвращает исходную строку. Предполагается, что строка состоит только из \n",
    "букв верхнего и нижнего регистра a-z"
   ]
  },
  {
   "cell_type": "code",
   "execution_count": 9,
   "id": "9c8f7450",
   "metadata": {},
   "outputs": [],
   "source": [
    "def task1_6(string):\n",
    "     new_string = \"\"\n",
    "     symb_counter = 1\n",
    "     for i in range(1, len(string)):\n",
    "         if string[i]==string[i-1]:\n",
    "             symb_counter+=1\n",
    "         else:\n",
    "             new_string = new_string + string[i-1] + str(symb_counter)\n",
    "             symb_counter = 1\n",
    "         \n",
    "     if string[-1] != string[-2]:\n",
    "         symb_counter=1 \n",
    "     new_string = new_string + string[-1] + str(symb_counter)\n",
    "     if len(string) > len(new_string):\n",
    "         return new_string\n",
    "     else: \n",
    "         return string"
   ]
  },
  {
   "cell_type": "markdown",
   "id": "aed68c72",
   "metadata": {},
   "source": [
    "#### task 1.7\n",
    "Имеется изображение, представленное матрицей NxN. Каждый пиксель\n",
    "представлен 4 байтами. Напишите метод для поворота изображения на\n",
    "90 градусов. Удастся ли вам выполнить эту операцию \"на месте\""
   ]
  },
  {
   "cell_type": "code",
   "execution_count": 10,
   "id": "b9e594e0",
   "metadata": {},
   "outputs": [],
   "source": [
    "def task1_7(image):\n",
    "    for x in range(len(image[0])):\n",
    "        for y in range(len(image[0])):\n",
    "            pass"
   ]
  },
  {
   "cell_type": "code",
   "execution_count": 11,
   "id": "6e3f158f",
   "metadata": {},
   "outputs": [
    {
     "name": "stdout",
     "output_type": "stream",
     "text": [
      "\n",
      " task 1.1\n",
      "False\n",
      "True\n",
      "\n",
      " task 1.2\n",
      "False\n",
      "True\n",
      "\n",
      " task 1.3\n",
      "Ab cde\n",
      "Ab%20cde\n",
      "\n",
      " task 1.4\n",
      "True\n",
      "False\n",
      "True\n",
      "\n",
      " task 1.5\n",
      "True\n",
      "True\n",
      "True\n",
      "False\n",
      "False\n",
      "\n",
      " task 1.6\n",
      "a2b1c5a3\n"
     ]
    }
   ],
   "source": [
    "if __name__ == \"__main__\":\n",
    "    print(\"\\n task 1.1\")\n",
    "    print(task1_1(\"aaaaa\"))\n",
    "    print(task1_1(\"Ab cde\"))\n",
    "\n",
    "    print(\"\\n task 1.2\")\n",
    "    print(task1_2(\"aaaaa\", \"Ab cde\"))\n",
    "    print(task1_2(\"Ab cde\", \"bcdea\"))\n",
    "\n",
    "    print(\"\\n task 1.3\")\n",
    "    print(\"Ab cde\")\n",
    "    print(task1_3(\"Ab cde\"))\n",
    "\n",
    "    print(\"\\n task 1.4\")\n",
    "    print(task1_4(\"aaaaa\"))\n",
    "    print(task1_4(\"bcdea\"))\n",
    "    print(task1_4(\"abcdcba\"))\n",
    "\n",
    "    print(\"\\n task 1.5\")\n",
    "    print(task1_5(\"pale\", \"ple\"))\n",
    "    print(task1_5(\"pales\", \"pale\"))\n",
    "    print(task1_5(\"pale\", \"bale\"))\n",
    "    print(task1_5(\"pale\", \"bake\"))\n",
    "    print(task1_5(\"pale\", \"bakeeeee\"))\n",
    "\n",
    "    print(\"\\n task 1.6\")\n",
    "    print(task1_6(\"aabcccccaaa\"))\n",
    "\n",
    "    matrix = [[1, 0, 0],[1, 1, 0],[1, 1, 1]]\n",
    "    matrix = [[1, 1, 1],[1, 1, 0],[1, 0, 0]]"
   ]
  }
 ],
 "metadata": {
  "kernelspec": {
   "display_name": "venv",
   "language": "python",
   "name": "python3"
  },
  "language_info": {
   "codemirror_mode": {
    "name": "ipython",
    "version": 3
   },
   "file_extension": ".py",
   "mimetype": "text/x-python",
   "name": "python",
   "nbconvert_exporter": "python",
   "pygments_lexer": "ipython3",
   "version": "3.13.5"
  }
 },
 "nbformat": 4,
 "nbformat_minor": 5
}
