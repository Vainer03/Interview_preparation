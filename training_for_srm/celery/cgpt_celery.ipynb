{
 "cells": [
  {
   "cell_type": "markdown",
   "id": "d08f842a",
   "metadata": {},
   "source": [
    "\n",
    "---\n",
    "\n",
    "# **Модуль 1. Введение в Celery**\n",
    "\n",
    "---\n",
    "\n",
    "## Цель занятия\n",
    "\n",
    "* Понять, **что такое Celery**\n",
    "* Разобраться, **зачем он нужен**\n",
    "* Изучить **архитектуру** (broker, worker, task)\n",
    "* Запустить **первую простую задачу** через Redis\n",
    "\n",
    "---"
   ]
  },
  {
   "cell_type": "markdown",
   "id": "6fe9d520",
   "metadata": {},
   "source": [
    "\n",
    "## Почему Celery?\n",
    "\n",
    "Давайте начнём с вопроса:\n",
    "\n",
    "**Вопрос студентам:** Что произойдёт, если мы отправим письмо пользователю *внутри запроса* веб-приложения?\n",
    "\n",
    "Ответы:\n",
    "\n",
    "* Письмо будет отправляться долго.\n",
    "* Пользователь будет ждать.\n",
    "* Если упадёт SMTP, то и веб-страница тоже сломается.\n",
    "\n",
    "**Правильно.** Мы блокируем пользователя, даже если операция фоновая. А теперь представьте: отправка писем, генерация отчётов, загрузка видео... Все это **фоновая работа**, которая не должна мешать основному приложению.\n",
    "\n",
    "---\n"
   ]
  },
  {
   "cell_type": "markdown",
   "id": "41b11f12",
   "metadata": {},
   "source": [
    "\n",
    "\n",
    "## Что такое Celery?\n",
    "\n",
    "Celery — это **асинхронный планировщик задач**. Он позволяет:\n",
    "\n",
    "* выполнять задачи в **фоновом режиме**,\n",
    "* **откладывать** их на будущее,\n",
    "* запускать задачи **по расписанию**,\n",
    "* **распределять** нагрузку между воркерами,\n",
    "* и всё это с **простым Python-интерфейсом**.\n",
    "\n",
    "---"
   ]
  },
  {
   "cell_type": "markdown",
   "id": "d03c15a6",
   "metadata": {},
   "source": [
    "\n",
    "## Архитектура Celery\n",
    "\n",
    "**Компоненты:**\n",
    "\n",
    "* **Producer (приложение)** — инициирует задачу\n",
    "* **Broker (Redis/RabbitMQ)** — очередь задач\n",
    "* **Worker** — процесс, который обрабатывает задачи\n",
    "* **Backend (необязательно)** — сохраняет результат\n",
    "\n",
    "```plaintext\n",
    "[Flask/Django] -- (отправляет задачу) --> [Redis] -- (читает задачу) --> [Worker] -- (выполняет)\n",
    "```\n",
    "\n",
    "---\n"
   ]
  },
  {
   "cell_type": "markdown",
   "id": "40d056ca",
   "metadata": {},
   "source": [
    "\n",
    "## Установка и первый пример\n",
    "\n",
    "### Шаг 1: Установка\n",
    "\n",
    "```bash\n",
    "pip install celery redis\n",
    "```\n",
    "\n",
    "### Шаг 2: Создаём файл `tasks.py`"
   ]
  },
  {
   "cell_type": "code",
   "execution_count": null,
   "id": "385b27e0",
   "metadata": {},
   "outputs": [],
   "source": [
    "# tasks.py\n",
    "from celery import Celery\n",
    "\n",
    "# Создаём приложение Celery\n",
    "app = Celery('tasks', broker='redis://localhost:6379/0')\n",
    "\n",
    "# Простая задача\n",
    "@app.task\n",
    "def add(x, y):\n",
    "    return x + y"
   ]
  },
  {
   "cell_type": "markdown",
   "id": "8d690e12",
   "metadata": {},
   "source": [
    "\n",
    "Обратите внимание:\n",
    "\n",
    "* `Celery('tasks')` — имя модуля\n",
    "* `broker` — Redis, который будет посредником\n",
    "\n",
    "---"
   ]
  },
  {
   "cell_type": "markdown",
   "id": "f734435b",
   "metadata": {},
   "source": [
    "## Запуск воркера\n",
    "\n",
    "Откройте терминал и запустите воркер:\n",
    "\n",
    "```bash\n",
    "celery -A tasks worker --loglevel=info\n",
    "```\n",
    "\n",
    "Вы увидите примерно следующее:\n",
    "\n",
    "```\n",
    "[tasks]\n",
    "  . tasks.add\n",
    "```\n",
    "\n",
    "---\n"
   ]
  },
  {
   "cell_type": "markdown",
   "id": "146056a5",
   "metadata": {},
   "source": [
    "## Отправка задачи\n",
    "\n",
    "Теперь можно вызвать задачу асинхронно в Python-консоли:"
   ]
  },
  {
   "cell_type": "code",
   "execution_count": null,
   "id": "29a64225",
   "metadata": {},
   "outputs": [],
   "source": [
    "from tasks import add\n",
    "result = add.delay(4, 6)"
   ]
  },
  {
   "cell_type": "markdown",
   "id": "34bef25e",
   "metadata": {},
   "source": [
    "\n",
    "Это **не сразу возвращает результат**, а объект `AsyncResult`.\n",
    "\n",
    "---\n"
   ]
  },
  {
   "cell_type": "code",
   "execution_count": null,
   "id": "f00fb518",
   "metadata": {},
   "outputs": [],
   "source": [
    "result.ready()      # -> True/False\n",
    "result.get()        # -> 10 (после выполнения)"
   ]
  },
  {
   "cell_type": "markdown",
   "id": "e7bd82ef",
   "metadata": {},
   "source": [
    "\n",
    "\n",
    "## Практическое задание\n",
    "\n",
    "### Цель:\n",
    "\n",
    "Запустить свою задачу, которая:\n",
    "\n",
    "* Принимает имя пользователя\n",
    "* Ждёт 5 секунд (имитация отправки письма)\n",
    "* Печатает \"Привет, \\[имя]! Письмо отправлено!\"\n",
    "\n",
    "### Подсказка:"
   ]
  },
  {
   "cell_type": "code",
   "execution_count": null,
   "id": "a5ae9243",
   "metadata": {},
   "outputs": [],
   "source": [
    "import time\n",
    "\n",
    "@app.task\n",
    "def send_email(name):\n",
    "    time.sleep(5)\n",
    "    print(f\"Привет, {name}! Письмо отправлено.\")"
   ]
  },
  {
   "cell_type": "markdown",
   "id": "ad930b50",
   "metadata": {},
   "source": [
    "\n",
    "---\n",
    "\n",
    "## Домашнее задание\n",
    "\n",
    "1. Попробуйте создать ещё одну задачу — `multiply(x, y)`\n",
    "2. Изучите, что такое **Result Backend**, и зачем он нужен\n",
    "3. Прочитайте:\n",
    "\n",
    "   * [Celery First Steps Guide](https://docs.celeryq.dev/en/stable/getting-started/first-steps-with-celery.html)\n",
    "   * [Redis Quick Start](https://redis.io/docs/getting-started/installation/)\n",
    "\n",
    "---\n"
   ]
  },
  {
   "cell_type": "markdown",
   "id": "927bc024",
   "metadata": {},
   "source": []
  },
  {
   "cell_type": "markdown",
   "id": "e2d8b0aa",
   "metadata": {},
   "source": [
    "\n",
    "---\n",
    "\n",
    "# **Модуль 2. Интеграция Celery с Flask (и Django)**\n",
    "\n",
    "---\n",
    "\n",
    "## Цель занятия\n",
    "\n",
    "* Научиться **интегрировать Celery в веб-приложение**\n",
    "* Понять, как **организовать структуру проекта**\n",
    "* Научиться **отправлять задачи из API**\n",
    "* Запустить проект с Celery и Redis\n",
    "\n",
    "---\n"
   ]
  },
  {
   "cell_type": "markdown",
   "id": "b1a60198",
   "metadata": {},
   "source": [
    "\n",
    "## Зачем интеграция?\n",
    "\n",
    "В реальных проектах задачи чаще всего отправляются **из веб-приложения** (например, Flask или Django). Поэтому важно, чтобы Celery работал **внутри** проекта, использовал его конфигурацию и был \"родным\".\n",
    "\n",
    "---\n"
   ]
  },
  {
   "cell_type": "markdown",
   "id": "2349b436",
   "metadata": {},
   "source": [
    "## Структура проекта\n",
    "\n",
    "```plaintext\n",
    "project/\n",
    "├── app/\n",
    "│   ├── __init__.py       ← Flask-приложение\n",
    "│   ├── routes.py         ← Маршруты (API)\n",
    "│   └── tasks.py          ← Celery-задачи\n",
    "├── celery_worker.py      ← Старт воркера\n",
    "├── config.py             ← Конфигурация\n",
    "└── run.py                ← Точка входа\n",
    "```\n",
    "\n",
    "---\n"
   ]
  },
  {
   "cell_type": "markdown",
   "id": "e75e1ce4",
   "metadata": {},
   "source": [
    "\n",
    "\n",
    "## Шаг 1. Установка зависимостей\n",
    "\n",
    "```bash\n",
    "pip install flask celery redis\n",
    "```\n",
    "\n",
    "---"
   ]
  },
  {
   "cell_type": "markdown",
   "id": "1eb15a5a",
   "metadata": {},
   "source": [
    "\n",
    "\n",
    "## Шаг 2. Настройка конфигурации (`config.py`)\n"
   ]
  },
  {
   "cell_type": "code",
   "execution_count": null,
   "id": "f07f6451",
   "metadata": {},
   "outputs": [],
   "source": [
    "class Config:\n",
    "    CELERY_BROKER_URL = 'redis://localhost:6379/0'\n",
    "    CELERY_RESULT_BACKEND = 'redis://localhost:6379/0'"
   ]
  },
  {
   "cell_type": "markdown",
   "id": "da817b09",
   "metadata": {},
   "source": [
    "\n",
    "---\n",
    "\n",
    "## 🔧 Шаг 3. Инициализация Flask (`app/__init__.py`)"
   ]
  },
  {
   "cell_type": "code",
   "execution_count": null,
   "id": "6f5b1795",
   "metadata": {},
   "outputs": [],
   "source": [
    "from flask import Flask\n",
    "from config import Config\n",
    "\n",
    "def create_app():\n",
    "    app = Flask(__name__)\n",
    "    app.config.from_object(Config)\n",
    "\n",
    "    from .routes import bp as main_bp\n",
    "    app.register_blueprint(main_bp)\n",
    "\n",
    "    return app"
   ]
  },
  {
   "cell_type": "markdown",
   "id": "795c03c1",
   "metadata": {},
   "source": [
    "\n",
    "---\n",
    "\n",
    "## 🔧 Шаг 4. Инициализация Celery (`app/tasks.py`)"
   ]
  },
  {
   "cell_type": "code",
   "execution_count": null,
   "id": "4394af27",
   "metadata": {},
   "outputs": [],
   "source": [
    "from celery import Celery\n",
    "\n",
    "celery_app = Celery('tasks')\n",
    "\n",
    "def make_celery(app):\n",
    "    celery_app.conf.update(\n",
    "        broker_url=app.config['CELERY_BROKER_URL'],\n",
    "        result_backend=app.config['CELERY_RESULT_BACKEND'],\n",
    "    )\n",
    "    return celery_app"
   ]
  },
  {
   "cell_type": "markdown",
   "id": "34308c7d",
   "metadata": {},
   "source": [
    "\n",
    "---\n",
    "\n",
    "## 🔧 Шаг 5. Задачи и API (`app/routes.py`)"
   ]
  },
  {
   "cell_type": "code",
   "execution_count": null,
   "id": "56019d66",
   "metadata": {},
   "outputs": [],
   "source": [
    "from flask import Blueprint, request, jsonify\n",
    "from .tasks import celery_app\n",
    "\n",
    "bp = Blueprint('main', __name__)\n",
    "\n",
    "@celery_app.task\n",
    "def long_task(name):\n",
    "    return f\"Привет, {name}! Задача выполнена.\"\n",
    "\n",
    "@bp.route('/run-task', methods=['POST'])\n",
    "def run_task():\n",
    "    data = request.get_json()\n",
    "    task = long_task.delay(data['name'])\n",
    "    return jsonify({\"task_id\": task.id}), 202"
   ]
  },
  {
   "cell_type": "markdown",
   "id": "357b3739",
   "metadata": {},
   "source": [
    "---\n",
    "\n",
    "## 🔧 Шаг 6. Воркеры (`celery_worker.py`)"
   ]
  },
  {
   "cell_type": "code",
   "execution_count": null,
   "id": "99fd767b",
   "metadata": {},
   "outputs": [],
   "source": [
    "from app import create_app\n",
    "from app.tasks import make_celery\n",
    "\n",
    "flask_app = create_app()\n",
    "celery = make_celery(flask_app)\n",
    "\n",
    "# Для запуска: celery -A celery_worker.celery worker --loglevel=info"
   ]
  },
  {
   "cell_type": "markdown",
   "id": "f81de7e3",
   "metadata": {},
   "source": [
    "## 🔧 Шаг 7. Запуск Flask"
   ]
  },
  {
   "cell_type": "code",
   "execution_count": null,
   "id": "f8245180",
   "metadata": {},
   "outputs": [],
   "source": [
    "# run.py\n",
    "from app import create_app\n",
    "\n",
    "app = create_app()\n",
    "\n",
    "if __name__ == \"__main__\":\n",
    "    app.run(debug=True)"
   ]
  },
  {
   "cell_type": "markdown",
   "id": "b551e36c",
   "metadata": {},
   "source": [
    "\n",
    "\n",
    "---\n",
    "\n",
    "## ✅ Проверка\n",
    "\n",
    "1. Запустить Redis:\n",
    "\n",
    "```bash\n",
    "docker run -p 6379:6379 redis\n",
    "```\n",
    "\n",
    "2. Запустить Flask:\n",
    "\n",
    "```bash\n",
    "python run.py\n",
    "```\n",
    "\n",
    "3. Запустить Celery:\n",
    "\n",
    "```bash\n",
    "celery -A celery_worker.celery worker --loglevel=info\n",
    "```\n",
    "\n",
    "4. Отправить POST-запрос:\n",
    "\n",
    "```bash\n",
    "curl -X POST http://localhost:5000/run-task -H \"Content-Type: application/json\" -d '{\"name\": \"Алиса\"}'\n",
    "```\n",
    "\n",
    "---\n"
   ]
  },
  {
   "cell_type": "markdown",
   "id": "5ae2ea94",
   "metadata": {},
   "source": [
    "\n",
    "\n",
    "## Практическое задание\n",
    "\n",
    "### Цель:\n",
    "\n",
    "Сделать задачу, которая:\n",
    "\n",
    "* принимает email,\n",
    "* ждёт 5 секунд,\n",
    "* возвращает \"Письмо на \\[email] отправлено\".\n",
    "\n",
    "1. Создайте новую задачу `send_email(email)`\n",
    "2. Добавьте новый маршрут `/send-email`\n",
    "3. Проверьте, что задача действительно выполняется в фоне\n",
    "\n",
    "---\n"
   ]
  },
  {
   "cell_type": "markdown",
   "id": "6754a9d5",
   "metadata": {},
   "source": [
    "## Домашнее задание\n",
    "\n",
    "1. Реализуйте задачу `multiply(x, y)` в вашем API.\n",
    "2. Попробуйте вызвать `task.get()` из Flask и вернуть результат (будет ждать!).\n",
    "3. Почитайте:\n",
    "\n",
    "   * [Flask + Celery (официальный гайд)](https://docs.celeryq.dev/en/stable/getting-started/first-steps-with-celery.html)\n",
    "   * [Django + Celery](https://docs.celeryq.dev/en/stable/django/first-steps-with-django.html)\n",
    "\n",
    "---\n"
   ]
  },
  {
   "cell_type": "markdown",
   "id": "d496769c",
   "metadata": {},
   "source": [
    "\n"
   ]
  },
  {
   "cell_type": "markdown",
   "id": "30baa0c2",
   "metadata": {},
   "source": [
    "---\n",
    "\n",
    "# **Модуль 3. Очереди и маршрутизация задач в Celery**\n",
    "\n",
    "---\n",
    "\n",
    "## Цель занятия\n",
    "\n",
    "* Научиться **создавать разные очереди задач**\n",
    "* Использовать **маршрутизацию (routing)** задач\n",
    "* Настраивать **воркеры под конкретные очереди**\n",
    "* Понять, зачем нужны **приоритеты и разделение ответственности**\n",
    "\n",
    "---\n"
   ]
  },
  {
   "cell_type": "markdown",
   "id": "d9819ad6",
   "metadata": {},
   "source": [
    "\n",
    "## Зачем нам очереди?\n",
    "\n",
    "Представьте:\n",
    "*Задачи по email* обрабатываются мгновенно.\n",
    "*Задачи по отчётам* занимают 5–10 минут.\n",
    "Если они в одной очереди — письма будут ждать окончания отчётов.\n",
    "\n",
    "**Решение** — создать **две очереди**:\n",
    "\n",
    "* `email_queue`\n",
    "* `report_queue`\n",
    "\n",
    "---\n"
   ]
  },
  {
   "cell_type": "markdown",
   "id": "49a36ed9",
   "metadata": {},
   "source": [
    "\n",
    "\n",
    "## Архитектура с несколькими очередями\n",
    "\n",
    "```plaintext\n",
    "[Flask] → [Redis]\n",
    "               ↓\n",
    "           +--------+\n",
    "           | email  | ← worker 1\n",
    "           +--------+\n",
    "           | report | ← worker 2\n",
    "           +--------+\n",
    "```\n",
    "\n",
    "---\n"
   ]
  },
  {
   "cell_type": "markdown",
   "id": "e22dba20",
   "metadata": {},
   "source": [
    "## Настройка очередей: шаг за шагом\n",
    "\n",
    "---\n",
    "\n",
    "### Шаг 1: Конфигурация `task_routes` (в tasks.py или celery.py)"
   ]
  },
  {
   "cell_type": "code",
   "execution_count": null,
   "id": "b7191e2f",
   "metadata": {},
   "outputs": [],
   "source": [
    "app.conf.task_routes = {\n",
    "    'app.tasks.send_email': {'queue': 'email'},\n",
    "    'app.tasks.generate_report': {'queue': 'report'},\n",
    "}"
   ]
  },
  {
   "cell_type": "markdown",
   "id": "c15e3dc7",
   "metadata": {},
   "source": [
    "\n",
    "---\n",
    "\n",
    "### Шаг 2: Определение задач с разными ролями\n"
   ]
  },
  {
   "cell_type": "code",
   "execution_count": null,
   "id": "c5d9aae6",
   "metadata": {},
   "outputs": [],
   "source": [
    "# app/tasks.py\n",
    "\n",
    "from .celery import app\n",
    "\n",
    "@app.task\n",
    "def send_email(to):\n",
    "    print(f\"Письмо отправлено на {to}\")\n",
    "\n",
    "@app.task\n",
    "def generate_report():\n",
    "    import time\n",
    "    time.sleep(10)\n",
    "    print(\"Отчёт готов.\")"
   ]
  },
  {
   "cell_type": "markdown",
   "id": "7e9a8491",
   "metadata": {},
   "source": [
    "\n",
    "---\n",
    "\n",
    "### Шаг 3: Запуск разных воркеров\n",
    "\n",
    "```bash\n",
    "# Для email задач:\n",
    "celery -A celery_worker.celery worker --loglevel=info --queues=email\n",
    "\n",
    "# Для отчётов:\n",
    "celery -A celery_worker.celery worker --loglevel=info --queues=report\n",
    "```\n",
    "\n",
    "---\n"
   ]
  },
  {
   "cell_type": "markdown",
   "id": "f3c3884e",
   "metadata": {},
   "source": [
    "## Вопросы студентам\n",
    "\n",
    "1. Что произойдёт, если задача попадёт в очередь `report`, но воркеров на неё нет?\n",
    "2. Можно ли один воркер обслуживал несколько очередей?\n",
    "3. А если воркер не указал `--queues` вообще?\n",
    "\n",
    "---\n"
   ]
  },
  {
   "cell_type": "markdown",
   "id": "1d6b5870",
   "metadata": {},
   "source": [
    "\n",
    "## Практика\n",
    "\n",
    "### Цель:\n",
    "\n",
    "Создать два маршрута в Flask:\n",
    "\n",
    "* `/send-email` — отправляет email → `email` очередь\n",
    "* `/build-report` — генерирует отчёт → `report` очередь\n",
    "\n",
    "Затем:\n",
    "\n",
    "* Запустите одного воркера только на `email`\n",
    "* Убедитесь, что `report` задача \"зависает\"\n",
    "* Запустите второго воркера на `report` — и она пойдёт!\n",
    "\n",
    "---\n"
   ]
  },
  {
   "cell_type": "markdown",
   "id": "13ddf23e",
   "metadata": {},
   "source": [
    "\n",
    "## Дополнительно: работа с приоритетами\n",
    "\n",
    "> ⚠ Поддерживается **только в RabbitMQ**, а не Redis.\n",
    "\n",
    "```python\n",
    "@app.task(queue='high_priority', priority=9)\n",
    "def urgent_task():\n",
    "    ...\n",
    "```\n",
    "\n",
    "---\n"
   ]
  },
  {
   "cell_type": "markdown",
   "id": "b38d9e59",
   "metadata": {},
   "source": [
    "\n",
    "## Расширенное задание (на 5+)\n",
    "\n",
    "### Цель:\n",
    "\n",
    "* Создать 3 очереди: `email`, `report`, `image`\n",
    "* Разбить задачи на 3 модуля\n",
    "* Запустить 3 отдельных воркера\n",
    "* Сделать общий `/status/<task_id>` маршрут\n",
    "\n",
    "---\n"
   ]
  },
  {
   "cell_type": "markdown",
   "id": "f85e6ece",
   "metadata": {},
   "source": [
    "\n",
    "\n",
    "## Домашнее задание\n",
    "\n",
    "1. Разобраться с `task_routes`, `task_default_queue`\n",
    "2. Добавить очередь `low_priority`, протестировать\n",
    "3. Прочитать:\n",
    "\n",
    "   * [Routing Tasks — Celery Docs](https://docs.celeryq.dev/en/stable/userguide/routing.html)\n",
    "   * [Multiple Workers with Queues](https://docs.celeryq.dev/en/stable/userguide/workers.html#assigning-queues-to-workers)\n",
    "\n",
    "---\n"
   ]
  },
  {
   "cell_type": "markdown",
   "id": "74cb5c95",
   "metadata": {},
   "source": []
  },
  {
   "cell_type": "markdown",
   "id": "679c396e",
   "metadata": {},
   "source": [
    "\n",
    "---\n",
    "\n",
    "# **Модуль 4. Периодические задачи и планировщик Celery Beat**\n",
    "\n",
    "---\n",
    "\n",
    "## Цель занятия\n",
    "\n",
    "* Познакомиться с **Celery Beat** — встроенным планировщиком\n",
    "* Научиться запускать задачи **по расписанию**\n",
    "* Разобраться с форматами расписания: `interval`, `crontab`\n",
    "* Освоить хранение расписания в памяти и в базе данных (django-celery-beat)\n",
    "\n",
    "---\n"
   ]
  },
  {
   "cell_type": "markdown",
   "id": "14f0ae21",
   "metadata": {},
   "source": [
    "## Зачем нужен планировщик?\n",
    "\n",
    "Вопрос:\n",
    "\n",
    "Как бы вы реализовали задачу \"отправлять отчёт каждый день в 9:00\"?\n",
    "\n",
    "Варианты:\n",
    "\n",
    "* Cron? → Слишком низкоуровнево\n",
    "* Отдельный скрипт? → Непрозрачно и сложно масштабировать\n",
    "* ✅ Celery Beat? → Да, он создан именно для этого!\n",
    "\n",
    "---\n"
   ]
  },
  {
   "cell_type": "markdown",
   "id": "b03b6880",
   "metadata": {},
   "source": [
    "\n",
    "## Что такое Celery Beat?\n",
    "\n",
    "Это **планировщик задач**, работающий в отдельном процессе.\n",
    "Он **периодически отправляет задачи** в брокер (Redis или RabbitMQ), а воркеры выполняют их как обычные `@app.task`.\n",
    "\n",
    "```plaintext\n",
    "[ Beat ] —> [ Redis ] —> [ Worker ]\n",
    "       каждые 10 секунд\n",
    "```\n",
    "\n",
    "---\n"
   ]
  },
  {
   "cell_type": "markdown",
   "id": "483f0d1f",
   "metadata": {},
   "source": [
    "\n",
    "## Установка\n",
    "\n",
    "```bash\n",
    "pip install celery redis\n",
    "```\n",
    "\n",
    "Если используете Django:\n",
    "\n",
    "```bash\n",
    "pip install django-celery-beat\n",
    "```\n",
    "\n",
    "---\n"
   ]
  },
  {
   "cell_type": "markdown",
   "id": "bdfe24fa",
   "metadata": {},
   "source": [
    "\n",
    "## Пример с Flask\n",
    "\n",
    "---\n",
    "\n",
    "### Задача: `say_hello`\n"
   ]
  },
  {
   "cell_type": "code",
   "execution_count": null,
   "id": "cf450620",
   "metadata": {},
   "outputs": [],
   "source": [
    "# app/tasks.py\n",
    "\n",
    "from .celery import app\n",
    "from datetime import datetime\n",
    "\n",
    "@app.task\n",
    "def say_hello():\n",
    "    print(f\"[{datetime.now()}] Привет! Я периодическая задача.\")"
   ]
  },
  {
   "cell_type": "markdown",
   "id": "7db05488",
   "metadata": {},
   "source": [
    "\n",
    "---\n",
    "\n",
    "### Настройка расписания (`celery.py`)"
   ]
  },
  {
   "cell_type": "code",
   "execution_count": null,
   "id": "b3e5c4b0",
   "metadata": {},
   "outputs": [],
   "source": [
    "from celery.schedules import crontab\n",
    "\n",
    "app.conf.beat_schedule = {\n",
    "    'say-hello-every-10-seconds': {\n",
    "        'task': 'app.tasks.say_hello',\n",
    "        'schedule': 10.0,  # каждые 10 секунд\n",
    "    },\n",
    "    'say-hello-at-9am': {\n",
    "        'task': 'app.tasks.say_hello',\n",
    "        'schedule': crontab(hour=9, minute=0),  # каждый день в 09:00\n",
    "    },\n",
    "}"
   ]
  },
  {
   "cell_type": "markdown",
   "id": "7837f116",
   "metadata": {},
   "source": [
    "\n",
    "---\n",
    "\n",
    "### Запуск\n",
    "\n",
    "1. Redis:\n",
    "\n",
    "```bash\n",
    "docker run -p 6379:6379 redis\n",
    "```\n",
    "\n",
    "2. Воркеры:\n",
    "\n",
    "```bash\n",
    "celery -A celery_worker.celery worker --loglevel=info\n",
    "```\n",
    "\n",
    "3. Beat-процесс:\n",
    "\n",
    "```bash\n",
    "celery -A celery_worker.celery beat --loglevel=info\n",
    "```\n",
    "\n",
    "> ⚠ `celery_worker.celery` — путь до вашего Celery-приложения (как в предыдущих модулях)\n",
    "\n",
    "---\n"
   ]
  },
  {
   "cell_type": "markdown",
   "id": "137cd3bb",
   "metadata": {},
   "source": [
    "\n",
    "## Вопросы студентам\n",
    "\n",
    "1. В чём разница между `interval` и `crontab`?\n",
    "2. Почему Celery Beat — это отдельный процесс?\n",
    "3. Можно ли планировать задачи с аргументами?\n",
    "\n",
    "> Да, можно:\n",
    "\n",
    "```python\n",
    "'send-reminder': {\n",
    "    'task': 'app.tasks.send_email',\n",
    "    'schedule': crontab(hour=15, minute=30),\n",
    "    'args': ['user@example.com']\n",
    "}\n",
    "```\n",
    "\n",
    "---\n"
   ]
  },
  {
   "cell_type": "markdown",
   "id": "2f5b26b3",
   "metadata": {},
   "source": [
    "\n",
    "## Практика\n",
    "\n",
    "Цель:\n",
    "\n",
    "* Создать задачу `print_time()`, которая печатает текущее время\n",
    "* Запустить её каждые 30 секунд\n",
    "* Использовать `crontab()` для запуска в определённое время\n",
    "\n",
    "---\n",
    "\n",
    "## Django: использование `django-celery-beat`\n",
    "\n",
    "1. Установка:\n",
    "\n",
    "```bash\n",
    "pip install django-celery-beat\n",
    "```\n",
    "\n",
    "2. Добавьте `'django_celery_beat'` в `INSTALLED_APPS`\n",
    "\n",
    "3. Миграции:\n",
    "\n",
    "```bash\n",
    "python manage.py migrate\n",
    "```\n",
    "\n",
    "4. В `settings.py`:\n",
    "\n",
    "```python\n",
    "CELERY_BEAT_SCHEDULER = 'django_celery_beat.schedulers:DatabaseScheduler'\n",
    "```\n",
    "\n",
    "Теперь вы можете создавать периодические задачи **через админку** 🧙\n",
    "\n",
    "---\n"
   ]
  },
  {
   "cell_type": "markdown",
   "id": "6f18d98b",
   "metadata": {},
   "source": [
    "\n",
    "## 🛠 Полезные форматы crontab\n",
    "\n",
    "```python\n",
    "# Каждый час\n",
    "crontab(minute=0)\n",
    "\n",
    "# Каждый понедельник в 8 утра\n",
    "crontab(minute=0, hour=8, day_of_week=1)\n",
    "\n",
    "# Каждые 5 минут\n",
    "crontab(minute='*/5')\n",
    "```\n",
    "\n",
    "Полный справочник: [https://crontab.guru](https://crontab.guru)\n",
    "\n",
    "---\n"
   ]
  },
  {
   "cell_type": "markdown",
   "id": "3cdbd57c",
   "metadata": {},
   "source": [
    "\n",
    "## Домашнее задание\n",
    "\n",
    "1. Настроить Beat для своей задачи (любая из предыдущих)\n",
    "2. Сделать расписание по `crontab` и `interval`\n",
    "3. Почитать:\n",
    "\n",
    "   * [Periodic Tasks (официально)](https://docs.celeryq.dev/en/stable/userguide/periodic-tasks.html)\n",
    "   * [Crontab guide](https://crontab.guru)\n",
    "   * (если Django) [django-celery-beat](https://django-celery-beat.readthedocs.io/en/latest/)\n",
    "\n",
    "---\n"
   ]
  },
  {
   "cell_type": "markdown",
   "id": "49d60b34",
   "metadata": {},
   "source": []
  },
  {
   "cell_type": "markdown",
   "id": "9ab57a6a",
   "metadata": {},
   "source": [
    "\n",
    "---\n",
    "\n",
    "# **Модуль 5. Мониторинг и отладка задач в Celery**\n",
    "\n",
    "---\n"
   ]
  },
  {
   "cell_type": "markdown",
   "id": "30409bea",
   "metadata": {},
   "source": [
    "\n",
    "## Цель занятия\n",
    "\n",
    "* Научиться **отслеживать задачи в реальном времени**\n",
    "* Использовать **Flower** — веб-интерфейс для мониторинга\n",
    "* Добавить **повторы задач (retries)** при ошибках\n",
    "* Ограничивать выполнение задач по времени (`time_limit`)\n",
    "* Вести **логгирование выполнения задач**\n",
    "\n",
    "---"
   ]
  },
  {
   "cell_type": "markdown",
   "id": "8d6cc3ba",
   "metadata": {},
   "source": [
    "\n",
    "## Введение: почему это важно?\n",
    "\n",
    "Представьте: у вас 10 фоновых задач, и одна из них **молча падает раз в день**. Без мониторинга вы можете даже не узнать об этом.\n",
    "\n",
    "> Мониторинг — ключ к стабильной работе асинхронных систем.\n",
    "\n",
    "---\n"
   ]
  },
  {
   "cell_type": "markdown",
   "id": "4c7b56bf",
   "metadata": {},
   "source": [
    "\n",
    "## Часть 1. Flower — веб-интерфейс Celery\n",
    "\n",
    "---\n",
    "\n",
    "### Установка\n",
    "\n",
    "```bash\n",
    "pip install flower\n",
    "```\n",
    "\n",
    "---\n",
    "\n",
    "### Запуск\n",
    "\n",
    "```bash\n",
    "celery -A celery_worker.celery flower --port=5555\n",
    "```\n",
    "\n",
    "🌐 Затем откройте браузер:\n",
    "\n",
    "```plaintext\n",
    "http://localhost:5555\n",
    "```\n",
    "\n",
    "---\n",
    "\n",
    "### Что можно увидеть?\n",
    "\n",
    "* Активные задачи\n",
    "* Успешные/неудачные задачи\n",
    "* Очереди и воркеры\n",
    "* Графики производительности\n",
    "* Ручной запуск и удаление задач (через API)\n",
    "\n",
    "---\n",
    "\n",
    "### Практика:\n",
    "\n",
    "* Запустите задачу `add.delay(3, 4)`\n",
    "* Перейдите в Flower → Tasks\n",
    "* Посмотрите:\n",
    "\n",
    "  * task\\_id\n",
    "  * args\n",
    "  * статус\n",
    "  * время выполнения\n",
    "\n",
    "---\n"
   ]
  },
  {
   "cell_type": "markdown",
   "id": "694930ba",
   "metadata": {},
   "source": [
    "## Часть 2. Повтор задач (`retry`)\n",
    "\n",
    "---\n",
    "\n",
    "### Почему retry?\n",
    "\n",
    "Иногда задача падает по временной ошибке (например, нет интернета).\n",
    "\n",
    "---\n",
    "\n",
    "### Пример:\n",
    "\n",
    "```python\n",
    "@app.task(bind=True, max_retries=3, default_retry_delay=5)\n",
    "def unstable_task(self):\n",
    "    try:\n",
    "        raise ValueError(\"Что-то пошло не так!\")\n",
    "    except Exception as exc:\n",
    "        raise self.retry(exc=exc)\n",
    "```\n",
    "\n",
    "🔁 Повторится максимум 3 раза, каждые 5 секунд.\n",
    "\n",
    "---\n",
    "\n",
    "### Вопросы студентам\n",
    "\n",
    "1. Зачем `bind=True`?\n",
    "   → Чтобы иметь доступ к `self.retry()`\n",
    "\n",
    "2. Можно ли сделать экспоненциальную задержку?\n",
    "   → Да, можно реализовать самостоятельно с `countdown=...`\n",
    "\n",
    "---\n"
   ]
  },
  {
   "cell_type": "markdown",
   "id": "115d5c34",
   "metadata": {},
   "source": [
    "\n",
    "## Часть 3. Ограничения времени (`time_limit`)\n",
    "\n",
    "---\n",
    "\n",
    "### Пример:\n",
    "\n",
    "```python\n",
    "@app.task(time_limit=10, soft_time_limit=5)\n",
    "def long_task():\n",
    "    import time\n",
    "    time.sleep(8)\n",
    "```\n",
    "\n",
    "* `soft_time_limit`: задача **получит сигнал прерывания**, но сможет поймать `SoftTimeLimitExceeded`\n",
    "* `time_limit`: процесс будет **насильно завершён**\n",
    "\n",
    "---\n",
    "\n",
    "### Практика:\n",
    "\n",
    "Создайте задачу, которая \"спит\" 10 секунд,\n",
    "а `soft_time_limit` = 3.\n",
    "→ Ловите исключение и печатайте: `\"Задача прервана\"`.\n",
    "\n",
    "```python\n",
    "from celery.exceptions import SoftTimeLimitExceeded\n",
    "\n",
    "@app.task(soft_time_limit=3)\n",
    "def sleepy():\n",
    "    try:\n",
    "        time.sleep(10)\n",
    "    except SoftTimeLimitExceeded:\n",
    "        print(\"Задача прервана: превышен лимит\")\n",
    "```\n",
    "\n",
    "---\n"
   ]
  },
  {
   "cell_type": "markdown",
   "id": "057f78df",
   "metadata": {},
   "source": [
    "\n",
    "\n",
    "## Часть 4. Логгирование задач\n",
    "\n",
    "---\n",
    "\n",
    "### Использование встроенного логгера Celery\n",
    "\n",
    "```python\n",
    "import logging\n",
    "\n",
    "logger = logging.getLogger(__name__)\n",
    "\n",
    "@app.task\n",
    "def log_example():\n",
    "    logger.info(\"Задача началась\")\n",
    "    logger.warning(\"Что-то подозрительное\")\n",
    "    logger.error(\"Ошибка произошла\")\n",
    "```\n",
    "\n",
    "🔍 Вывод будет в консоль воркера и, при необходимости, в файл (если настроен логгер).\n",
    "\n",
    "---\n"
   ]
  },
  {
   "cell_type": "markdown",
   "id": "8766bc8f",
   "metadata": {},
   "source": [
    "\n",
    "## Часть 5. Получение статуса задач\n",
    "\n",
    "---\n",
    "\n",
    "### Как получить результат задачи по ID\n",
    "\n",
    "```python\n",
    "from celery.result import AsyncResult\n",
    "\n",
    "@app.route(\"/status/<task_id>\")\n",
    "def get_status(task_id):\n",
    "    result = AsyncResult(task_id, app=celery)\n",
    "    return {\n",
    "        \"state\": result.state,\n",
    "        \"result\": result.result if result.ready() else None\n",
    "    }\n",
    "```\n",
    "\n",
    "---\n"
   ]
  },
  {
   "cell_type": "markdown",
   "id": "6ddff470",
   "metadata": {},
   "source": [
    "\n",
    "## Практика: мини-проект\n",
    "\n",
    "### Цель:\n",
    "\n",
    "* Создать задачу, которая иногда падает (`random.random() < 0.3`)\n",
    "* Добавить `retry` и `time_limit`\n",
    "* Отправить задачу через Flask и следить за ней в Flower\n",
    "* Создать `/status/<task_id>` маршрут для просмотра состояния\n",
    "\n",
    "---\n"
   ]
  },
  {
   "cell_type": "markdown",
   "id": "99e6e51f",
   "metadata": {},
   "source": [
    "\n",
    "\n",
    "## Домашнее задание\n",
    "\n",
    "1. Настроить Flower и выполнить 3 задачи подряд\n",
    "2. Написать задачу, которая:\n",
    "\n",
    "   * логирует шаги\n",
    "   * падает с вероятностью 50%\n",
    "   * делает retry 2 раза\n",
    "3. Прочитать:\n",
    "\n",
    "   * [Retrying Tasks](https://docs.celeryq.dev/en/stable/userguide/tasks.html#retrying)\n",
    "   * [Time limits](https://docs.celeryq.dev/en/stable/userguide/tasks.html#task-time-limit)\n",
    "   * [Flower GitHub](https://github.com/mher/flower)\n",
    "\n",
    "---\n",
    "\n"
   ]
  },
  {
   "cell_type": "markdown",
   "id": "7575fa0a",
   "metadata": {},
   "source": []
  },
  {
   "cell_type": "markdown",
   "id": "787fecd4",
   "metadata": {},
   "source": [
    "\n",
    "---\n",
    "\n",
    "# **Модуль 6. Продакшн, Docker, масштабирование и мониторинг Celery**\n",
    "\n",
    "---\n",
    "\n",
    "## Цель занятия\n",
    "\n",
    "* Упаковать Celery-проект в **Docker**\n",
    "* Организовать **масштабируемую архитектуру**\n",
    "* Настроить **отдельные воркеры по очередям**\n",
    "* Визуализировать метрики с помощью **OpenTelemetry + Jaeger**\n",
    "* Понять ключевые принципы продакшн-развёртывания\n",
    "\n",
    "---\n"
   ]
  },
  {
   "cell_type": "markdown",
   "id": "db482981",
   "metadata": {},
   "source": [
    "\n",
    "## Структура проекта с Docker\n",
    "\n",
    "```plaintext\n",
    "project/\n",
    "├── app/\n",
    "│   ├── __init__.py        ← Flask\n",
    "│   ├── routes.py\n",
    "│   ├── tasks.py           ← Celery\n",
    "├── celery_worker.py       ← Celery entrypoint\n",
    "├── Dockerfile             ← Docker образ для Flask + Celery\n",
    "├── docker-compose.yml     ← Общая оркестрация\n",
    "├── requirements.txt\n",
    "```\n",
    "\n",
    "---\n"
   ]
  },
  {
   "cell_type": "markdown",
   "id": "2767abb6",
   "metadata": {},
   "source": [
    "\n",
    "\n",
    "## Docker: конфигурация\n",
    "\n",
    "---\n",
    "\n",
    "### Dockerfile\n",
    "\n",
    "```dockerfile\n",
    "FROM python:3.11-slim\n",
    "\n",
    "WORKDIR /app\n",
    "\n",
    "COPY . .\n",
    "\n",
    "RUN pip install -r requirements.txt\n",
    "\n",
    "CMD [\"flask\", \"run\", \"--host=0.0.0.0\"]\n",
    "```\n",
    "\n",
    "---\n",
    "\n",
    "### docker-compose.yml\n",
    "\n",
    "```yaml\n",
    "version: '3.8'\n",
    "\n",
    "services:\n",
    "  redis:\n",
    "    image: redis:7\n",
    "    ports:\n",
    "      - \"6379:6379\"\n",
    "\n",
    "  web:\n",
    "    build: .\n",
    "    volumes:\n",
    "      - .:/app\n",
    "    ports:\n",
    "      - \"5000:5000\"\n",
    "    environment:\n",
    "      - FLASK_APP=run.py\n",
    "    depends_on:\n",
    "      - redis\n",
    "\n",
    "  celery:\n",
    "    build: .\n",
    "    command: celery -A celery_worker.celery worker --loglevel=info\n",
    "    depends_on:\n",
    "      - redis\n",
    "\n",
    "  beat:\n",
    "    build: .\n",
    "    command: celery -A celery_worker.celery beat --loglevel=info\n",
    "    depends_on:\n",
    "      - redis\n",
    "\n",
    "  flower:\n",
    "    image: mher/flower\n",
    "    ports:\n",
    "      - \"5555:5555\"\n",
    "    command: flower --broker=redis://redis:6379/0\n",
    "    depends_on:\n",
    "      - redis\n",
    "```\n",
    "\n",
    "---\n",
    "\n",
    "### Запуск\n",
    "\n",
    "```bash\n",
    "docker-compose up --build\n",
    "```\n",
    "\n",
    "---\n"
   ]
  },
  {
   "cell_type": "markdown",
   "id": "dc013415",
   "metadata": {},
   "source": [
    "\n",
    "## Практика: Мини-приложение\n",
    "\n",
    "* Flask API `POST /report` → отправляет задачу `generate_report`\n",
    "* Celery обрабатывает задачу\n",
    "* Flower показывает статус\n",
    "* Redis — брокер\n",
    "* Docker управляет всем\n",
    "\n",
    "---\n"
   ]
  },
  {
   "cell_type": "markdown",
   "id": "69e23734",
   "metadata": {},
   "source": [
    "## Масштабирование Celery\n",
    "\n",
    "---\n",
    "\n",
    "### Вопрос студентам:\n",
    "\n",
    "> Что делать, если одна очередь нагружается в 5 раз больше?\n",
    "\n",
    "Ответ:\n",
    "\n",
    "* Запустить **несколько воркеров** на одну и ту же очередь:\n",
    "\n",
    "```bash\n",
    "celery -A app.tasks worker -Q report -c 4\n",
    "```\n",
    "\n",
    "* Или в docker-compose:\n",
    "\n",
    "```yaml\n",
    "  celery_report:\n",
    "    build: .\n",
    "    command: celery -A celery_worker.celery worker -Q report --loglevel=info\n",
    "```\n",
    "\n",
    "---\n"
   ]
  },
  {
   "cell_type": "markdown",
   "id": "6d9656ca",
   "metadata": {},
   "source": [
    "\n",
    "## Визуализация с OpenTelemetry + Jaeger\n",
    "\n",
    "---\n",
    "\n",
    "### Что такое OpenTelemetry?\n",
    "\n",
    "* Это open-source инструмент для **сбора трейсов и метрик**\n",
    "* Совместим с Flask, Celery, FastAPI и т.д.\n",
    "* Показывает, сколько времени заняла задача, на каком шаге она задержалась, и т.д.\n",
    "\n",
    "---\n",
    "\n",
    "### Интеграция Celery с OTEL\n",
    "\n",
    "```bash\n",
    "pip install opentelemetry-sdk opentelemetry-instrumentation-celery opentelemetry-exporter-otlp\n",
    "```\n",
    "\n",
    "```python\n",
    "# celery.py\n",
    "from opentelemetry.instrumentation.celery import CeleryInstrumentor\n",
    "CeleryInstrumentor().instrument()\n",
    "```\n",
    "\n",
    "---\n",
    "\n",
    "### Jaeger + Docker (дополнительно)\n",
    "\n",
    "Добавьте в `docker-compose.yml`:\n",
    "\n",
    "```yaml\n",
    "  jaeger:\n",
    "    image: jaegertracing/all-in-one:1.43\n",
    "    ports:\n",
    "      - \"16686:16686\"\n",
    "      - \"6831:6831/udp\"\n",
    "```\n",
    "\n",
    "Перейдите на `http://localhost:16686` — и вы увидите трейсы!\n",
    "\n",
    "---"
   ]
  },
  {
   "cell_type": "markdown",
   "id": "24ca05f0",
   "metadata": {},
   "source": [
    "\n",
    "\n",
    "\n",
    "## Практика: Метрики + трассировка\n",
    "\n",
    "1. Отправьте задачу `process_data()`\n",
    "2. Отследите её в **Flower**\n",
    "3. Отследите её в **Jaeger** (если настроено OTEL)\n",
    "4. Посмотрите длительность, шаги, ошибки\n",
    "\n",
    "---\n"
   ]
  },
  {
   "cell_type": "markdown",
   "id": "42e00bfe",
   "metadata": {},
   "source": [
    "## Рекомендации для продакшена\n",
    "\n",
    "* Использовать **RabbitMQ** в проде (лучше надёжность)\n",
    "* Хранить результат задач через `CELERY_RESULT_BACKEND` (Postgres, Redis)\n",
    "* Настроить **healthcheck** для воркеров и брокеров\n",
    "* Использовать **rate limiting** и **timeouts**\n",
    "* Делать **авто-retry** на временные ошибки\n",
    "\n",
    "---\n"
   ]
  },
  {
   "cell_type": "markdown",
   "id": "7df31d26",
   "metadata": {},
   "source": [
    "## Домашнее задание\n",
    "\n",
    "1. Собрать проект в Docker с 3 сервисами: Flask, Celery, Redis\n",
    "2. Добавить Beat и Flower\n",
    "3. Протестировать:\n",
    "\n",
    "   * одну очередь с двумя воркерами\n",
    "   * задачу, которая падает и ретраится\n",
    "4. Дополнительно (⭐):\n",
    "\n",
    "   * подключить OpenTelemetry + Jaeger\n",
    "   * визуализировать задачу `generate_report` в трейсах\n",
    "\n",
    "---\n"
   ]
  },
  {
   "cell_type": "markdown",
   "id": "fcfbd793",
   "metadata": {},
   "source": []
  },
  {
   "cell_type": "markdown",
   "id": "609cbb15",
   "metadata": {},
   "source": [
    "\n",
    "\n",
    "---\n",
    "\n",
    "# 🧾 Шпаргалка по Celery\n",
    "\n",
    "---\n",
    "\n",
    "## Установка\n",
    "\n",
    "```bash\n",
    "pip install celery redis\n",
    "```\n",
    "\n",
    "---"
   ]
  },
  {
   "cell_type": "markdown",
   "id": "262918ca",
   "metadata": {},
   "source": [
    "## Быстрый старт"
   ]
  },
  {
   "cell_type": "code",
   "execution_count": null,
   "id": "60f85250",
   "metadata": {},
   "outputs": [],
   "source": [
    "# celery_worker.py\n",
    "from celery import Celery\n",
    "\n",
    "celery = Celery(\n",
    "    'my_app',\n",
    "    broker='redis://localhost:6379/0',\n",
    "    backend='redis://localhost:6379/0'\n",
    ")\n",
    "\n",
    "@celery.task\n",
    "def add(x, y):\n",
    "    return x + y"
   ]
  },
  {
   "cell_type": "markdown",
   "id": "d409b9ff",
   "metadata": {},
   "source": [
    "\n",
    "```bash\n",
    "celery -A celery_worker.celery worker --loglevel=info\n",
    "```\n",
    "\n",
    "---"
   ]
  },
  {
   "cell_type": "markdown",
   "id": "19133f1e",
   "metadata": {},
   "source": [
    "## Вызов задач\n"
   ]
  },
  {
   "cell_type": "code",
   "execution_count": null,
   "id": "17aa52e3",
   "metadata": {},
   "outputs": [],
   "source": [
    "from training_for_srm.celery.project1.celery_worker import add\n",
    "\n",
    "add.delay(4, 6)         # Асинхронный вызов\n",
    "add.apply_async((4, 6)) # С аргументами и опциями"
   ]
  },
  {
   "cell_type": "markdown",
   "id": "8671ae5a",
   "metadata": {},
   "source": [
    "\n",
    "---\n",
    "\n",
    "## Аргументы и опции"
   ]
  },
  {
   "cell_type": "code",
   "execution_count": null,
   "id": "a58935f3",
   "metadata": {},
   "outputs": [],
   "source": [
    "add.apply_async((2, 3), countdown=10)   # через 10 секунд\n",
    "add.apply_async((2, 3), eta=some_date)  # в точное время\n",
    "add.apply_async((2, 3), retry=True)     # с авто-повторами"
   ]
  },
  {
   "cell_type": "markdown",
   "id": "1f495979",
   "metadata": {},
   "source": [
    "\n",
    "---\n",
    "\n",
    "## Результаты\n"
   ]
  },
  {
   "cell_type": "code",
   "execution_count": null,
   "id": "4f4ffd96",
   "metadata": {},
   "outputs": [],
   "source": [
    "result = add.delay(5, 5)\n",
    "result.ready()      # True/False\n",
    "result.get(timeout=10)"
   ]
  },
  {
   "cell_type": "markdown",
   "id": "5a19e176",
   "metadata": {},
   "source": [
    "\n",
    "---\n",
    "\n",
    "## Конфигурация (примеры)\n"
   ]
  },
  {
   "cell_type": "code",
   "execution_count": null,
   "id": "675f53a4",
   "metadata": {},
   "outputs": [],
   "source": [
    "celery.conf.update(\n",
    "    task_serializer='json',\n",
    "    result_backend='redis://localhost:6379/0',\n",
    "    timezone='Europe/Moscow',\n",
    "    enable_utc=True,\n",
    "    task_track_started=True,\n",
    "    broker_connection_retry_on_startup=True\n",
    ")"
   ]
  },
  {
   "cell_type": "markdown",
   "id": "b483ba69",
   "metadata": {},
   "source": [
    "\n",
    "---\n",
    "\n",
    "## Очереди и маршрутизация"
   ]
  },
  {
   "cell_type": "code",
   "execution_count": null,
   "id": "29d48f59",
   "metadata": {},
   "outputs": [],
   "source": [
    "@app.task(queue='priority')\n",
    "def high_priority_task():\n",
    "    ..."
   ]
  },
  {
   "cell_type": "markdown",
   "id": "b11fe7ee",
   "metadata": {},
   "source": [
    "\n",
    "```bash\n",
    "celery -A celery_worker.celery worker -Q priority\n",
    "```\n",
    "\n",
    "---\n"
   ]
  },
  {
   "cell_type": "markdown",
   "id": "a1fef877",
   "metadata": {},
   "source": [
    "## Retry & Error Handling"
   ]
  },
  {
   "cell_type": "code",
   "execution_count": null,
   "id": "a3a4929c",
   "metadata": {},
   "outputs": [],
   "source": [
    "from celery.exceptions import Retry\n",
    "\n",
    "@celery.task(bind=True, max_retries=3)\n",
    "def unreliable(self):\n",
    "    try:\n",
    "        do_something()\n",
    "    except Exception as exc:\n",
    "        raise self.retry(exc=exc, countdown=5)"
   ]
  },
  {
   "cell_type": "markdown",
   "id": "1beca625",
   "metadata": {},
   "source": [
    "\n",
    "---\n",
    "\n",
    "## Beat (периодические задачи)\n",
    "\n",
    "```bash\n",
    "pip install celery[redis]  # если нужен redis scheduler\n",
    "```\n"
   ]
  },
  {
   "cell_type": "code",
   "execution_count": null,
   "id": "64786d3a",
   "metadata": {},
   "outputs": [],
   "source": [
    "# celery_worker.py\n",
    "from celery.schedules import crontab\n",
    "\n",
    "celery.conf.beat_schedule = {\n",
    "    'every-minute': {\n",
    "        'task': 'my_app.tasks.cleanup',\n",
    "        'schedule': crontab(minute='*/1'),\n",
    "    },\n",
    "}"
   ]
  },
  {
   "cell_type": "markdown",
   "id": "83ec60e6",
   "metadata": {},
   "source": [
    "\n",
    "```bash\n",
    "celery -A celery_worker.celery beat\n",
    "```\n",
    "\n",
    "---"
   ]
  },
  {
   "cell_type": "markdown",
   "id": "ee8cd255",
   "metadata": {},
   "source": [
    "\n",
    "## Flower (мониторинг)\n",
    "\n",
    "```bash\n",
    "pip install flower\n",
    "celery -A celery_worker.celery flower\n",
    "# http://localhost:5555\n",
    "```\n",
    "\n",
    "---"
   ]
  },
  {
   "cell_type": "markdown",
   "id": "2cec8222",
   "metadata": {},
   "source": [
    "\n",
    "## Docker + Compose\n",
    "\n",
    "```yaml\n",
    "services:\n",
    "  redis:\n",
    "    image: redis:7\n",
    "\n",
    "  web:\n",
    "    build: .\n",
    "    ports: [\"5000:5000\"]\n",
    "\n",
    "  celery:\n",
    "    build: .\n",
    "    command: celery -A celery_worker.celery worker\n",
    "\n",
    "  beat:\n",
    "    build: .\n",
    "    command: celery -A celery_worker.celery beat\n",
    "\n",
    "  flower:\n",
    "    image: mher/flower\n",
    "    ports: [\"5555:5555\"]\n",
    "```\n"
   ]
  },
  {
   "cell_type": "markdown",
   "id": "35b8a273",
   "metadata": {},
   "source": [
    "\n",
    "---\n",
    "\n",
    "## Мониторинг через OpenTelemetry\n",
    "\n",
    "```bash\n",
    "pip install opentelemetry-sdk opentelemetry-instrumentation-celery\n",
    "```"
   ]
  },
  {
   "cell_type": "code",
   "execution_count": null,
   "id": "1c3c87c1",
   "metadata": {},
   "outputs": [],
   "source": [
    "from opentelemetry.instrumentation.celery import CeleryInstrumentor\n",
    "CeleryInstrumentor().instrument()"
   ]
  },
  {
   "cell_type": "markdown",
   "id": "e4bb202c",
   "metadata": {},
   "source": [
    "\n",
    "---\n",
    "\n",
    "## Советы для продакшена\n",
    "\n",
    "* Используйте **RabbitMQ** вместо Redis в нагруженных системах\n",
    "* Настройте **timeouts** и **retries**\n",
    "* Храните **результаты задач** (например, в Redis/PostgreSQL)\n",
    "* Разделяйте задачи по **очередям**\n",
    "* Следите за задачами через **Flower** и **OpenTelemetry**\n",
    "* Обрабатывайте исключения внутри задач\n",
    "\n",
    "---\n"
   ]
  },
  {
   "cell_type": "markdown",
   "id": "c4b556ad",
   "metadata": {},
   "source": [
    "# Project1"
   ]
  },
  {
   "cell_type": "code",
   "execution_count": null,
   "id": "abc55b21",
   "metadata": {},
   "outputs": [],
   "source": [
    "# celery_worker.py\n",
    "from celery import Celery\n",
    "\n",
    "celery = Celery(\n",
    "    'my_app',\n",
    "    broker='redis://localhost:6379/0',  # For Windows host\n",
    "    backend='redis://localhost:6379/0',\n",
    "    broker_connection_retry_on_startup=True\n",
    ")\n",
    "\n",
    "@celery.task\n",
    "def add(x, y):\n",
    "    return x + y"
   ]
  },
  {
   "cell_type": "markdown",
   "id": "f478823d",
   "metadata": {},
   "source": [
    "1. Запустить контейнер redis\n",
    "\n",
    "2. Запустить celery_worker\n",
    "\n",
    "```bash\n",
    "celery -A celery_worker worker --loglevel=info --pool=solo\n",
    "```\n",
    "\n",
    "3. Запустить test.py\n",
    "\n",
    "```bash\n",
    "python test.py\n",
    "```"
   ]
  }
 ],
 "metadata": {
  "kernelspec": {
   "display_name": "venv",
   "language": "python",
   "name": "python3"
  },
  "language_info": {
   "name": "python",
   "version": "3.13.5"
  }
 },
 "nbformat": 4,
 "nbformat_minor": 5
}
