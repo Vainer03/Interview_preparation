{
 "cells": [
  {
   "cell_type": "markdown",
   "id": "41c82704",
   "metadata": {},
   "source": [
    "## 7. Трюки со словарем\n",
    "### 7.1 Значения словаря, принимаемые по умолчанию"
   ]
  },
  {
   "cell_type": "code",
   "execution_count": null,
   "id": "1b8190fd",
   "metadata": {},
   "outputs": [],
   "source": [
    "name_for_userid = {\n",
    "    382: 'Элис',\n",
    "    950: 'Боб',\n",
    "    590: 'Дилберт',\n",
    "}\n",
    "\n",
    "# нет проверки ключа\n",
    "def greeting(userid):\n",
    "    return 'Привет, %s!' % name_for_userid[userid]\n"
   ]
  }
 ],
 "metadata": {
  "kernelspec": {
   "display_name": ".venv",
   "language": "python",
   "name": "python3"
  },
  "language_info": {
   "name": "python",
   "version": "3.13.3"
  }
 },
 "nbformat": 4,
 "nbformat_minor": 5
}
