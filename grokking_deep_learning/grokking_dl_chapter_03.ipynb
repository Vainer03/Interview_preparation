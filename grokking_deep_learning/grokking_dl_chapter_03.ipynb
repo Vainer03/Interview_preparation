{
 "cells": [
  {
   "cell_type": "markdown",
   "id": "ca195fbb",
   "metadata": {},
   "source": [
    "# Простая нейронная сеть, делающая прогноз\n",
    "## Что такое нейронная сеть"
   ]
  },
  {
   "cell_type": "code",
   "execution_count": 1,
   "id": "77bab51f",
   "metadata": {},
   "outputs": [
    {
     "name": "stdout",
     "output_type": "stream",
     "text": [
      "0.8500000000000001\n"
     ]
    }
   ],
   "source": [
    "# The network:\n",
    "\n",
    "weight = 0.1 \n",
    "def neural_network(input, weight):\n",
    "    prediction = input * weight\n",
    "    return prediction\n",
    "\n",
    "# How we use the network to predict something:\n",
    "\n",
    "number_of_toes = [8.5, 9.5, 10, 9]\n",
    "input = number_of_toes[0]\n",
    "pred = neural_network(input,weight)\n",
    "print(pred)"
   ]
  },
  {
   "cell_type": "markdown",
   "id": "0393d173",
   "metadata": {},
   "source": [
    "# Прогнозирование с несколькими входами"
   ]
  },
  {
   "cell_type": "code",
   "execution_count": 2,
   "id": "fd748a8d",
   "metadata": {},
   "outputs": [
    {
     "name": "stdout",
     "output_type": "stream",
     "text": [
      "0.9800000000000001\n"
     ]
    }
   ],
   "source": [
    "def w_sum(a,b):\n",
    "    assert(len(a) == len(b))\n",
    "    output = 0\n",
    "    for i in range(len(a)):\n",
    "        output += (a[i] * b[i])\n",
    "    return output\n",
    "\n",
    "weights = [0.1, 0.2, 0] \n",
    "    \n",
    "def neural_network(input, weights):\n",
    "    pred = w_sum(input,weights)\n",
    "    return pred\n",
    "\n",
    "# This dataset is the current\n",
    "# status at the beginning of\n",
    "# each game for the first 4 games\n",
    "# in a season.\n",
    "\n",
    "# toes = current number of toes\n",
    "# wlrec = current games won (percent)\n",
    "# nfans = fan count (in millions)\n",
    "\n",
    "toes =  [8.5, 9.5, 9.9, 9.0]\n",
    "wlrec = [0.65, 0.8, 0.8, 0.9]\n",
    "nfans = [1.2, 1.3, 0.5, 1.0]\n",
    "\n",
    "# Input corresponds to every entry\n",
    "# for the first game of the season.\n",
    "\n",
    "input = [toes[0],wlrec[0],nfans[0]]\n",
    "pred = neural_network(input,weights)\n",
    "\n",
    "print(pred)"
   ]
  },
  {
   "cell_type": "code",
   "execution_count": null,
   "id": "848e639d",
   "metadata": {},
   "outputs": [],
   "source": [
    "def elementswise_multiplication(vec_a, vec_b):\n",
    "    assert(len(vec_a)==len(vec_b))\n",
    "    vec_c = []\n",
    "    for i in range(len(vec_a)):\n",
    "        vec_c.append(vec_a[i] * vec_b[i])\n",
    "    return vec_c\n",
    "\n",
    "def elementswise_addition(vec_a, vec_b):\n",
    "    assert(len(vec_a)==len(vec_b))\n",
    "    vec_c = []\n",
    "    for i in range(len(vec_a)):\n",
    "        vec_c.append(vec_a[i] * vec_b[i])\n",
    "    return vec_c\n",
    "\n",
    "def vector_sum(vec_a):\n",
    "    result = 0\n",
    "    for i in range(len(vec_a)):\n",
    "        result += vec_a[i]\n",
    "\n",
    "def vector_average(vec_a):\n",
    "    result = 0\n",
    "    for i in range(len(vec_a)):\n",
    "        result += vec_a[i]\n",
    "    result = result/len(vec_a)\n"
   ]
  }
 ],
 "metadata": {
  "kernelspec": {
   "display_name": "venv",
   "language": "python",
   "name": "python3"
  },
  "language_info": {
   "codemirror_mode": {
    "name": "ipython",
    "version": 3
   },
   "file_extension": ".py",
   "mimetype": "text/x-python",
   "name": "python",
   "nbconvert_exporter": "python",
   "pygments_lexer": "ipython3",
   "version": "3.13.7"
  }
 },
 "nbformat": 4,
 "nbformat_minor": 5
}
