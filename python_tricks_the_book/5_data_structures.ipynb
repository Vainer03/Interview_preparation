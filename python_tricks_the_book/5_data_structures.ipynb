{
 "cells": [
  {
   "cell_type": "markdown",
   "id": "f16e5c44",
   "metadata": {},
   "source": [
    "## 5. Общие структуры данных Python\n",
    "### 5.1 Словари, ассоциативные массивы и хеш-таблицы\n",
    "Словари также нередко называют ассоциативными массивами, ассоциативными хэш-таблицами, поисковыми таблицами и таблицами преобразования. Они допускают эффективный поиск, вставку и удаление любого объекта, связанного с заданным ключом\n",
    "\n",
    "#### dict - ваш дежурный словарь\n",
    "Словари индексируются ключами, у которых может быть любой хешируемый тип: хешируемый объект имеет хеш-значениеЮ которое не меняется в течение его жизни ```__hash__``` и его можно сравнивать с другими объектами ```__eq__```. В качестве ключей словаря можно использовать строковые значения и числа, а также объекты-кортежи если их содержэимое тоже хешируется"
   ]
  },
  {
   "cell_type": "code",
   "execution_count": 2,
   "id": "5f52dd1b",
   "metadata": {},
   "outputs": [
    {
     "name": "stdout",
     "output_type": "stream",
     "text": [
      "7387\n",
      "{0: 0, 1: 1, 2: 4, 3: 9, 4: 16, 5: 25}\n"
     ]
    }
   ],
   "source": [
    "phonebook = {\n",
    "    'Bob': 7387,\n",
    "    'Elis': 3719,\n",
    "    'Jack': 7052,\n",
    "}\n",
    "\n",
    "squares = {x: x * x for x in range(6)}\n",
    "\n",
    "print(phonebook['Bob'])\n",
    "print(squares)"
   ]
  },
  {
   "cell_type": "markdown",
   "id": "d25213eb",
   "metadata": {},
   "source": [
    "#### collections.OrderedDict - помнят порядок вставки ключей"
   ]
  },
  {
   "cell_type": "code",
   "execution_count": 5,
   "id": "21e9b25c",
   "metadata": {},
   "outputs": [
    {
     "name": "stdout",
     "output_type": "stream",
     "text": [
      "OrderedDict({'one': 1, 'two': 2, 'three': 3})\n",
      "OrderedDict({'one': 1, 'two': 2, 'three': 3, 'четыре': 4})\n",
      "odict_keys(['one', 'two', 'three', 'четыре'])\n"
     ]
    }
   ],
   "source": [
    "import collections\n",
    "d = collections.OrderedDict(one = 1, two = 2, three = 3)\n",
    "print(d)\n",
    "\n",
    "d['четыре'] = 4\n",
    "print(d)\n",
    "\n",
    "print(d.keys())"
   ]
  },
  {
   "cell_type": "markdown",
   "id": "bce9a4bb",
   "metadata": {},
   "source": [
    "#### collections.defaultdict - возвращает значения, заданные по умолчанию для отсуствующих ключей"
   ]
  },
  {
   "cell_type": "code",
   "execution_count": null,
   "id": "fb485e3b",
   "metadata": {},
   "outputs": [
    {
     "name": "stdout",
     "output_type": "stream",
     "text": [
      "['Руфус', 'Кэтрин', 'Сниф']\n"
     ]
    }
   ],
   "source": [
    "from collections import defaultdict\n",
    "dd = defaultdict(list) # list - значение по умолчанию\n",
    "dd['собаки'].append('Руфус')\n",
    "dd['собаки'].append('Кэтрин')\n",
    "dd['собаки'].append('Сниф')\n",
    "print(dd['собаки'])"
   ]
  },
  {
   "cell_type": "markdown",
   "id": "06381a3b",
   "metadata": {},
   "source": [
    "#### collections.ChainMap - производит поиск в многочисленных словарях как в одной таблице соответствия"
   ]
  },
  {
   "cell_type": "code",
   "execution_count": 7,
   "id": "eb00dece",
   "metadata": {},
   "outputs": [
    {
     "name": "stdout",
     "output_type": "stream",
     "text": [
      "ChainMap({'один': 1, 'два': 2}, {'три': 3, 'четыре': 4})\n",
      "1\n",
      "3\n"
     ]
    }
   ],
   "source": [
    "from collections import ChainMap\n",
    "dict1 = {'один': 1, 'два': 2}\n",
    "dict2 = {'три': 3, 'четыре': 4}\n",
    "chain = ChainMap(dict1, dict2)\n",
    "print(chain)\n",
    "print(chain['один'])\n",
    "print(chain['три'])"
   ]
  },
  {
   "cell_type": "markdown",
   "id": "d7cd8b27",
   "metadata": {},
   "source": [
    "#### types.MappingProxyType - обертка для создания словарей только для чтения"
   ]
  },
  {
   "cell_type": "code",
   "execution_count": 8,
   "id": "fb06666c",
   "metadata": {},
   "outputs": [
    {
     "name": "stdout",
     "output_type": "stream",
     "text": [
      "1\n"
     ]
    },
    {
     "data": {
      "text/plain": [
       "mappingproxy({'один': 42, 'два': 2})"
      ]
     },
     "execution_count": 8,
     "metadata": {},
     "output_type": "execute_result"
    }
   ],
   "source": [
    "from types import MappingProxyType\n",
    "writable = {'один': 1, 'два': 2}\n",
    "read_only = MappingProxyType(writable) # доступен только для чтения\n",
    "print(read_only['один'])\n",
    "\n",
    "# Изменения в оригинале отражаются в прокси\n",
    "writable['один'] = 42\n",
    "read_only\n"
   ]
  },
  {
   "cell_type": "markdown",
   "id": "ebde32b8",
   "metadata": {},
   "source": [
    "### 5.2 Массивоподобные структуры данных"
   ]
  },
  {
   "cell_type": "code",
   "execution_count": null,
   "id": "72088533",
   "metadata": {},
   "outputs": [],
   "source": []
  }
 ],
 "metadata": {
  "kernelspec": {
   "display_name": ".venv",
   "language": "python",
   "name": "python3"
  },
  "language_info": {
   "codemirror_mode": {
    "name": "ipython",
    "version": 3
   },
   "file_extension": ".py",
   "mimetype": "text/x-python",
   "name": "python",
   "nbconvert_exporter": "python",
   "pygments_lexer": "ipython3",
   "version": "3.13.3"
  }
 },
 "nbformat": 4,
 "nbformat_minor": 5
}
