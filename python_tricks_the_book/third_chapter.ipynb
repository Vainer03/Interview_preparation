{
 "cells": [
  {
   "cell_type": "markdown",
   "id": "b4d12dda",
   "metadata": {},
   "source": [
    "## 3. Эффективные функции\n",
    "### 3.1 Функции Python - это объекты первого класса\n",
    "Функции в python можно присваивать переменным, хранить их в структурах данных, передавать их в качестве аргументов другим функциям и даже возвращать их в качестве значений из других функций"
   ]
  },
  {
   "cell_type": "code",
   "execution_count": 16,
   "id": "30a2644a",
   "metadata": {},
   "outputs": [
    {
     "data": {
      "text/plain": [
       "'ПРИВЕТ!'"
      ]
     },
     "execution_count": 16,
     "metadata": {},
     "output_type": "execute_result"
    }
   ],
   "source": [
    "def yell(text):\n",
    "    return text.upper() + '!'\n",
    "\n",
    "yell('привет')"
   ]
  },
  {
   "cell_type": "markdown",
   "id": "15073d53",
   "metadata": {},
   "source": [
    "Функции - тоже объекты. Объекты-функции и их имена - два отдельных элемента"
   ]
  },
  {
   "cell_type": "code",
   "execution_count": 17,
   "id": "f920ad62",
   "metadata": {},
   "outputs": [
    {
     "data": {
      "text/plain": [
       "'yell'"
      ]
     },
     "execution_count": 17,
     "metadata": {},
     "output_type": "execute_result"
    }
   ],
   "source": [
    "bark = yell # теперь bark тоже указывает на функцию, ту же, что и yell\n",
    "bark('гав')\n",
    "\n",
    "del yell\n",
    "bark('эй') # даже после удаления оригинальной ссылки, можно вызвать функцию через другое имя\n",
    "\n",
    "bark.__name__ # атрибут __name__ до сих пор показывает yell"
   ]
  },
  {
   "cell_type": "markdown",
   "id": "04914213",
   "metadata": {},
   "source": [
    "Функции могут храниться в структурах данных"
   ]
  },
  {
   "cell_type": "code",
   "execution_count": 18,
   "id": "be83fe76",
   "metadata": {},
   "outputs": [
    {
     "data": {
      "text/plain": [
       "[<function __main__.yell(text)>,\n",
       " <method 'lower' of 'str' objects>,\n",
       " <method 'capitalize' of 'str' objects>]"
      ]
     },
     "execution_count": 18,
     "metadata": {},
     "output_type": "execute_result"
    }
   ],
   "source": [
    "funcs = [bark, str.lower, str.capitalize]\n",
    "funcs "
   ]
  },
  {
   "cell_type": "code",
   "execution_count": 19,
   "id": "1d19386e",
   "metadata": {},
   "outputs": [
    {
     "name": "stdout",
     "output_type": "stream",
     "text": [
      "<function yell at 0x0000020225B31B20> ПРИВЕТ!\n",
      "<method 'lower' of 'str' objects> привет\n",
      "<method 'capitalize' of 'str' objects> Привет\n"
     ]
    },
    {
     "data": {
      "text/plain": [
       "'ГАВ!'"
      ]
     },
     "execution_count": 19,
     "metadata": {},
     "output_type": "execute_result"
    }
   ],
   "source": [
    "for f in funcs:\n",
    "    print(f, f('привет')) \n",
    "\n",
    "funcs[0]('гав') # вызов функции из списка"
   ]
  },
  {
   "cell_type": "markdown",
   "id": "90997dae",
   "metadata": {},
   "source": [
    "Функции могут передаваться другим функциям"
   ]
  },
  {
   "cell_type": "code",
   "execution_count": 20,
   "id": "9a4afe7c",
   "metadata": {},
   "outputs": [
    {
     "name": "stdout",
     "output_type": "stream",
     "text": [
      "ПРИВЕТ! Я - ПРОГРАММА PYTHON!\n",
      "привет! я - программа python...\n"
     ]
    }
   ],
   "source": [
    "def greet(func):\n",
    "    greeting = func('Привет! Я - программа Python')\n",
    "    print(greeting)\n",
    "\n",
    "greet(bark) # передача функции в другую функцию\n",
    "\n",
    "def whisper(text):\n",
    "    return text.lower() + '...'\n",
    "\n",
    "greet(whisper)"
   ]
  },
  {
   "cell_type": "markdown",
   "id": "38bcf5bd",
   "metadata": {},
   "source": [
    "Функции, которые в качестве аргументов могут принимать другие функции, называются функциями более высокого порядка"
   ]
  },
  {
   "cell_type": "code",
   "execution_count": 21,
   "id": "26073c66",
   "metadata": {},
   "outputs": [
    {
     "data": {
      "text/plain": [
       "['ГАВ!', 'ГАВ-ГАВ!', 'ГАВ-ГАВ-ГАВ!']"
      ]
     },
     "execution_count": 21,
     "metadata": {},
     "output_type": "execute_result"
    }
   ],
   "source": [
    "list(map(bark, ['гав', 'гав-гав', 'гав-гав-гав'])) "
   ]
  },
  {
   "cell_type": "markdown",
   "id": "fe5e8791",
   "metadata": {},
   "source": [
    "Вложенные функции"
   ]
  },
  {
   "cell_type": "code",
   "execution_count": 22,
   "id": "2fba3d3f",
   "metadata": {},
   "outputs": [
    {
     "data": {
      "text/plain": [
       "'привет!...'"
      ]
     },
     "execution_count": 22,
     "metadata": {},
     "output_type": "execute_result"
    }
   ],
   "source": [
    "def speak(text):\n",
    "    def whisper(t):                 # вложенная функция whisper, которая видна только внутри speak\n",
    "        return t.lower() + '...'\n",
    "    return whisper(text)\n",
    "\n",
    "speak('Привет!') "
   ]
  },
  {
   "cell_type": "code",
   "execution_count": null,
   "id": "da35c9c7",
   "metadata": {},
   "outputs": [],
   "source": [
    "whisper ('Привет!') # ошибка, whisper не видна вне speak\n",
    "speak.whisper('Привет!') # ошибка, whisper не видна вне speak"
   ]
  },
  {
   "cell_type": "code",
   "execution_count": null,
   "id": "c6eb20aa",
   "metadata": {},
   "outputs": [
    {
     "data": {
      "text/plain": [
       "'ПРИВЕТ!!'"
      ]
     },
     "execution_count": 17,
     "metadata": {},
     "output_type": "execute_result"
    }
   ],
   "source": [
    "def get_speak_func(volume):\n",
    "    def whisper(t):                \n",
    "        return t.lower() + '...'\n",
    "    def yell(text):\n",
    "        return text.upper() + '!'\n",
    "    if volume > 0.5:\n",
    "        return yell\n",
    "    else:\n",
    "        return whisper\n",
    "\n",
    "get_speak_func(0.3)\n",
    "get_speak_func(0.7)\n",
    "\n",
    "speak_func = get_speak_func(0.7)\n",
    "speak_func('Привет!') # вызов функции, возвращенной другой функцией"
   ]
  },
  {
   "cell_type": "markdown",
   "id": "c42d1b0f",
   "metadata": {},
   "source": [
    "#### Функции могут захватывать локальное состояние\n",
    "Внутренние функции получают доступ к параметру, определенному в родительской функции. Функции, которые это делают, называются лексическими замыканиями lexical closures. Это означает, что функции могут не только возвращать линии поведения, но и предварительно их конфигурировать"
   ]
  },
  {
   "cell_type": "code",
   "execution_count": null,
   "id": "0d5a5500",
   "metadata": {},
   "outputs": [
    {
     "data": {
      "text/plain": [
       "'ПРИВЕТ, МИР!!'"
      ]
     },
     "execution_count": 20,
     "metadata": {},
     "output_type": "execute_result"
    }
   ],
   "source": [
    "def get_speak_func(text, volume):\n",
    "    def whisper():                \n",
    "        return text.lower() + '...'\n",
    "    def yell():\n",
    "        return text.upper() + '!'\n",
    "    if volume > 0.5:\n",
    "        return yell\n",
    "    else:\n",
    "        return whisper\n",
    "    \n",
    "get_speak_func('Привет, мир!', 0.7)()"
   ]
  },
  {
   "cell_type": "code",
   "execution_count": null,
   "id": "2fa8a8c6",
   "metadata": {},
   "outputs": [
    {
     "data": {
      "text/plain": [
       "9"
      ]
     },
     "execution_count": 22,
     "metadata": {},
     "output_type": "execute_result"
    }
   ],
   "source": [
    "def make_adder(n):\n",
    "    def add(x):\n",
    "        return x + n\n",
    "    return add\n",
    "\n",
    "plus_3 = make_adder(3)\n",
    "plus_5 = make_adder(5)\n",
    "plus_3(4)\n",
    "plus_5(4)"
   ]
  },
  {
   "cell_type": "markdown",
   "id": "2712972a",
   "metadata": {},
   "source": [
    "#### Объекты могут вести себя как функции\n",
    "Все функции являются объектами, но не все объекты являются функциями, однако их можно сделать вызываемыми"
   ]
  },
  {
   "cell_type": "code",
   "execution_count": null,
   "id": "9fe9abe4",
   "metadata": {},
   "outputs": [
    {
     "data": {
      "text/plain": [
       "7"
      ]
     },
     "execution_count": 24,
     "metadata": {},
     "output_type": "execute_result"
    }
   ],
   "source": [
    "class Adder:\n",
    "    def __init__(self, n):\n",
    "        self.n = n\n",
    "\n",
    "    def __call__(self, x):\n",
    "        return self.n + x\n",
    "    \n",
    "plus_3 = Adder(3)\n",
    "plus_3(4)"
   ]
  },
  {
   "cell_type": "code",
   "execution_count": null,
   "id": "340a7bda",
   "metadata": {},
   "outputs": [],
   "source": [
    "callable(plus_3)    # True\n",
    "callable(yell)      # True\n",
    "callable('Hello')   # False"
   ]
  },
  {
   "cell_type": "markdown",
   "id": "4c60d076",
   "metadata": {},
   "source": [
    "### 3.2 Лямбды - это функции одного выражения\n",
    "Для лямбда функции не приходится связывать объект функцию с именем"
   ]
  },
  {
   "cell_type": "code",
   "execution_count": null,
   "id": "12ab68f5",
   "metadata": {},
   "outputs": [
    {
     "data": {
      "text/plain": [
       "8"
      ]
     },
     "execution_count": 25,
     "metadata": {},
     "output_type": "execute_result"
    }
   ],
   "source": [
    "add = lambda x, y: x + y\n",
    "add(3, 5)"
   ]
  },
  {
   "cell_type": "code",
   "execution_count": null,
   "id": "a249cf08",
   "metadata": {},
   "outputs": [
    {
     "data": {
      "text/plain": [
       "8"
      ]
     },
     "execution_count": 26,
     "metadata": {},
     "output_type": "execute_result"
    }
   ],
   "source": [
    "def add(x, y):\n",
    "    return x + y\n",
    "add(3, 5)"
   ]
  },
  {
   "cell_type": "code",
   "execution_count": null,
   "id": "f9c1360f",
   "metadata": {},
   "outputs": [
    {
     "data": {
      "text/plain": [
       "8"
      ]
     },
     "execution_count": 27,
     "metadata": {},
     "output_type": "execute_result"
    }
   ],
   "source": [
    "(lambda x, y: x + y)(5, 3)"
   ]
  },
  {
   "cell_type": "markdown",
   "id": "77cd9e4b",
   "metadata": {},
   "source": [
    "#### Лямбды в вашем распоряжении"
   ]
  },
  {
   "cell_type": "code",
   "execution_count": null,
   "id": "18fb4234",
   "metadata": {},
   "outputs": [
    {
     "data": {
      "text/plain": [
       "[(4, 'a'), (2, 'b'), (3, 'c'), (1, 'd')]"
      ]
     },
     "execution_count": 28,
     "metadata": {},
     "output_type": "execute_result"
    }
   ],
   "source": [
    "tuples = [(1, 'd'), (2, 'b'), (3, 'c'), (4, 'a')]\n",
    "sorted(tuples, key=lambda x: x[1])  # сортировка по второму элементу кортежа\n",
    "\n",
    "# operator.itemgetter()"
   ]
  },
  {
   "cell_type": "code",
   "execution_count": null,
   "id": "43a275c4",
   "metadata": {},
   "outputs": [
    {
     "data": {
      "text/plain": [
       "[0, -1, 1, -2, 2, -3, 3, -4, 4, -5, 5]"
      ]
     },
     "execution_count": 29,
     "metadata": {},
     "output_type": "execute_result"
    }
   ],
   "source": [
    "sorted(range(-5, 6), key=lambda x: x * x) # сортировка по квадрату числа\n",
    "\n",
    "# abs()"
   ]
  },
  {
   "cell_type": "markdown",
   "id": "07c30ba9",
   "metadata": {},
   "source": [
    "Лямбды работают также, как лексические замыкания - функции, которые помнят значения из объемлющего лексического контекста, даже когда поток управления программы больше не находится в этом контексте. В примере ниже лямбда по прежнему может получать доступ к значению n, несмотря на то, что она была определена в make_adder (объемлющем контексте)"
   ]
  },
  {
   "cell_type": "code",
   "execution_count": null,
   "id": "c3467f40",
   "metadata": {},
   "outputs": [
    {
     "data": {
      "text/plain": [
       "7"
      ]
     },
     "execution_count": 1,
     "metadata": {},
     "output_type": "execute_result"
    }
   ],
   "source": [
    "def make_adder(n):\n",
    "    return lambda x: x + n\n",
    "\n",
    "plus_3 = make_adder(3)\n",
    "plus_5 = make_adder(5)\n",
    "plus_3(4)"
   ]
  },
  {
   "cell_type": "markdown",
   "id": "c9b78383",
   "metadata": {},
   "source": [
    "#### А может не надо"
   ]
  },
  {
   "cell_type": "code",
   "execution_count": null,
   "id": "8d285a08",
   "metadata": {},
   "outputs": [
    {
     "data": {
      "text/plain": [
       "[0, 2, 4, 6, 8, 10, 12, 14]"
      ]
     },
     "execution_count": 3,
     "metadata": {},
     "output_type": "execute_result"
    }
   ],
   "source": [
    "# Вредно\n",
    "list(filter(lambda x: x % 2 == 0, range(16)))\n",
    "\n",
    "# Лучше\n",
    "[x for x in range(16) if x % 2 == 0]"
   ]
  },
  {
   "cell_type": "markdown",
   "id": "7b13ce61",
   "metadata": {},
   "source": [
    "### 3.3 Сила декораторов\n",
    "Декораторы позволяют расширять поведение вызываемых объектов без необратимой модификации самих вызываемых объектов\n",
    "\n",
    "#### Основы декораторов в Python\n",
    "Синтаксис @ декорирует функцию непосредственно во время ее определения. Чтобы получить доступ к недекорированному оригиналу, можно декорировать некоторые функции вручную"
   ]
  },
  {
   "cell_type": "code",
   "execution_count": null,
   "id": "6aa1dafd",
   "metadata": {},
   "outputs": [
    {
     "data": {
      "text/plain": [
       "'Hello!'"
      ]
     },
     "execution_count": 4,
     "metadata": {},
     "output_type": "execute_result"
    }
   ],
   "source": [
    "# Самый простой декоратор\n",
    "def null_decorator(func):\n",
    "    return func\n",
    "\n",
    "def greet():\n",
    "    return 'Hello!'\n",
    "\n",
    "greet = null_decorator(greet) # декорирование вручную\n",
    "\n",
    "greet()\n"
   ]
  },
  {
   "cell_type": "code",
   "execution_count": null,
   "id": "f661d9f5",
   "metadata": {},
   "outputs": [
    {
     "data": {
      "text/plain": [
       "'Hello!'"
      ]
     },
     "execution_count": 7,
     "metadata": {},
     "output_type": "execute_result"
    }
   ],
   "source": [
    "def null_decorator(func):\n",
    "    return func\n",
    "\n",
    "@null_decorator\n",
    "def greet():\n",
    "    return 'Hello!' # полностью декорированная функция\n",
    "\n",
    "greet()"
   ]
  },
  {
   "cell_type": "markdown",
   "id": "f3c9ea8b",
   "metadata": {},
   "source": [
    "#### Декораторы могут менять поведение"
   ]
  },
  {
   "cell_type": "code",
   "execution_count": null,
   "id": "ce3721cb",
   "metadata": {},
   "outputs": [
    {
     "data": {
      "text/plain": [
       "'HELLO!'"
      ]
     },
     "execution_count": 5,
     "metadata": {},
     "output_type": "execute_result"
    }
   ],
   "source": [
    "def uppercase(func):\n",
    "    def wrapper():\n",
    "        original_result = func()\n",
    "        modified_result = original_result.upper()\n",
    "        return modified_result\n",
    "    return wrapper\n",
    "\n",
    "@uppercase\n",
    "def greet():\n",
    "    return 'Hello!'\n",
    "\n",
    "greet()"
   ]
  },
  {
   "cell_type": "code",
   "execution_count": null,
   "id": "e706e9d5",
   "metadata": {},
   "outputs": [
    {
     "data": {
      "text/plain": [
       "<function __main__.uppercase.<locals>.wrapper()>"
      ]
     },
     "execution_count": 8,
     "metadata": {},
     "output_type": "execute_result"
    }
   ],
   "source": [
    "greet\n",
    "null_decorator(greet)\n",
    "uppercase(greet)        # возвращает другой объект-функцию"
   ]
  },
  {
   "cell_type": "markdown",
   "id": "f7a24056",
   "metadata": {},
   "source": [
    "#### Применение многочисленных декораторов к функции\n",
    "Декораторы применяются снизу вверх"
   ]
  },
  {
   "cell_type": "code",
   "execution_count": null,
   "id": "b63eabcc",
   "metadata": {},
   "outputs": [
    {
     "data": {
      "text/plain": [
       "'<strong><em>Hello!</em></strong>'"
      ]
     },
     "execution_count": 11,
     "metadata": {},
     "output_type": "execute_result"
    }
   ],
   "source": [
    "def strong(func):\n",
    "    def wrapper():\n",
    "        return '<strong>' + func() + '</strong>'\n",
    "    return wrapper\n",
    "\n",
    "def emphasis(func):\n",
    "    def wrapper():\n",
    "        return '<em>' + func() + '</em>'\n",
    "    return wrapper\n",
    "\n",
    "@strong\n",
    "@emphasis\n",
    "def greet():\n",
    "    return 'Hello!'\n",
    "\n",
    "greet()\n",
    "\n",
    "decorated_greet = strong(emphasis(greet))  # эквивалентно @strong @emphasis"
   ]
  },
  {
   "cell_type": "markdown",
   "id": "2dd992ac",
   "metadata": {},
   "source": [
    "#### Декорирование функций, принимающих аргументы\n",
    "В определении замыкания wrapper он использует операторы * и **, чтобы собрать все позиционные и именованные аргументы и помещает их в переменные args и kwargs\n",
    "\n",
    "Замыкание затем переадресует собранные аргументы в оригинальную входную функциию, используя операторы распаковки аргументов * и **"
   ]
  },
  {
   "cell_type": "code",
   "execution_count": null,
   "id": "2eff35e9",
   "metadata": {},
   "outputs": [],
   "source": [
    "def proxy(func):\n",
    "    def wrapper(*args, **kwargs):\n",
    "        return func(*args, **kwargs)\n",
    "    return wrapper"
   ]
  },
  {
   "cell_type": "code",
   "execution_count": null,
   "id": "c9139e1c",
   "metadata": {},
   "outputs": [
    {
     "name": "stdout",
     "output_type": "stream",
     "text": [
      "Calling say() with args: ('Alice', 'Hello!'), kwargs: {}\n",
      "say() returned: Alice says: Hello!\n"
     ]
    },
    {
     "data": {
      "text/plain": [
       "'Alice says: Hello!'"
      ]
     },
     "execution_count": 3,
     "metadata": {},
     "output_type": "execute_result"
    }
   ],
   "source": [
    "def trace(func):\n",
    "    def wrapper(*args, **kwargs):\n",
    "        print(f'Calling {func.__name__}() with args: {args}, kwargs: {kwargs}')\n",
    "        original_result = func(*args, **kwargs)\n",
    "        print(f'{func.__name__}() returned: {original_result}')\n",
    "        return original_result\n",
    "    return wrapper\n",
    "\n",
    "@trace\n",
    "def say(name, line):\n",
    "    return f'{name} says: {line}'\n",
    "\n",
    "say('Alice', 'Hello!')"
   ]
  },
  {
   "cell_type": "markdown",
   "id": "2d019178",
   "metadata": {},
   "source": [
    "#### Как писать \"отлаживаемые\" декораторы\n",
    "При попытке получить доступ к метаданным функции, выдаются метаданные замыкания-обертки"
   ]
  },
  {
   "cell_type": "code",
   "execution_count": null,
   "id": "d4165e64",
   "metadata": {},
   "outputs": [],
   "source": [
    "def greet():\n",
    "    '''Вернуть приветствие'''\n",
    "\n",
    "decorated_greet = uppercase(greet)  # декорирование функции greet\n",
    "greet.__name__  # 'greet'\n",
    "greet.__doc__   # 'Вернуть приветствие'\n",
    "decorated_greet.__name__  # 'wrapper'\n",
    "decorated_greet.__doc__  # None, метаданные потеряны"
   ]
  },
  {
   "cell_type": "code",
   "execution_count": null,
   "id": "51987f21",
   "metadata": {},
   "outputs": [
    {
     "data": {
      "text/plain": [
       "'Вернуть приветствие'"
      ]
     },
     "execution_count": 12,
     "metadata": {},
     "output_type": "execute_result"
    }
   ],
   "source": [
    "import functools\n",
    "def uppercase(func):\n",
    "    @functools.wraps(func)  # сохраняем метаданные оригинальной функции\n",
    "    def wrapper():\n",
    "        return func().upper()\n",
    "    return wrapper\n",
    "\n",
    "@uppercase\n",
    "def greet():\n",
    "    '''Вернуть приветствие'''\n",
    "    return 'Hello!'\n",
    "\n",
    "greet.__name__  # 'greet'\n",
    "greet.__doc__   # 'Вернуть приветствие'"
   ]
  },
  {
   "cell_type": "markdown",
   "id": "f6eb442d",
   "metadata": {},
   "source": [
    "### 3.4 Веселье с *args и **kwargs\n",
    "Даные параметры позволяют функции принимать необязательные документы\n",
    "\n",
    "Их можно назвать как угодно (если есть * и **), но принято называть args, kwargs"
   ]
  },
  {
   "cell_type": "code",
   "execution_count": null,
   "id": "8963bf21",
   "metadata": {},
   "outputs": [
    {
     "name": "stdout",
     "output_type": "stream",
     "text": [
      "Hello\n",
      "Hello\n",
      "(1, 2, 3)\n",
      "Hello\n",
      "(1, 2, 3)\n",
      "{'key1': 'value1', 'key2': 'value2'}\n"
     ]
    }
   ],
   "source": [
    "def foo(required, *args, **kwargs):\n",
    "    print(required)\n",
    "    if args:\n",
    "        print(args)    # выводит кортеж с позиционными аргументами\n",
    "    if kwargs:\n",
    "        print(kwargs)  # выводит словарь с именованными аргументами\n",
    "\n",
    "# foo() # ошибка, требуется хотя бы один обязательный аргумент\n",
    "foo('Hello')                                            # передача только обязательного аргумента\n",
    "foo('Hello', 1, 2, 3)                                   # передача позиционных аргументов\n",
    "foo('Hello', 1, 2, 3, key1='value1', key2='value2')     # передача именованных аргументов"
   ]
  },
  {
   "cell_type": "markdown",
   "id": "2392b840",
   "metadata": {},
   "source": [
    "#### Переадресация необязательных или именованных аргументов"
   ]
  },
  {
   "cell_type": "code",
   "execution_count": null,
   "id": "da2891ee",
   "metadata": {},
   "outputs": [
    {
     "data": {
      "text/plain": [
       "'синий'"
      ]
     },
     "execution_count": 24,
     "metadata": {},
     "output_type": "execute_result"
    }
   ],
   "source": [
    "def foo(x, *args, **kwargs):\n",
    "    kwargs['имя'] = 'Алиса'\n",
    "    new_args = args + ('дополнительный', )\n",
    "    bar(x, *new_args, **kwargs)  # передача аргументов в другую функцию\n",
    "\n",
    "class Car:\n",
    "    def __init__(self, color, mileage):\n",
    "        self.color = color\n",
    "        self.mileage = mileage\n",
    "\n",
    "class AlwaysBlueCar(Car):\n",
    "    def __init__(self, *args, **kwargs):\n",
    "        super().__init__(*args, **kwargs)\n",
    "        self.color = 'синий'\n",
    "\n",
    "AlwaysBlueCar('красный', 10000).color  # цвет будет 'синий', несмотря на переданный аргумент"
   ]
  },
  {
   "cell_type": "code",
   "execution_count": 25,
   "id": "c56d1d5d",
   "metadata": {},
   "outputs": [
    {
     "name": "stdout",
     "output_type": "stream",
     "text": [
      "<function greet at 0x0000020225BD6CA0> ('Привет', 'Мир') {}\n",
      "Привет, Мир!\n"
     ]
    }
   ],
   "source": [
    "def trace(f):\n",
    "    @functools.wraps(f)\n",
    "    def decorated_function(*args, **kwargs):\n",
    "        print(f, args, kwargs)\n",
    "        result = f(*args, **kwargs)\n",
    "        print(result)\n",
    "    return decorated_function\n",
    "\n",
    "@trace\n",
    "def greet(greeting, name):\n",
    "    return '{}, {}!'.format(greeting, name)\n",
    "\n",
    "greet('Привет', 'Мир')  "
   ]
  },
  {
   "cell_type": "markdown",
   "id": "7caf02b1",
   "metadata": {},
   "source": [
    "### 3.5 Распаковка аргументов функции\n",
    "Размещение * перед итерируемым объектом в вызове функции его распакует и передаст его элементы как отдельные позиционные аргументы в вызванную функцию"
   ]
  },
  {
   "cell_type": "code",
   "execution_count": 31,
   "id": "de3a1bf0",
   "metadata": {},
   "outputs": [
    {
     "name": "stdout",
     "output_type": "stream",
     "text": [
      "<1, 2, 3>\n",
      "<1, 2, 3>\n",
      "<1, 2, 3>\n",
      "<1, 2, 3>\n",
      "<0, 1, 4>\n",
      "<1, 2, 3>\n",
      "<x, y, z>\n"
     ]
    }
   ],
   "source": [
    "def print_vector(x, y, z):\n",
    "    print('<%s, %s, %s>' % (x, y, z))\n",
    "\n",
    "print_vector(1, 2, 3)  \n",
    "\n",
    "tuple_vec = (1, 2, 3)\n",
    "list_vec = [1, 2, 3]\n",
    "print_vector(tuple_vec[0], # распаковка кортежа вручную\n",
    "             tuple_vec[1], \n",
    "             tuple_vec[2])  \n",
    "print_vector(*tuple_vec)  # распаковка кортежа с помощью *\n",
    "print_vector(*list_vec)  # распаковка списка с помощью *\n",
    "\n",
    "genexpr = (x * x for x in range(3))\n",
    "print_vector(*genexpr)  # распаковка генератора с помощью *\n",
    "\n",
    "dict_vec = {'x': 1, 'y': 2, 'z': 3}\n",
    "print_vector(**dict_vec)  # распаковка словаря с помощью ** \n",
    "print_vector(*dict_vec)   # передача только ключей словаря"
   ]
  },
  {
   "cell_type": "markdown",
   "id": "691ac5ee",
   "metadata": {},
   "source": [
    "### 3.6 Здесь нечего возвращать\n",
    "Если в функции не указано возвращаемое значение, то она возвращает None. Возвращать None явным или неявным образом, решается стилистически\n"
   ]
  },
  {
   "cell_type": "code",
   "execution_count": 32,
   "id": "957e6209",
   "metadata": {},
   "outputs": [
    {
     "data": {
      "text/plain": [
       "NoneType"
      ]
     },
     "execution_count": 32,
     "metadata": {},
     "output_type": "execute_result"
    }
   ],
   "source": [
    "def foo1(value):\n",
    "    if value:\n",
    "        return value\n",
    "    else:\n",
    "        return None\n",
    "    \n",
    "def foo2(value):\n",
    "    # пустая инструкция return возвращает None\n",
    "    if value:\n",
    "        return value\n",
    "    else:\n",
    "        return \n",
    "    \n",
    "def foo3(value):\n",
    "    # Пропущенная инструкция return возвращает None\n",
    "    if value:\n",
    "        return value \n",
    "    \n",
    "type(foo1(0))\n",
    "type(foo2(0))\n",
    "type(foo3(0))  # все три функции возвращают None"
   ]
  }
 ],
 "metadata": {
  "kernelspec": {
   "display_name": ".venv",
   "language": "python",
   "name": "python3"
  },
  "language_info": {
   "codemirror_mode": {
    "name": "ipython",
    "version": 3
   },
   "file_extension": ".py",
   "mimetype": "text/x-python",
   "name": "python",
   "nbconvert_exporter": "python",
   "pygments_lexer": "ipython3",
   "version": "3.13.3"
  }
 },
 "nbformat": 4,
 "nbformat_minor": 5
}
