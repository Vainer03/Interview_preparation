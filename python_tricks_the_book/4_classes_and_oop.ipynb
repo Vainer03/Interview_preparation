{
 "cells": [
  {
   "cell_type": "markdown",
   "id": "565e04c0",
   "metadata": {},
   "source": [
    "## Классы и ООП\n",
    "### 4.1 Сравнения объектов: is против ==\n",
    "Оператор == выполняет проверку на *равенство*. True, если объекты на которые ссылаются переменные равны\n",
    "\n",
    "Оператор is выполняет проверку на *идентичность*. True, если две переменные указывают на тот же самый объект\n"
   ]
  },
  {
   "cell_type": "code",
   "execution_count": 1,
   "id": "8de70512",
   "metadata": {},
   "outputs": [
    {
     "data": {
      "text/plain": [
       "False"
      ]
     },
     "execution_count": 1,
     "metadata": {},
     "output_type": "execute_result"
    }
   ],
   "source": [
    "a = [1, 2, 3]\n",
    "b = a\n",
    "\n",
    "a == b # True, т.к. значения одинаковые\n",
    "a is b # True, т.к. это один и тот же объект в памяти\n",
    "\n",
    "c = list(a) # копия списка a\n",
    "a == c # True, т.к. значения одинаковые\n",
    "a is c # False, т.к. это разные объекты в памяти"
   ]
  },
  {
   "cell_type": "markdown",
   "id": "58cf80bd",
   "metadata": {},
   "source": [
    "### 4.2 Преобразование строк (каждому классу по ```__repr__```)\n",
    "```__str__``` вызывается, когда происходит попытка преобразовать объект в строковое значение\n"
   ]
  },
  {
   "cell_type": "code",
   "execution_count": 4,
   "id": "cec9a023",
   "metadata": {},
   "outputs": [
    {
     "name": "stdout",
     "output_type": "stream",
     "text": [
      "<__main__.Car object at 0x0000020CB1B327B0>\n",
      "красный 3812\n"
     ]
    }
   ],
   "source": [
    "class Car:\n",
    "    def __init__(self, color, mileage):\n",
    "        self.color = color\n",
    "        self.mileage = mileage\n",
    "\n",
    "my_car = Car('красный', 3812)\n",
    "print(my_car)  # <__main__.Car object at 0x...>\n",
    "\n",
    "print(my_car.color, my_car.mileage)  # красный 3812"
   ]
  },
  {
   "cell_type": "code",
   "execution_count": null,
   "id": "2b28e113",
   "metadata": {},
   "outputs": [
    {
     "name": "stdout",
     "output_type": "stream",
     "text": [
      "красный автомобиль с пробегом 3812 км\n"
     ]
    },
    {
     "data": {
      "text/plain": [
       "'красный автомобиль с пробегом 3812 км'"
      ]
     },
     "execution_count": 8,
     "metadata": {},
     "output_type": "execute_result"
    }
   ],
   "source": [
    "class Car:\n",
    "    def __init__(self, color, mileage):\n",
    "        self.color = color\n",
    "        self.mileage = mileage\n",
    "    def __str__(self):\n",
    "        return f'{self.color} автомобиль с пробегом {self.mileage} км'\n",
    "    \n",
    "my_car = Car('красный', 3812)\n",
    "my_car              # <__main__.Car object at 0x...>\n",
    "print(my_car)       # красный автомобиль с пробегом 3812 км\n",
    "str(my_car)         # 'красный автомобиль с пробегом 3812 км'   \n",
    "'{}'.format(my_car) # 'красный автомобиль с пробегом 3812 км'"
   ]
  },
  {
   "cell_type": "markdown",
   "id": "affda1e5",
   "metadata": {},
   "source": [
    "#### Метод ```__str__``` против ```__repr__```\n",
    "В результате инспектирования объекта в сеансе интерпретатора печатается результат выполнения ```__repr__``` объекта\n",
    "\n",
    "В контейнерах, например списках и словарях, для представления объектов вызывается ```__repr__```, даже если вызвать функцию str с самим контейнером"
   ]
  },
  {
   "cell_type": "code",
   "execution_count": null,
   "id": "1a177313",
   "metadata": {},
   "outputs": [
    {
     "name": "stdout",
     "output_type": "stream",
     "text": [
      "__str__ для объекта Car\n"
     ]
    },
    {
     "data": {
      "text/plain": [
       "'__repr__ для объекта Car'"
      ]
     },
     "execution_count": 10,
     "metadata": {},
     "output_type": "execute_result"
    }
   ],
   "source": [
    "class Car:\n",
    "    def __init__(self, color, mileage):\n",
    "        self.color = color\n",
    "        self.mileage = mileage\n",
    "    def __str__(self):\n",
    "        return '__str__ для объекта Car'\n",
    "    def __repr__(self):\n",
    "        return '__repr__ для объекта Car'\n",
    "    \n",
    "my_car = Car('красный', 3812)\n",
    "print(my_car)       # __str__ для объекта Car\n",
    "my_car              # __repr__ для объекта Car\n",
    "\n",
    "str([my_car])       # __repr__ для объекта Car\n",
    "\n",
    "str(my_car)         # __str__ для объекта Car\n",
    "repr(my_car)        # __repr__ для объекта Car"
   ]
  },
  {
   "cell_type": "markdown",
   "id": "34b30c26",
   "metadata": {},
   "source": [
    "##### В чем же разница?\n",
    "Результат метода ```__str__``` должен быть прежде всего удобочитаемым. Предназначен для пользователей\n",
    "\n",
    "Результат метода ```__repr__``` должен быть прежде всего однозначным. Предназначен для разработчиков"
   ]
  },
  {
   "cell_type": "code",
   "execution_count": 13,
   "id": "bd677275",
   "metadata": {},
   "outputs": [
    {
     "name": "stdout",
     "output_type": "stream",
     "text": [
      "2025-07-20\n",
      "datetime.date(2025, 7, 20)\n"
     ]
    }
   ],
   "source": [
    "import datetime\n",
    "today = datetime.date.today()\n",
    "print(str(today))   # 2025-07-20\n",
    "print(repr(today))  # datetime.date(2025, 7, 20)"
   ]
  },
  {
   "cell_type": "markdown",
   "id": "68554ea5",
   "metadata": {},
   "source": [
    "#### Почему каждый класс нуждается в ```__repr__```\n",
    "Если нет метода ```__str__```, то Python отыграет к ```__repr__```"
   ]
  },
  {
   "cell_type": "code",
   "execution_count": 18,
   "id": "7207a269",
   "metadata": {},
   "outputs": [
    {
     "name": "stdout",
     "output_type": "stream",
     "text": [
      "Car('красный', 3812)\n"
     ]
    },
    {
     "data": {
      "text/plain": [
       "\"Car('красный', 3812)\""
      ]
     },
     "execution_count": 18,
     "metadata": {},
     "output_type": "execute_result"
    }
   ],
   "source": [
    "class Car:\n",
    "    def __init__(self, color, mileage):\n",
    "        self.color = color\n",
    "        self.mileage = mileage\n",
    "    def __repr__(self):\n",
    "        return (f'{self.__class__.__name__}('\n",
    "                f'{self.color!r}, {self.mileage!r})')\n",
    "\n",
    "my_car = Car('красный', 3812)\n",
    "print(my_car)\n",
    "repr(my_car)"
   ]
  },
  {
   "cell_type": "code",
   "execution_count": null,
   "id": "c5e5687d",
   "metadata": {},
   "outputs": [],
   "source": [
    "# Полный пример класса\n",
    "class Car:\n",
    "    def __init__(self, color, mileage):\n",
    "        self.color = color\n",
    "        self.mileage = mileage\n",
    "    def __repr__(self):\n",
    "        return (f'{self.__class__.__name__}('\n",
    "                f'{self.color!r}, {self.mileage!r})')\n",
    "    def __str__(self):\n",
    "        return f'{self.color} автомобиль с пробегом {self.mileage} км'"
   ]
  },
  {
   "cell_type": "markdown",
   "id": "5cff7208",
   "metadata": {},
   "source": [
    "### 4.3 Определение своих собственных классов-исключений\n",
    "Определение собственных типов ошибок может упростить отладку и быть очень ценным"
   ]
  },
  {
   "cell_type": "code",
   "execution_count": 21,
   "id": "6ff70796",
   "metadata": {},
   "outputs": [
    {
     "ename": "ValueError",
     "evalue": "",
     "output_type": "error",
     "traceback": [
      "\u001b[1;31m---------------------------------------------------------------------------\u001b[0m",
      "\u001b[1;31mValueError\u001b[0m                                Traceback (most recent call last)",
      "Cell \u001b[1;32mIn[21], line 5\u001b[0m\n\u001b[0;32m      2\u001b[0m     \u001b[38;5;28;01mif\u001b[39;00m \u001b[38;5;28mlen\u001b[39m(name) \u001b[38;5;241m<\u001b[39m \u001b[38;5;241m10\u001b[39m:\n\u001b[0;32m      3\u001b[0m         \u001b[38;5;28;01mraise\u001b[39;00m \u001b[38;5;167;01mValueError\u001b[39;00m\n\u001b[1;32m----> 5\u001b[0m \u001b[43mvalidate\u001b[49m\u001b[43m(\u001b[49m\u001b[38;5;124;43m'\u001b[39;49m\u001b[38;5;124;43mJoe\u001b[39;49m\u001b[38;5;124;43m'\u001b[39;49m\u001b[43m)\u001b[49m \u001b[38;5;66;03m# ValueError: по отчету мало что понятно\u001b[39;00m\n",
      "Cell \u001b[1;32mIn[21], line 3\u001b[0m, in \u001b[0;36mvalidate\u001b[1;34m(name)\u001b[0m\n\u001b[0;32m      1\u001b[0m \u001b[38;5;28;01mdef\u001b[39;00m\u001b[38;5;250m \u001b[39m\u001b[38;5;21mvalidate\u001b[39m(name):\n\u001b[0;32m      2\u001b[0m     \u001b[38;5;28;01mif\u001b[39;00m \u001b[38;5;28mlen\u001b[39m(name) \u001b[38;5;241m<\u001b[39m \u001b[38;5;241m10\u001b[39m:\n\u001b[1;32m----> 3\u001b[0m         \u001b[38;5;28;01mraise\u001b[39;00m \u001b[38;5;167;01mValueError\u001b[39;00m\n",
      "\u001b[1;31mValueError\u001b[0m: "
     ]
    }
   ],
   "source": [
    "def validate(name):\n",
    "    if len(name) < 10:\n",
    "        raise ValueError\n",
    "\n",
    "validate('Joe') # ValueError: по отчету мало что понятно"
   ]
  },
  {
   "cell_type": "code",
   "execution_count": 22,
   "id": "aff27ec2",
   "metadata": {},
   "outputs": [
    {
     "ename": "NameTooShortError",
     "evalue": "Jane",
     "output_type": "error",
     "traceback": [
      "\u001b[1;31m---------------------------------------------------------------------------\u001b[0m",
      "\u001b[1;31mNameTooShortError\u001b[0m                         Traceback (most recent call last)",
      "Cell \u001b[1;32mIn[22], line 8\u001b[0m\n\u001b[0;32m      5\u001b[0m     \u001b[38;5;28;01mif\u001b[39;00m \u001b[38;5;28mlen\u001b[39m(name) \u001b[38;5;241m<\u001b[39m \u001b[38;5;241m10\u001b[39m:\n\u001b[0;32m      6\u001b[0m         \u001b[38;5;28;01mraise\u001b[39;00m NameTooShortError(name)\n\u001b[1;32m----> 8\u001b[0m \u001b[43mvalidate\u001b[49m\u001b[43m(\u001b[49m\u001b[38;5;124;43m'\u001b[39;49m\u001b[38;5;124;43mJane\u001b[39;49m\u001b[38;5;124;43m'\u001b[39;49m\u001b[43m)\u001b[49m\n",
      "Cell \u001b[1;32mIn[22], line 6\u001b[0m, in \u001b[0;36mvalidate\u001b[1;34m(name)\u001b[0m\n\u001b[0;32m      4\u001b[0m \u001b[38;5;28;01mdef\u001b[39;00m\u001b[38;5;250m \u001b[39m\u001b[38;5;21mvalidate\u001b[39m(name):\n\u001b[0;32m      5\u001b[0m     \u001b[38;5;28;01mif\u001b[39;00m \u001b[38;5;28mlen\u001b[39m(name) \u001b[38;5;241m<\u001b[39m \u001b[38;5;241m10\u001b[39m:\n\u001b[1;32m----> 6\u001b[0m         \u001b[38;5;28;01mraise\u001b[39;00m NameTooShortError(name)\n",
      "\u001b[1;31mNameTooShortError\u001b[0m: Jane"
     ]
    }
   ],
   "source": [
    "class NameTooShortError(ValueError):\n",
    "    pass\n",
    "\n",
    "def validate(name):\n",
    "    if len(name) < 10:\n",
    "        raise NameTooShortError(name)\n",
    "\n",
    "validate('Jane')"
   ]
  },
  {
   "cell_type": "code",
   "execution_count": null,
   "id": "ab2fa506",
   "metadata": {},
   "outputs": [],
   "source": [
    "class BaseValidartionError(ValueError):\n",
    "    \"\"\"Базовый класс для ошибок валидации\"\"\"\n",
    "    pass\n",
    "\n",
    "class NameTooShortError(BaseValidartionError):\n",
    "    pass\n",
    "\n",
    "class NameTooLongError(BaseValidartionError):\n",
    "    pass\n",
    "\n",
    "class NameTooCuteError(BaseValidartionError):\n",
    "    pass\n",
    "\n",
    "try: \n",
    "    validate(name)\n",
    "except BaseValidartionError as err:\n",
    "    handle_validation_error(err)"
   ]
  },
  {
   "cell_type": "markdown",
   "id": "9ff69ff0",
   "metadata": {},
   "source": [
    "### 4.4 Клонирование объектов для дела и веселья\n",
    "В Python инструкции присваивания не создают копии объектов, а лишь привязывают имена к объекту.\n",
    "\n",
    "Встроенные коллекции могут быть скопированы путем вызова своих фабричных функций, однако это будет лишь shallow copy - конструированием нового объекта и заполнение его ссылками на дочерние объекты, найденные в оригинале, а также данное копирование нельзя произвести с собственными объектами\n",
    "Deep copy - выполняет процесс копирования рекурсивно, создается полностью независимый клон исходного объекта и всех его потомков"
   ]
  },
  {
   "cell_type": "code",
   "execution_count": null,
   "id": "ffb2034f",
   "metadata": {},
   "outputs": [],
   "source": [
    "original_list = [1, 2, 3]\n",
    "original_dict = {'a': 1, 'b': 2}\n",
    "original_set = {1, 2, 3}\n",
    "new_list = list(original_list)\n",
    "new_dict = dict(original_dict)\n",
    "new_set = set(original_set)"
   ]
  },
  {
   "cell_type": "markdown",
   "id": "c159f811",
   "metadata": {},
   "source": [
    "#### Создание мелких копий"
   ]
  },
  {
   "cell_type": "code",
   "execution_count": null,
   "id": "7c9d37a7",
   "metadata": {},
   "outputs": [
    {
     "name": "stdout",
     "output_type": "stream",
     "text": [
      "[[1, 2, 3], [4, 5, 6], [7, 8, 9]]\n",
      "[[1, 2, 3], [4, 5, 6], [7, 8, 9]]\n",
      "[[1, 2, 3], [4, 5, 6], [7, 8, 9], [10, 11, 12]]\n",
      "[[1, 2, 3], [4, 5, 6], [7, 8, 9]]\n",
      "[[1, 2, 3], ['X', 5, 6], [7, 8, 9], [10, 11, 12]]\n",
      "[[1, 2, 3], ['X', 5, 6], [7, 8, 9]]\n"
     ]
    }
   ],
   "source": [
    "xs = [[1, 2, 3], [4, 5, 6], [7, 8, 9]]\n",
    "ys = list(xs) # shallow copy\n",
    "\n",
    "print(xs)\n",
    "print(ys)\n",
    "\n",
    "xs.append([10, 11, 12])\n",
    "\n",
    "print(xs)\n",
    "print(ys) # ys не изменился\n",
    "\n",
    "xs[1][0] = 'X'\n",
    "print(xs)\n",
    "print(ys) # ys изменился, т.к. мы изменили вложенный объект"
   ]
  },
  {
   "cell_type": "markdown",
   "id": "4ed4dbff",
   "metadata": {},
   "source": [
    "#### Создание глубоких копий"
   ]
  },
  {
   "cell_type": "code",
   "execution_count": 28,
   "id": "fcce6794",
   "metadata": {},
   "outputs": [
    {
     "name": "stdout",
     "output_type": "stream",
     "text": [
      "[[1, 2, 3], [4, 5, 6], [7, 8, 9]]\n",
      "[[1, 2, 3], [4, 5, 6], [7, 8, 9]]\n",
      "[[1, 2, 3], ['X', 5, 6], [7, 8, 9]]\n",
      "[[1, 2, 3], [4, 5, 6], [7, 8, 9]]\n"
     ]
    }
   ],
   "source": [
    "import copy\n",
    "xs = [[1, 2, 3], [4, 5, 6], [7, 8, 9]]\n",
    "zs = copy.deepcopy(xs) # deep copy\n",
    "\n",
    "print(xs)\n",
    "print(zs)\n",
    "\n",
    "xs[1][0] = 'X'\n",
    "print(xs)\n",
    "print(zs) # zs не изменился, т.к. это глубокая копия\n",
    "\n",
    "bs = copy.copy(xs) # shallow copy "
   ]
  },
  {
   "cell_type": "markdown",
   "id": "030e147b",
   "metadata": {},
   "source": [
    "#### Копирование произвольных объектов\n",
    "Объекты могут управлять тем, как они копируются, если в них определить методы ```__copy__()``` и ```__deepcopy__()```"
   ]
  },
  {
   "cell_type": "code",
   "execution_count": null,
   "id": "89588170",
   "metadata": {},
   "outputs": [
    {
     "name": "stdout",
     "output_type": "stream",
     "text": [
      "Point(23, 42)\n",
      "Point(23, 42)\n",
      "False\n"
     ]
    }
   ],
   "source": [
    "class Point:\n",
    "    def __init__(self, x, y):\n",
    "        self.x = x\n",
    "        self.y = y\n",
    "    \n",
    "    def __repr__(self):\n",
    "        return f'Point({self.x!r}, {self.y!r})'\n",
    "    \n",
    "a = Point(23, 42)\n",
    "b = copy.copy(a)   # shallow copy, но т.к. работаем с примитивными типами, то это не имеет значения\n",
    "\n",
    "print(a)\n",
    "print(b)\n",
    "print(a is b) # False, т.к. это разные объекты"
   ]
  },
  {
   "cell_type": "code",
   "execution_count": 32,
   "id": "2f79b5d1",
   "metadata": {},
   "outputs": [
    {
     "name": "stdout",
     "output_type": "stream",
     "text": [
      "Rectangle(Point(0, 0), Point(10, 10))\n",
      "Rectangle(Point(0, 0), Point(10, 10))\n",
      "False\n",
      "Rectangle(Point(100, 0), Point(10, 10))\n",
      "Rectangle(Point(100, 0), Point(10, 10))\n",
      "Rectangle(Point(200, 0), Point(10, 10))\n",
      "Rectangle(Point(100, 0), Point(10, 10))\n",
      "Rectangle(Point(100, 0), Point(10, 10))\n"
     ]
    }
   ],
   "source": [
    "class Rectangle:\n",
    "    def __init__(self, topleft, bottomright):\n",
    "        self.topleft = topleft\n",
    "        self.bottomright = bottomright\n",
    "    \n",
    "    def __repr__(self):\n",
    "        return (f'Rectangle({self.topleft!r}, {self.bottomright!r})')\n",
    "    \n",
    "rect = Rectangle(Point(0, 0), Point(10, 10))\n",
    "srect = copy.copy(rect)  # shallow copy\n",
    "\n",
    "print(rect)\n",
    "print(srect)\n",
    "print(rect is srect)  # False, т.к. это разные объекты\n",
    "\n",
    "rect.topleft.x = 100\n",
    "print(rect)         # Rectangle(Point(100, 0), Point(10, 10\n",
    "print(srect)    # Rectangle(Point(100, 0), Point(10, 10))\n",
    "\n",
    "drect = copy.deepcopy(rect)  # deep copy\n",
    "drect.topleft.x = 200\n",
    "print(drect)        # Rectangle(Point(200, 0), Point(10, 10))\n",
    "print(rect)         # Rectangle(Point(100, 0), Point(10, 10))\n",
    "print(srect)        # Rectangle(Point(100, 0), Point(10, 10))"
   ]
  },
  {
   "cell_type": "markdown",
   "id": "032b9875",
   "metadata": {},
   "source": [
    "### 4.5 Абстрактные базовые классы держат наследование под контролем\n",
    "Абстрактные классы гарантируют, что производные классы реализуют те или иные методы базового класса. Создание объектов базового класса невозможно."
   ]
  },
  {
   "cell_type": "code",
   "execution_count": null,
   "id": "d9ca5df0",
   "metadata": {},
   "outputs": [],
   "source": [
    "# Реализация без модуля abc\n",
    "class Base:\n",
    "    def foo(self):\n",
    "        raise NotImplementedError()\n",
    "    def bar(self):\n",
    "        raise NotImplementedError()\n",
    "\n",
    "class Concrete(Base):\n",
    "    def foo(self):\n",
    "        return 'вызвана foo'\n",
    "    # def bar(self):\n",
    "    #     return 'вызвана bar'\n",
    "\n",
    "b = Base()\n",
    "b.foo() # NotImplementedError: вызов foo не реализован\n",
    "# можно создать объект класса Base и не получить ошибки, это плохо\n",
    "\n",
    "c = Concrete()\n",
    "c.foo() # 'вызвана foo'\n",
    "c.bar() # 'вызвана bar'"
   ]
  },
  {
   "cell_type": "code",
   "execution_count": null,
   "id": "bfc9dcae",
   "metadata": {},
   "outputs": [],
   "source": [
    "from abc import ABCMeta, abstractmethod\n",
    "\n",
    "class Base(metaclass=ABCMeta):\n",
    "    @abstractmethod\n",
    "    def foo(self):\n",
    "        \"\"\"Метод foo должен быть реализован в подклассах\"\"\"\n",
    "        pass\n",
    "\n",
    "    @abstractmethod\n",
    "    def bar(self):\n",
    "        \"\"\"Метод bar должен быть реализован в подклассах\"\"\"\n",
    "        pass\n",
    "\n",
    "class Concrete(Base):\n",
    "    def foo(self):\n",
    "        pass\n",
    "    # def bar(self):\n",
    "    #     pass\n",
    "\n",
    "# Если мы не реализуем foo или bar в классе Concrete, то получим ошибку\n",
    "\n",
    "assert issubclass(Concrete, Base)  # True, Concrete является подклассом Base\n",
    "\n",
    "c = Concrete() # TypeError: Can't instantiate abstract class Concrete with abstract methods bar"
   ]
  },
  {
   "cell_type": "markdown",
   "id": "b1f34eb9",
   "metadata": {},
   "source": [
    "### 4.6 Чем полезны именованные кортежи\n",
    "Кортежи Python - это простая  структура данных, предназначенная для группирования произвольных объектов. После создания их нельзя изменить. \n",
    "\n",
    "Также вы не можете назначать имена отдельным свойствам, хранящимся в кортеже. \n",
    "\n",
    "Кроме того трудно гарантировать, что у двух кортежей будет одно и то же количество полей и одинаковые хранящиеся в них свойства"
   ]
  },
  {
   "cell_type": "code",
   "execution_count": null,
   "id": "12af35ea",
   "metadata": {},
   "outputs": [
    {
     "name": "stdout",
     "output_type": "stream",
     "text": [
      "('hello', <object object at 0x0000022343072790>, 42)\n",
      "hello\n"
     ]
    }
   ],
   "source": [
    "tup = ('hello', object(), 42)\n",
    "print(tup)\n",
    "print(tup[0]) \n",
    "tup[2] = 100  # TypeError: 'tuple' object does not support item assignment"
   ]
  },
  {
   "cell_type": "markdown",
   "id": "f662397b",
   "metadata": {},
   "source": [
    "#### Именованные кортежи спешат на помощь\n",
    "Поместив данные в атрибут верхнего уровня в именованном котреже, вы нек сможете его модифицировать путем обновления этого атрибута\n",
    "\n",
    "Доступ к каждому хранящемуся в именвованном кореже объекту осуществляется через уникальный человекочитаемый идентификатор\n",
    "\n",
    "В Python именованные кортежи неплохо рассматривать как эффективную с точки зрения оперативной памяти краткую форму для определения неизменяющегося класса вручную"
   ]
  },
  {
   "cell_type": "code",
   "execution_count": 3,
   "id": "28333d54",
   "metadata": {},
   "outputs": [
    {
     "name": "stdout",
     "output_type": "stream",
     "text": [
      "красный\n",
      "3812\n",
      "красный\n",
      "('красный', 3812)\n",
      "красный 3812\n",
      "красный 3812\n",
      "Авто(цвет='красный', пробег=3812)\n"
     ]
    }
   ],
   "source": [
    "from collections import namedtuple\n",
    "\n",
    "Car = namedtuple('Авто', 'цвет пробег')\n",
    "\n",
    "# определен простой тип данных Авто с двумя полями: цвет и пробег\n",
    "# фабричная функция namedtuple вызывает split()\n",
    "\n",
    "'цвет пробег'.split()  # ['цвет', 'пробег']\n",
    "Car = namedtuple('Авто', ['цвет', 'пробег']) # можно передать список атрибутов так, но строку удобнее форматировать\n",
    "\n",
    "my_car = Car('красный', 3812)\n",
    "print(my_car.цвет) # 'красный'\n",
    "print(my_car.пробег) # 3812\n",
    "\n",
    "print(my_car[0]) # красный\n",
    "print(tuple(my_car)) # ('красный', 3812)\n",
    "\n",
    "# Распаковка кортежа работает так же, как и для обычных кортежей\n",
    "color, mileage = my_car\n",
    "print(color, mileage)  # красный 3812\n",
    "print(*my_car)  # красный 3812\n",
    "print(my_car)"
   ]
  },
  {
   "cell_type": "markdown",
   "id": "771f7608",
   "metadata": {},
   "source": [
    "#### Создание произвольных от Namedtuple подклассов\n"
   ]
  },
  {
   "cell_type": "code",
   "execution_count": 4,
   "id": "dca28d39",
   "metadata": {},
   "outputs": [
    {
     "data": {
      "text/plain": [
       "'#FF0000'"
      ]
     },
     "execution_count": 4,
     "metadata": {},
     "output_type": "execute_result"
    }
   ],
   "source": [
    "Car = namedtuple('Авто', ['цвет', 'пробег'])\n",
    "class MyCarWithMethods(Car):\n",
    "    def hexcolor(self):\n",
    "        if self.цвет == 'красный':\n",
    "            return '#FF0000'\n",
    "        else:\n",
    "            return '#000000'\n",
    "\n",
    "c = MyCarWithMethods('красный', 3812)\n",
    "c.hexcolor()  # '#FF0000'"
   ]
  },
  {
   "cell_type": "markdown",
   "id": "caa2b089",
   "metadata": {},
   "source": [
    "Namedtuple строятся проверх обычных классов Python. Их можно расширять через классы добавляя им методы и свойства. Это может пригодится если нужен класс с неизменяемыми свойствами. Однако есть свои сложности. Например при добавлении неизменяемого поля есть свои сложности из-за внутренней структуры именованных кортежей. Самый легкий способ создать иерархии именованных кортежей - использовать свойства _fields базового кортежа"
   ]
  },
  {
   "cell_type": "code",
   "execution_count": 7,
   "id": "ed17a0e6",
   "metadata": {},
   "outputs": [
    {
     "data": {
      "text/plain": [
       "ЭлектрическоеАвто(цвет='красный', пробег=1234, заряд=45.0)"
      ]
     },
     "execution_count": 7,
     "metadata": {},
     "output_type": "execute_result"
    }
   ],
   "source": [
    "Car = namedtuple('Авто', 'цвет пробег')\n",
    "ElectricCar = namedtuple('ЭлектрическоеАвто', Car._fields + ('заряд',))\n",
    "\n",
    "ElectricCar('красный', 1234, 45.0)"
   ]
  },
  {
   "cell_type": "markdown",
   "id": "b8b7aee8",
   "metadata": {},
   "source": [
    "#### Встроенные вспомогательные методы"
   ]
  },
  {
   "cell_type": "code",
   "execution_count": 11,
   "id": "43f0ab0e",
   "metadata": {},
   "outputs": [
    {
     "name": "stdout",
     "output_type": "stream",
     "text": [
      "{'цвет': 'красный', 'пробег': 3812}\n"
     ]
    },
    {
     "data": {
      "text/plain": [
       "Авто(цвет='синий', пробег=5000)"
      ]
     },
     "execution_count": 11,
     "metadata": {},
     "output_type": "execute_result"
    }
   ],
   "source": [
    "# метод _asdict() возвращает Dict с именами полей и их значениями\n",
    "print(my_car._asdict()) # {'цвет': 'красный', 'пробег': 3812}\n",
    "\n",
    "import json\n",
    "\n",
    "json.dumps(my_car._asdict())  # False для кириллицы\n",
    "\n",
    "# метод _replace() позволяет заменить значения полей\n",
    "my_car._replace(пробег=4000)\n",
    "\n",
    "# метод _make() позволяет создать экземпляр namedtuple\n",
    "Car._make(['синий', 5000])  # Car(цвет='синий', пробег=5000)"
   ]
  },
  {
   "cell_type": "markdown",
   "id": "8a1f683c",
   "metadata": {},
   "source": [
    "#### Когда использовать именованные кортежи\n",
    "В языке Python collection.namedtuple является эффективной с точки зрения потребляемой оперативной памяти краткой формой для опреления неизменяющегося класса вручную\n",
    "\n",
    "Именованные кортежи помогут почистить ваш исходный код, обеспечив вашим данным более доступную для понимания структуру\n",
    "\n",
    "### 4.7 Переменные класса против переменных экземпляра: подводные камни\n",
    "Class variables vs Instance variables\n",
    "\n",
    "Переменные класса объявляются внутри определения класса, но за пределами любых методов экземпляра. Они не привязаны ни к одному конкретному экземпляру класса. Модификация переменной класса затрагивает все экземпляры объекта\n",
    "\n",
    "Переменные экземпляра вссегда привязаны к конкретному экземпляру объекта. Их содержимое хранится в каждом отдельном объекте. Модификация переменной экземпляра одновременно затрагивает только один экземпляр объекто"
   ]
  },
  {
   "cell_type": "code",
   "execution_count": 17,
   "id": "e6c7ce6a",
   "metadata": {},
   "outputs": [
    {
     "name": "stdout",
     "output_type": "stream",
     "text": [
      "Jack Jill\n",
      "4 4\n",
      "4\n",
      "6 4 4\n",
      "6 4\n"
     ]
    }
   ],
   "source": [
    "class Dog:\n",
    "    num_legs = 4  # <- переменная класса, доступна всем экземплярам\n",
    "    def __init__(self, name):\n",
    "        self.name = name  # <- переменная экземпляра, уникальна для каждого экземпляра\n",
    "\n",
    "jack = Dog('Jack')\n",
    "jill = Dog('Jill')\n",
    "print(jack.name, jill.name) # ('Jack', 'Jill')\n",
    "\n",
    "print(jack.num_legs, jill.num_legs) # (4, 4)\n",
    "print(Dog.num_legs) # 4\n",
    "#print(Dog.name) # AttributeError: type object 'Dog' has no attribute 'name'\n",
    "\n",
    "jack.num_legs = 6\n",
    "print(jack.num_legs, jill.num_legs, Dog.num_legs) # (6, 4, 4)\n",
    "\n",
    "print(jack.num_legs, jack.__class__.num_legs) # (6, 4)"
   ]
  },
  {
   "cell_type": "markdown",
   "id": "31c77143",
   "metadata": {},
   "source": [
    "Переменные класса, стали несогласованными. Дело в том, что внесения изменения в jack.num_legs создало переменную экземпляра с тем же самым именем, что и у переменной класса\n",
    "\n",
    "#### Пример без собак"
   ]
  },
  {
   "cell_type": "code",
   "execution_count": 22,
   "id": "1f9b02be",
   "metadata": {},
   "outputs": [
    {
     "name": "stdout",
     "output_type": "stream",
     "text": [
      "0\n",
      "1\n",
      "2\n",
      "3\n",
      "3\n",
      "0\n",
      "1\n",
      "1\n",
      "1\n",
      "0\n"
     ]
    }
   ],
   "source": [
    "class CountedObject:\n",
    "    num_instances = 0 # Переменная класса для подсчета экземпляров\n",
    "    \n",
    "    def __init__(self):\n",
    "        self.__class__.num_instances += 1  # Увеличиваем счетчик при создании экземпляра\n",
    "\n",
    "print(CountedObject.num_instances)\n",
    "print(CountedObject().num_instances)  # 1\n",
    "print(CountedObject().num_instances)  # 2\n",
    "print(CountedObject().num_instances)  # 3\n",
    "print(CountedObject.num_instances)    # 3\n",
    "\n",
    "# Предупреждение: Эта реализация содержит ошибку\n",
    "class BuggyCountedObject:\n",
    "    num_instances = 0  # Переменная класса для подсчета экземпляров\n",
    "    \n",
    "    def __init__(self):\n",
    "        self.num_instances += 1 # !!!\n",
    "\n",
    "print(BuggyCountedObject.num_instances)\n",
    "print(BuggyCountedObject().num_instances)  # 1\n",
    "print(BuggyCountedObject().num_instances)  # 1\n",
    "print(BuggyCountedObject().num_instances)  # 1\n",
    "print(BuggyCountedObject.num_instances)    # 0"
   ]
  },
  {
   "cell_type": "markdown",
   "id": "8ad7f616",
   "metadata": {},
   "source": [
    "### 4.8 Срыв покровов с методов экземпляра, методов класса и статических методов\n",
    "* method - метод экземпляра. Через параметр self (можно назвать иначе, но он должен быть первым) они могут получать доступ к атрибутам и другим методам в том же самом объекте. Они могут не только модифицировать состояние объекта, но и плучать доступ к самому классу через атрибут ```self.__class__```. Это означает, что методы экземпляра также могут модифицировать состояние класса\n",
    "\n",
    "* classmethod - метод класса. Вместо параметра self методы класса принимают параметр cls (можно назвать иначе, но он должен быть первым) , который указывает на класс, а не на экземпляр объекта во время вызова этого метода. Он не может менять состояние экхемпляра объекта. Однако методы класса по-прежнему могут модифицировать состояние класса, которое применимо во всех экземплярах класса.\n",
    "\n",
    "* staticmethod - статический метод. Статический метод не может модифицировать состояние объекта или состояние класса. Статические методы ограничены теми даными, к которым они могут получить доступ - они прежде всего, являются средством организации пространства имен ваших методов"
   ]
  },
  {
   "cell_type": "code",
   "execution_count": null,
   "id": "7e8b65e4",
   "metadata": {},
   "outputs": [
    {
     "name": "stdout",
     "output_type": "stream",
     "text": [
      "('вызван метод экземпляра', <__main__.MyClass object at 0x00000147B7ACC440>)\n",
      "('вызван метод экземпляра', <__main__.MyClass object at 0x00000147B7ACC440>)\n",
      "('вызван метод класса', <class '__main__.MyClass'>)\n",
      "вызван статический метод\n",
      "('вызван метод класса', <class '__main__.MyClass'>)\n"
     ]
    }
   ],
   "source": [
    "class MyClass:\n",
    "    def method(self):\n",
    "        return 'вызван метод экземпляра', self \n",
    "    \n",
    "    @classmethod\n",
    "    def classmethod(cls):\n",
    "        return 'вызван метод класса', cls\n",
    "    \n",
    "    @staticmethod\n",
    "    def staticmethod():\n",
    "        return 'вызван статический метод'\n",
    "    \n",
    "obj = MyClass()\n",
    "# Вызов метода экземпляра\n",
    "print(obj.method())\n",
    "print(MyClass.method(obj))  \n",
    "\n",
    "# Вызов метода класса\n",
    "print(obj.classmethod())\n",
    "\n",
    "# Вызов статического метода\n",
    "print(obj.staticmethod())\n",
    "\n",
    "# Вызов метода класса через класс\n",
    "print(MyClass.classmethod())\n",
    "\n",
    "# Вызов статического метода через класс\n",
    "print(MyClass.staticmethod())\n",
    "\n",
    "# Вызов метода экземпляра через класс\n",
    "# MyClass.method() # TypeError: method() missing 1 required positional argument: 'self'"
   ]
  },
  {
   "cell_type": "markdown",
   "id": "5c0033ff",
   "metadata": {},
   "source": [
    "#### Фабрики аппетитной пиццы с @classmethod"
   ]
  },
  {
   "cell_type": "code",
   "execution_count": null,
   "id": "b0602d8b",
   "metadata": {},
   "outputs": [
    {
     "data": {
      "text/plain": [
       "Pizza(['сыр', 'помидоры'])"
      ]
     },
     "execution_count": 28,
     "metadata": {},
     "output_type": "execute_result"
    }
   ],
   "source": [
    "class Pizza:\n",
    "    def __init__(self, ingredients):\n",
    "        self.ingredients = ingredients\n",
    "    \n",
    "    def __repr__(self):\n",
    "        return f'Pizza({self.ingredients!r})'\n",
    "    \n",
    "Pizza(['сыр', 'помидоры'])\n",
    "Pizza(['моцарелла', 'помидоры'])\n",
    "Pizza(['моцарелла', 'помидоры', 'ветчина', 'грибы'])\n",
    "Pizza(['моцарелла' * 4])"
   ]
  },
  {
   "cell_type": "code",
   "execution_count": 29,
   "id": "d868f1ee",
   "metadata": {},
   "outputs": [
    {
     "name": "stdout",
     "output_type": "stream",
     "text": [
      "Pizza(['моцарелла', 'помидоры'])\n",
      "Pizza(['моцарелла', 'помидоры', 'ветчина'])\n"
     ]
    }
   ],
   "source": [
    "class Pizza:\n",
    "    def __init__(self, ingredients):\n",
    "        self.ingredients = ingredients\n",
    "    \n",
    "    def __repr__(self):\n",
    "        return f'Pizza({self.ingredients!r})'\n",
    "    \n",
    "    @classmethod\n",
    "    def margherita(cls):\n",
    "        return cls(['моцарелла', 'помидоры'])\n",
    "    \n",
    "    @classmethod\n",
    "    def prosciuto(cls):\n",
    "        return cls(['моцарелла', 'помидоры', 'ветчина'])\n",
    "\n",
    "print(Pizza.margherita())  # Pizza(['моцарелла', 'помидоры'])\n",
    "print(Pizza.prosciuto())   # Pizza(['моцарелла', 'помидоры', 'ветчина'])"
   ]
  },
  {
   "cell_type": "markdown",
   "id": "94c40ec3",
   "metadata": {},
   "source": [
    "#### Когда использовать статические методы\n",
    "Использование статическиз методов и методов класса способствует передаче замысла разработчика о том, на что метод сможет влиять\n",
    "\n",
    "Также статические методы проще тестировать"
   ]
  },
  {
   "cell_type": "code",
   "execution_count": null,
   "id": "42a972ef",
   "metadata": {},
   "outputs": [
    {
     "name": "stdout",
     "output_type": "stream",
     "text": [
      "Pizza(4,['моцарелла', 'помидоры'])\n",
      "50.26548245743669\n"
     ]
    }
   ],
   "source": [
    "import math\n",
    "\n",
    "class Pizza:\n",
    "    def __init__(self, radius, ingredients):\n",
    "        self.radius = radius\n",
    "        self.ingredients = ingredients\n",
    "    \n",
    "    def __repr__(self):\n",
    "        return (f'Pizza({self.radius!r},' \n",
    "                f'{self.ingredients!r})')\n",
    "    \n",
    "    def area(self):\n",
    "        return self.cicle_area(self.radius)\n",
    "    \n",
    "    @staticmethod\n",
    "    def cicle_area(r):\n",
    "        return r ** 2 * math.pi\n",
    "\n",
    "p = Pizza(4, ['моцарелла', 'помидоры'])\n",
    "print(p)\n",
    "print(p.area())             # 50.26548245743669\n",
    "print(Pizza.cicle_area(4))  # 50.26548245743669\n"
   ]
  }
 ],
 "metadata": {
  "kernelspec": {
   "display_name": ".venv",
   "language": "python",
   "name": "python3"
  },
  "language_info": {
   "codemirror_mode": {
    "name": "ipython",
    "version": 3
   },
   "file_extension": ".py",
   "mimetype": "text/x-python",
   "name": "python",
   "nbconvert_exporter": "python",
   "pygments_lexer": "ipython3",
   "version": "3.13.3"
  }
 },
 "nbformat": 4,
 "nbformat_minor": 5
}
