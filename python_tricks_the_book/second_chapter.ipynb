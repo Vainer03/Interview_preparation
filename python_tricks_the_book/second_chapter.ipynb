{
 "cells": [
  {
   "cell_type": "markdown",
   "id": "b55a4749",
   "metadata": {},
   "source": [
    "### 2.1 assert\n",
    "assert выражение, \"текст_ошибки\"\n",
    "\n",
    "Инструкция assert предназначена не для ошибок времени исполнения программы, а для отладки ошибок, которые не должны происходить вовсе"
   ]
  },
  {
   "cell_type": "code",
   "execution_count": 35,
   "id": "b56d1013",
   "metadata": {},
   "outputs": [
    {
     "data": {
      "text/plain": [
       "11175"
      ]
     },
     "execution_count": 35,
     "metadata": {},
     "output_type": "execute_result"
    }
   ],
   "source": [
    "# правильный пример использования №1\n",
    "def apply_discount(product, discount):\n",
    "    price = int(product['price'] * (1.0 - discount))\n",
    "    assert 0 <= price <= product['price'], ('Из-за скидки, цена стала меньше нуля или больше цены продукта')\n",
    "    return price\n",
    "\n",
    "shoes = {'name': 'fancy shoes', 'price': 14900}\n",
    "apply_discount(shoes, 0.25)"
   ]
  },
  {
   "cell_type": "markdown",
   "id": "f81a368d",
   "metadata": {},
   "source": [
    "assert, также нельзя использовать для проверки данных, т.к. инструкции assert могут быть глобально отключены"
   ]
  },
  {
   "cell_type": "code",
   "execution_count": 36,
   "id": "95a8c6d5",
   "metadata": {},
   "outputs": [],
   "source": [
    "# неправильный пример использования №2\n",
    "def delete_product(prod_id, user):\n",
    "    assert user.is_admin(), 'здесь должен быть администратор'\n",
    "    assert store.has_product(prod_id), 'Неизвестный товар'\n",
    "    store.get_product(prod_id).delete()\n",
    "\n",
    "# правильный пример использования №2\n",
    "def delete_product(prod_id, user):\n",
    "    if not user.is_admin(): \n",
    "        raise AuthError(\"Для удаления необходимы права админа\")\n",
    "    if not store.has_product(prod_id): \n",
    "        raise ValueError(\"Идентификатор неизвестного товара\")\n",
    "    store.get_product(prod_id).delete()"
   ]
  },
  {
   "cell_type": "markdown",
   "id": "a96900d0",
   "metadata": {},
   "source": [
    "Когда в инструкцию assert в качестве первого аргумента передается непустой кортеж, то она всегда возвращает True, а значит становится бесполезной"
   ]
  },
  {
   "cell_type": "code",
   "execution_count": 37,
   "id": "3efca38f",
   "metadata": {},
   "outputs": [
    {
     "name": "stderr",
     "output_type": "stream",
     "text": [
      "<>:2: SyntaxWarning: assertion is always true, perhaps remove parentheses?\n",
      "<>:2: SyntaxWarning: assertion is always true, perhaps remove parentheses?\n",
      "C:\\Temp\\ipykernel_8320\\1530422251.py:2: SyntaxWarning: assertion is always true, perhaps remove parentheses?\n",
      "  assert(\n"
     ]
    }
   ],
   "source": [
    "# неправильный пример использования №3\n",
    "assert(\n",
    "    1==2, \n",
    "    'Это утверждение не вызовет сбой'\n",
    ")"
   ]
  },
  {
   "cell_type": "markdown",
   "id": "cb821881",
   "metadata": {},
   "source": [
    "### 2.2 Запятые"
   ]
  },
  {
   "cell_type": "code",
   "execution_count": 38,
   "id": "67ef4d26",
   "metadata": {},
   "outputs": [],
   "source": [
    "# формат, который не советуется использовать \n",
    "names = ['Элис', 'Боб', 'Дилберт']\n",
    "\n",
    "# формат, который советуется использовать \n",
    "names = [\n",
    "    'Элис', \n",
    "    'Боб', \n",
    "    'Дилберт'\n",
    "]"
   ]
  },
  {
   "cell_type": "markdown",
   "id": "61c0f6f1",
   "metadata": {},
   "source": [
    "конкатинация строковых литералов"
   ]
  },
  {
   "cell_type": "code",
   "execution_count": 39,
   "id": "616b0d40",
   "metadata": {},
   "outputs": [
    {
     "name": "stdout",
     "output_type": "stream",
     "text": [
      "Это супердлинная строковая константа, развернутая на несколько строк. И обратите внимание - не требует никаких \\ !\n"
     ]
    }
   ],
   "source": [
    "my_str = ('Это супердлинная строковая константа, '\n",
    "          'развернутая на несколько строк. '\n",
    "          'И обратите внимание - не требует никаких \\ !')\n",
    "print(my_str)"
   ]
  },
  {
   "cell_type": "markdown",
   "id": "346bba36",
   "metadata": {},
   "source": [
    "В python запятую можно ставить после любого элемента, даже последнего"
   ]
  },
  {
   "cell_type": "code",
   "execution_count": 40,
   "id": "aa9a62b5",
   "metadata": {},
   "outputs": [],
   "source": [
    "names = [\n",
    "    'Элис', \n",
    "    'Боб', \n",
    "    'Дилберт',\n",
    "]"
   ]
  },
  {
   "cell_type": "markdown",
   "id": "c1bbb3b1",
   "metadata": {},
   "source": [
    "### 2.3 Менеджеры контекста и инструкция with\n"
   ]
  },
  {
   "cell_type": "code",
   "execution_count": 41,
   "id": "971c37f2",
   "metadata": {},
   "outputs": [],
   "source": [
    "# Пример применения №1\n",
    "with open('hello.txt', 'w') as f:\n",
    "    f.write('Hello world')\n",
    "\n",
    "# Данный фрагмент примерно сводится к \n",
    "\n",
    "f = open('hello.txt', 'w')\n",
    "try:\n",
    "    f.write('Hello world')\n",
    "finally:\n",
    "    f.close()"
   ]
  },
  {
   "cell_type": "code",
   "execution_count": 42,
   "id": "83135db6",
   "metadata": {},
   "outputs": [],
   "source": [
    "# Пример применения №1\n",
    "import threading\n",
    "\n",
    "some_lock = threading.Lock()\n",
    "with some_lock:\n",
    "    pass\n",
    "\n",
    "# Данный фрагмент примерно сводится к\n",
    "some_lock = threading.Lock()\n",
    "some_lock.acquire()\n",
    "try:\n",
    "    pass\n",
    "finally:\n",
    "    some_lock.release()"
   ]
  },
  {
   "cell_type": "markdown",
   "id": "cf28fec1",
   "metadata": {},
   "source": [
    "#### Поддержка инструкции with в собственных объектах\n",
    "Python вызывает enter, когда поток исполнения входит в контекст инструкции with и наступает момент получения ресурса.\n",
    "Когда поток исполнения снова покидает контекст, python вызывает exit, чтобы освободить этот ресурс"
   ]
  },
  {
   "cell_type": "code",
   "execution_count": 43,
   "id": "6091a183",
   "metadata": {},
   "outputs": [],
   "source": [
    "class ManagedFile:\n",
    "    def __init__(self, name):\n",
    "        self.name = name\n",
    "\n",
    "    def __enter__(self):\n",
    "        self.file = open(self.name, 'w')\n",
    "        return self.file\n",
    "    \n",
    "    def __exit__(self, exc_type, exc_val, exc_tb):\n",
    "        if self.file:\n",
    "            self.file.close()\n",
    "\n",
    "with ManagedFile('hello.txt') as f:\n",
    "    f.write(\"Hello world!\")\n",
    "    f.write(\"And goodbye\")"
   ]
  },
  {
   "cell_type": "markdown",
   "id": "99a13ec9",
   "metadata": {},
   "source": [
    "Вариант с contextlib\n",
    "\n",
    "В данном случае managed_file является генератором"
   ]
  },
  {
   "cell_type": "code",
   "execution_count": 44,
   "id": "f4a497ab",
   "metadata": {},
   "outputs": [],
   "source": [
    "from contextlib import contextmanager\n",
    "\n",
    "@contextmanager\n",
    "def managed_file(name):\n",
    "    try:\n",
    "        f = open(name, 'w')\n",
    "        yield f\n",
    "    finally:\n",
    "        f.close()\n",
    "\n",
    "with managed_file('hello.txt') as f:\n",
    "    f.write(\"Hello world!\")\n",
    "    f.write(\"And goodbye\")"
   ]
  },
  {
   "cell_type": "markdown",
   "id": "0294d184",
   "metadata": {},
   "source": [
    "#### Написание API с менеджером контекста"
   ]
  },
  {
   "cell_type": "code",
   "execution_count": 45,
   "id": "18b11984",
   "metadata": {},
   "outputs": [
    {
     "name": "stdout",
     "output_type": "stream",
     "text": [
      " Hello\n",
      "  What's up\n",
      "   Bonjur\n",
      " hey\n"
     ]
    }
   ],
   "source": [
    "class Indenter:\n",
    "    def __init__(self):\n",
    "        self.level = 0\n",
    "\n",
    "    def __enter__(self):\n",
    "        self.level += 1\n",
    "        return self\n",
    "\n",
    "    def __exit__(self, exc_type, exc_val, exc_tb):\n",
    "        self.level -= 1\n",
    "\n",
    "    def print(self, text):\n",
    "        print(' ' * self.level + text)\n",
    "\n",
    "with Indenter() as indent:\n",
    "    indent.print('Hello')\n",
    "    with indent:\n",
    "        indent.print(\"What's up\")\n",
    "        with indent:\n",
    "            indent.print(\"Bonjur\")\n",
    "    indent.print('hey')"
   ]
  },
  {
   "cell_type": "markdown",
   "id": "cb61b62d",
   "metadata": {},
   "source": [
    "### 2.4 Подчеркивания, дандеры и др.\n",
    "#### 1. Одинарный начальный символ подчеркивания _var\n",
    "На поведение программ не влияет и является лишь подсказкой о том, что переменая предназначается для внутреннего использования"
   ]
  },
  {
   "cell_type": "code",
   "execution_count": 46,
   "id": "975cb443",
   "metadata": {},
   "outputs": [
    {
     "data": {
      "text/plain": [
       "23"
      ]
     },
     "execution_count": 46,
     "metadata": {},
     "output_type": "execute_result"
    }
   ],
   "source": [
    "class Test:\n",
    "    def __init__(self):\n",
    "        self.foo = 11\n",
    "        self._bar = 23\n",
    "\n",
    "t = Test()\n",
    "t.foo # Доступ к публичному атрибуту\n",
    "t._bar  # Доступ к защищенному атрибуту, но это не рекомендуется делать вне класса"
   ]
  },
  {
   "cell_type": "markdown",
   "id": "bd4609af",
   "metadata": {},
   "source": [
    "Если нижнее начальное подчеркивание использовано в модуле, то при подстановочном импорте * Python не будет испортировать имена с нижним подчеркиванием в начале, если не определен список ```__all__``` или не использован обычный импорт"
   ]
  },
  {
   "cell_type": "code",
   "execution_count": 47,
   "id": "088b5244",
   "metadata": {},
   "outputs": [],
   "source": [
    "# my_module.py\n",
    "def external_func():\n",
    "    return 23\n",
    "\n",
    "def _internal_func():\n",
    "    return 42"
   ]
  },
  {
   "cell_type": "code",
   "execution_count": null,
   "id": "6f88e015",
   "metadata": {},
   "outputs": [],
   "source": [
    "# Неверный пример использования импорта\n",
    "from my_module import *\n",
    "external_func() \n",
    "_internal_func()  # Это вызовет ошибку, так как _internal_func не импортирован из my_module\n",
    "\n",
    "# Верный пример использования импорта\n",
    "import my_module\n",
    "my_module.external_func()  # Доступ к публичной функции\n",
    "my_module._internal_func()  # Доступ к защищенной функции, но это не рекомендуется"
   ]
  },
  {
   "cell_type": "markdown",
   "id": "32b76ea8",
   "metadata": {},
   "source": [
    "#### 2. Одинарный замыкающий символ подчеркивания var_\n",
    "Используется по договоренности, чтобы избежать конфликтов из-за совпадения имен с ключевыми словами Python"
   ]
  },
  {
   "cell_type": "code",
   "execution_count": null,
   "id": "cd5cc139",
   "metadata": {},
   "outputs": [],
   "source": [
    "def make_object(name, class_):\n",
    "    pass"
   ]
  },
  {
   "cell_type": "markdown",
   "id": "0eabdd28",
   "metadata": {},
   "source": [
    "#### 3. Двойной начальный символ подчеркивания __var\n",
    "Данный префикс, заставляет интерпретатор Python переписывать имя атрибута, для того, чтобы в подклассах избежать конфликтов из-за совпадения имен. В dir от класса, данный метод будет назван _Classname__methodname"
   ]
  },
  {
   "cell_type": "code",
   "execution_count": null,
   "id": "c9ed79a4",
   "metadata": {},
   "outputs": [
    {
     "data": {
      "text/plain": [
       "'переопределено'"
      ]
     },
     "execution_count": 14,
     "metadata": {},
     "output_type": "execute_result"
    }
   ],
   "source": [
    "class Test:\n",
    "    def __init__(self):\n",
    "        self.foo = 11\n",
    "        self._bar = 23\n",
    "        self.__baz = 23 # Данный атрибут будет переименован в _Test__baz\n",
    "    \n",
    "class ExtendedTest(Test):\n",
    "    def __init__(self):\n",
    "        super().__init__()\n",
    "        self.foo = \"переопределено\"\n",
    "        self._bar = \"переопределено\" \n",
    "        self.__baz = \"переопределено\"\n",
    "\n",
    "t2 = ExtendedTest()\n",
    "t2.foo \n",
    "t2._bar \n",
    "# t2.__baz  # Это вызовет ошибку, так как __baz переименован в _ExtendedTest__baz\n",
    "t2._ExtendedTest__baz # Доступ к переименованному атрибуту будет возможен"
   ]
  },
  {
   "cell_type": "markdown",
   "id": "945db136",
   "metadata": {},
   "source": [
    "Доступ к переименованному элементу можно произвести с помощью метода, возвращающего данный элемент"
   ]
  },
  {
   "cell_type": "code",
   "execution_count": null,
   "id": "c27e7360",
   "metadata": {},
   "outputs": [],
   "source": [
    "class ManglingTest:\n",
    "    def __init__(self):\n",
    "        self.__mangled = \"Привет\"\n",
    "    \n",
    "    def get_mangled(self):\n",
    "        return self.__mangled\n",
    "\n",
    "ManglingTest().get_mangled() # Доступ к защищенному атрибуту через метод класса\n",
    "ManglingTest().__mangled # Это вызовет ошибку, так как __mangled переименован в _ManglingTest__mangled"
   ]
  },
  {
   "cell_type": "markdown",
   "id": "2d3055c7",
   "metadata": {},
   "source": [
    "Можно задать переименованный элемент глобальной переменной"
   ]
  },
  {
   "cell_type": "code",
   "execution_count": null,
   "id": "c53d383c",
   "metadata": {},
   "outputs": [
    {
     "data": {
      "text/plain": [
       "23"
      ]
     },
     "execution_count": 16,
     "metadata": {},
     "output_type": "execute_result"
    }
   ],
   "source": [
    "_MangledGlobal__mangled = 23\n",
    "\n",
    "class MangledGlobal:\n",
    "    def test(self):\n",
    "        return __mangled \n",
    "\n",
    "MangledGlobal().test()  # Это вернет 23 и не вызовет ошибку"
   ]
  },
  {
   "cell_type": "markdown",
   "id": "07debdd9",
   "metadata": {},
   "source": [
    "#### Экскурс: что такое дандеры\n",
    "\n",
    "Дандер - dunder - double underscore\n",
    "\n",
    "__baz - дандер baz\n",
    "\n",
    "```__init__``` - дандер init\n",
    "\n",
    "#### Двойной начальный и замыкающий символ подчеркивания ```__var__```\n",
    "Доступ к подобным переменным возможен, как обычно, однако не рекомендуется использовать такие имена, так как они могут конфликтовать с именами встроенных методов Python"
   ]
  },
  {
   "cell_type": "code",
   "execution_count": null,
   "id": "0d37934c",
   "metadata": {},
   "outputs": [],
   "source": []
  },
  {
   "cell_type": "code",
   "execution_count": null,
   "id": "08f15434",
   "metadata": {},
   "outputs": [
    {
     "data": {
      "text/plain": [
       "42"
      ]
     },
     "execution_count": 18,
     "metadata": {},
     "output_type": "execute_result"
    }
   ],
   "source": [
    "class PrefixPostfixTest:\n",
    "    def __init__(self):\n",
    "        self.__bam__ = 42\n",
    "\n",
    "PrefixPostfixTest().__bam__ "
   ]
  },
  {
   "cell_type": "markdown",
   "id": "35581c79",
   "metadata": {},
   "source": [
    "#### 5. Одинарный символ подчеркивания: _\n",
    "По договоренности одинарный автономный символ подчеркивания, используется в качестве имени, чтобы подчеркнуть, что эта переменная временная или незначительная."
   ]
  },
  {
   "cell_type": "code",
   "execution_count": null,
   "id": "798e5db6",
   "metadata": {},
   "outputs": [],
   "source": [
    "for _ in range(5):\n",
    "    print(\"Hello, World!\")\n",
    "\n",
    "car = (\"красный\", \"легковой автомобиль\", 12, 3812.4)\n",
    "color, _, _, mileage = car  # Использование _ для незначительных значений"
   ]
  },
  {
   "cell_type": "markdown",
   "id": "93da6509",
   "metadata": {},
   "source": [
    "Помимо этого символ _ можно использовать для вывода результата последнего выражения, вычисленного интерпретатором REPL Python\n",
    "\n",
    "```\n",
    ">>> 20 + 3\n",
    "23\n",
    ">>> _\n",
    "23\n",
    ">>> print(_)\n",
    "23\n",
    "```\n",
    "\n",
    "\n",
    "```\n",
    ">>> list()\n",
    "[]\n",
    ">>> _.append(1)\n",
    ">>> _.append(2)\n",
    ">>> _.append(3)\n",
    ">>> _\n",
    "[1, 2, 3]\n",
    "```"
   ]
  },
  {
   "cell_type": "markdown",
   "id": "fd85fc93",
   "metadata": {},
   "source": [
    "### 2.5 Форматирование строковых значений"
   ]
  },
  {
   "cell_type": "code",
   "execution_count": 2,
   "id": "cf7c0680",
   "metadata": {},
   "outputs": [],
   "source": [
    "errno = 50159747054\n",
    "name = 'Боб'\n",
    "\n",
    "# хотим сгенерировать строку\n",
    "# Эй, Боб! Вот ошибка 0xbadc0ffee!"
   ]
  },
  {
   "cell_type": "markdown",
   "id": "f72d78f9",
   "metadata": {},
   "source": [
    "\n",
    "#### №1. \"Классическое\" форматирование строковых значений\n",
    "Есть встроенные операции через оператор %\n",
    "\n",
    "%s - подставить значение переменной в виде строкового"
   ]
  },
  {
   "cell_type": "code",
   "execution_count": 3,
   "id": "156c3b2d",
   "metadata": {},
   "outputs": [
    {
     "data": {
      "text/plain": [
       "'Привет, Боб'"
      ]
     },
     "execution_count": 3,
     "metadata": {},
     "output_type": "execute_result"
    }
   ],
   "source": [
    "'Привет, %s' % name"
   ]
  },
  {
   "cell_type": "markdown",
   "id": "dce6a4ca",
   "metadata": {},
   "source": [
    "%x - представить число в шестнадцатеричной форме"
   ]
  },
  {
   "cell_type": "code",
   "execution_count": 4,
   "id": "fe755f9f",
   "metadata": {},
   "outputs": [
    {
     "data": {
      "text/plain": [
       "'badc0ffee'"
      ]
     },
     "execution_count": 4,
     "metadata": {},
     "output_type": "execute_result"
    }
   ],
   "source": [
    "'%x' % errno  # Представление числа в шестнадцатеричной форме "
   ]
  },
  {
   "cell_type": "code",
   "execution_count": 10,
   "id": "f5e485dc",
   "metadata": {},
   "outputs": [
    {
     "data": {
      "text/plain": [
       "'Эй, Боб! Вот ошибка 0xbadc0ffee!'"
      ]
     },
     "execution_count": 10,
     "metadata": {},
     "output_type": "execute_result"
    }
   ],
   "source": [
    "'Эй, %s! Вот ошибка 0x%x!' % (name, errno) "
   ]
  },
  {
   "cell_type": "code",
   "execution_count": 11,
   "id": "f9f5e4d4",
   "metadata": {},
   "outputs": [
    {
     "data": {
      "text/plain": [
       "'Эй, Боб! Вот ошибка 0xbadc0ffee!'"
      ]
     },
     "execution_count": 11,
     "metadata": {},
     "output_type": "execute_result"
    }
   ],
   "source": [
    "'Эй, %(name)s! Вот ошибка 0x%(errno)x!' % {'name': name, 'errno': errno} "
   ]
  },
  {
   "cell_type": "markdown",
   "id": "84a4d3fd",
   "metadata": {},
   "source": [
    "#### №2. \"Современное\" форматирование строковых значений"
   ]
  },
  {
   "cell_type": "code",
   "execution_count": 5,
   "id": "4d0f934a",
   "metadata": {},
   "outputs": [
    {
     "data": {
      "text/plain": [
       "'Привет, Боб'"
      ]
     },
     "execution_count": 5,
     "metadata": {},
     "output_type": "execute_result"
    }
   ],
   "source": [
    "'Привет, {}'.format(name)"
   ]
  },
  {
   "cell_type": "code",
   "execution_count": 6,
   "id": "8dc65741",
   "metadata": {},
   "outputs": [
    {
     "data": {
      "text/plain": [
       "'Эй, Боб! Вот ошибка 0xbadc0ffee!'"
      ]
     },
     "execution_count": 6,
     "metadata": {},
     "output_type": "execute_result"
    }
   ],
   "source": [
    "'Эй, {name}! Вот ошибка 0x{errno:x}!'.format(name=name, errno=errno)"
   ]
  },
  {
   "cell_type": "markdown",
   "id": "b5f85a33",
   "metadata": {},
   "source": [
    "#### №3. Интерполяция литеральных строк (Python 3.6+)"
   ]
  },
  {
   "cell_type": "code",
   "execution_count": 7,
   "id": "c7fd47f8",
   "metadata": {},
   "outputs": [
    {
     "data": {
      "text/plain": [
       "'Привет, Боб'"
      ]
     },
     "execution_count": 7,
     "metadata": {},
     "output_type": "execute_result"
    }
   ],
   "source": [
    "f'Привет, {name}'"
   ]
  },
  {
   "cell_type": "code",
   "execution_count": 9,
   "id": "1f4e1626",
   "metadata": {},
   "outputs": [
    {
     "data": {
      "text/plain": [
       "'Пять плюс десять равняется 15, а не 30'"
      ]
     },
     "execution_count": 9,
     "metadata": {},
     "output_type": "execute_result"
    }
   ],
   "source": [
    "a = 5\n",
    "b = 10\n",
    "f'Пять плюс десять равняется {a + b}, а не {2 * (a + b)}'"
   ]
  },
  {
   "cell_type": "code",
   "execution_count": 10,
   "id": "ed8bfe81",
   "metadata": {},
   "outputs": [
    {
     "data": {
      "text/plain": [
       "'Привет, Боб! Как дела?'"
      ]
     },
     "execution_count": 10,
     "metadata": {},
     "output_type": "execute_result"
    }
   ],
   "source": [
    "def greet(name, question):\n",
    "    return f'Привет, {name}! Как {question}?'\n",
    "\n",
    "greet('Боб', 'дела') # Пример вызова функции с интерполяцией строки"
   ]
  },
  {
   "cell_type": "code",
   "execution_count": 13,
   "id": "a49d2fb8",
   "metadata": {},
   "outputs": [
    {
     "data": {
      "text/plain": [
       "'Эй, Боб! Вот ошибка 0xbadc0ffee!'"
      ]
     },
     "execution_count": 13,
     "metadata": {},
     "output_type": "execute_result"
    }
   ],
   "source": [
    "f\"Эй, {name}! Вот ошибка {errno:#x}!\" "
   ]
  },
  {
   "cell_type": "markdown",
   "id": "aade7122",
   "metadata": {},
   "source": [
    "#### №4 Шаблонные строки"
   ]
  },
  {
   "cell_type": "code",
   "execution_count": null,
   "id": "0e542129",
   "metadata": {},
   "outputs": [
    {
     "data": {
      "text/plain": [
       "'Эй, Боб!'"
      ]
     },
     "execution_count": 15,
     "metadata": {},
     "output_type": "execute_result"
    }
   ],
   "source": [
    "from string import Template\n",
    "t = Template('Эй, $name!')\n",
    "t.substitute(name=name)  # Использование шаблонной строки для подстановки переменной"
   ]
  },
  {
   "cell_type": "code",
   "execution_count": 17,
   "id": "a00ca993",
   "metadata": {},
   "outputs": [
    {
     "data": {
      "text/plain": [
       "'Эй, Боб! Вот ошибка 0xbadc0ffee!'"
      ]
     },
     "execution_count": 17,
     "metadata": {},
     "output_type": "execute_result"
    }
   ],
   "source": [
    "templ_string = 'Эй, $name! Вот ошибка $error!'\n",
    "Template(templ_string).substitute(name=name, error=hex(errno))  # Подстановка переменных в шаблонную строку"
   ]
  },
  {
   "cell_type": "markdown",
   "id": "deb06eed",
   "metadata": {},
   "source": [
    "Форматные строки могут получать доступ к произвольным переменным в программе"
   ]
  },
  {
   "cell_type": "code",
   "execution_count": 20,
   "id": "866caf44",
   "metadata": {},
   "outputs": [
    {
     "data": {
      "text/plain": [
       "'это - секретная строка'"
      ]
     },
     "execution_count": 20,
     "metadata": {},
     "output_type": "execute_result"
    }
   ],
   "source": [
    "SECRET = 'это - секретная строка'\n",
    "class Error:\n",
    "    def __init__(self):\n",
    "        pass\n",
    "\n",
    "err = Error()\n",
    "user_input = '{error.__init__.__globals__[SECRET]}'\n",
    "user_input.format(error=err) # Доступ к глобальной переменной в шаблонной строке"
   ]
  },
  {
   "cell_type": "code",
   "execution_count": null,
   "id": "01614b4b",
   "metadata": {},
   "outputs": [],
   "source": [
    "user_input = '${error.__init__.__globals__[SECRET]}'\n",
    "Template(user_input).substitute(error=err)  \n",
    "# Шаблонная строка не позволяет получать доступ к глобальным переменным напрямую"
   ]
  },
  {
   "cell_type": "markdown",
   "id": "40d2f6cb",
   "metadata": {},
   "source": [
    "Если форматирующие строки поступают от пользователей, то используйте шаблонные строки, чтобы избежать проблем с безопасностью. В противном случае используйте интерполяцию литеральных строк при условии, что вы работаете с Python 3.6+ и современное форматирование строк - если нет"
   ]
  },
  {
   "cell_type": "markdown",
   "id": "c93cae68",
   "metadata": {},
   "source": [
    "### 2.6 Пасхалка \"Дзен Python\""
   ]
  },
  {
   "cell_type": "code",
   "execution_count": 21,
   "id": "1cb5567b",
   "metadata": {},
   "outputs": [
    {
     "name": "stdout",
     "output_type": "stream",
     "text": [
      "The Zen of Python, by Tim Peters\n",
      "\n",
      "Beautiful is better than ugly.\n",
      "Explicit is better than implicit.\n",
      "Simple is better than complex.\n",
      "Complex is better than complicated.\n",
      "Flat is better than nested.\n",
      "Sparse is better than dense.\n",
      "Readability counts.\n",
      "Special cases aren't special enough to break the rules.\n",
      "Although practicality beats purity.\n",
      "Errors should never pass silently.\n",
      "Unless explicitly silenced.\n",
      "In the face of ambiguity, refuse the temptation to guess.\n",
      "There should be one-- and preferably only one --obvious way to do it.\n",
      "Although that way may not be obvious at first unless you're Dutch.\n",
      "Now is better than never.\n",
      "Although never is often better than *right* now.\n",
      "If the implementation is hard to explain, it's a bad idea.\n",
      "If the implementation is easy to explain, it may be a good idea.\n",
      "Namespaces are one honking great idea -- let's do more of those!\n"
     ]
    }
   ],
   "source": [
    "import this"
   ]
  }
 ],
 "metadata": {
  "kernelspec": {
   "display_name": ".venv",
   "language": "python",
   "name": "python3"
  },
  "language_info": {
   "codemirror_mode": {
    "name": "ipython",
    "version": 3
   },
   "file_extension": ".py",
   "mimetype": "text/x-python",
   "name": "python",
   "nbconvert_exporter": "python",
   "pygments_lexer": "ipython3",
   "version": "3.13.3"
  }
 },
 "nbformat": 4,
 "nbformat_minor": 5
}
