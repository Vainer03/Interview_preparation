{
 "cells": [
  {
   "cell_type": "markdown",
   "id": "53e6b2de",
   "metadata": {},
   "source": [
    "https://medium.com/@ramanbazhanau/mastering-sqlalchemy-a-comprehensive-guide-for-python-developers-ddb3d9f2e829"
   ]
  },
  {
   "cell_type": "markdown",
   "id": "f82b869f",
   "metadata": {},
   "source": [
    "### Creating Your First SQLAlchemy Project"
   ]
  },
  {
   "cell_type": "code",
   "execution_count": 21,
   "id": "ba0132ff",
   "metadata": {},
   "outputs": [
    {
     "name": "stdout",
     "output_type": "stream",
     "text": [
      "<Book(title='To Kill a Mockingbird', author='Harper Lee', genre='Fiction')>\n"
     ]
    },
    {
     "name": "stderr",
     "output_type": "stream",
     "text": [
      "C:\\Users\\vainer.ag\\AppData\\Local\\Temp\\ipykernel_12572\\2054638666.py:10: MovedIn20Warning: The ``declarative_base()`` function is now available as sqlalchemy.orm.declarative_base(). (deprecated since: 2.0) (Background on SQLAlchemy 2.0 at: https://sqlalche.me/e/b8d9)\n",
      "  Base = declarative_base()\n"
     ]
    }
   ],
   "source": [
    "from sqlalchemy import create_engine, Column, Integer, String\n",
    "from sqlalchemy.ext.declarative import declarative_base\n",
    "from sqlalchemy.orm import sessionmaker\n",
    "\n",
    "# Create an engine that stores data in the local directory's\n",
    "# sqlalchemy_example.db file.\n",
    "engine = create_engine('sqlite:///sqlalchemy_example.db')\n",
    "\n",
    "# Create a declarative base class\n",
    "Base = declarative_base()\n",
    "\n",
    "# Define the Book model\n",
    "class Book(Base):\n",
    "    __tablename__ = 'books'\n",
    "\n",
    "    id = Column(Integer, primary_key=True)\n",
    "    title = Column(String(250), nullable=False)\n",
    "    author = Column(String(250), nullable=False)\n",
    "    genre = Column(String(100))\n",
    "\n",
    "    def __repr__(self):\n",
    "        return f\"<Book(title='{self.title}', author='{self.author}', genre='{self.genre}')>\"\n",
    "\n",
    "# Create all tables in the engine\n",
    "Base.metadata.create_all(engine)\n",
    "\n",
    "# Create a session\n",
    "Session = sessionmaker(bind=engine)\n",
    "session = Session()\n",
    "\n",
    "# Add a book\n",
    "new_book = Book(title='To Kill a Mockingbird', author='Harper Lee', genre='Fiction')\n",
    "session.add(new_book)\n",
    "session.commit()\n",
    "\n",
    "# Query the book\n",
    "book = session.query(Book).filter_by(title='To Kill a Mockingbird').first()\n",
    "print(book)\n",
    "\n",
    "# Close the session\n",
    "session.close()"
   ]
  },
  {
   "cell_type": "markdown",
   "id": "92af67e8",
   "metadata": {},
   "source": [
    "### SQLAlchemy Core\n",
    "#### Understanding the Expression Language\n",
    "##### 1. Table and Column Representations"
   ]
  },
  {
   "cell_type": "code",
   "execution_count": 22,
   "id": "a840eeae",
   "metadata": {},
   "outputs": [],
   "source": [
    "from sqlalchemy import Table, Column, Integer, String, MetaData\n",
    "\n",
    "metadata = MetaData()\n",
    "users = Table('users', metadata,\n",
    "    Column('id', Integer, primary_key=True),\n",
    "    Column('name', String),\n",
    "    Column('fullname', String)\n",
    ")"
   ]
  },
  {
   "cell_type": "markdown",
   "id": "552e4c5f",
   "metadata": {},
   "source": [
    "##### 2. SQL Expressions"
   ]
  },
  {
   "cell_type": "code",
   "execution_count": 23,
   "id": "090ab5d7",
   "metadata": {},
   "outputs": [],
   "source": [
    "from sqlalchemy import select\n",
    "\n",
    "# SELECT * FROM users\n",
    "stmt = select(users)\n",
    "\n",
    "# SELECT name, fullname FROM users WHERE name = 'ed'\n",
    "stmt = select(users.c.name, users.c.fullname).where(users.c.name == 'ed')"
   ]
  },
  {
   "cell_type": "markdown",
   "id": "5feba75b",
   "metadata": {},
   "source": [
    "##### 3. Joins"
   ]
  },
  {
   "cell_type": "code",
   "execution_count": 24,
   "id": "2a96b226",
   "metadata": {},
   "outputs": [],
   "source": [
    "addresses = Table('addresses', metadata,\n",
    "    Column('id', Integer, primary_key=True),\n",
    "    Column('user_id', Integer),\n",
    "    Column('email_address', String)\n",
    ")\n",
    "\n",
    "# JOIN users and addresses\n",
    "stmt = select(users, addresses).join(addresses, users.c.id == addresses.c.user_id)"
   ]
  },
  {
   "cell_type": "markdown",
   "id": "facfe084",
   "metadata": {},
   "source": [
    "##### 4. Ordering and Grouping"
   ]
  },
  {
   "cell_type": "code",
   "execution_count": 25,
   "id": "28c1a257",
   "metadata": {},
   "outputs": [],
   "source": [
    "from sqlalchemy import desc\n",
    "\n",
    "# ORDER BY\n",
    "stmt = select(users).order_by(desc(users.c.name))\n",
    "\n",
    "# GROUP BY\n",
    "from sqlalchemy import func\n",
    "stmt = select(users.c.name, func.count(addresses.c.id)).join(addresses).group_by(users.c.name)"
   ]
  },
  {
   "cell_type": "markdown",
   "id": "5dc2732c",
   "metadata": {},
   "source": [
    "#### Working with Tables and Schemas\n",
    "##### 1. Creating Tables"
   ]
  },
  {
   "cell_type": "code",
   "execution_count": 26,
   "id": "05ffef77",
   "metadata": {},
   "outputs": [],
   "source": [
    "from sqlalchemy import create_engine\n",
    "\n",
    "engine = create_engine('sqlite:///example.db')\n",
    "metadata.create_all(engine)"
   ]
  },
  {
   "cell_type": "markdown",
   "id": "2e61948f",
   "metadata": {},
   "source": [
    "##### 2. Reflecting Existing Tables"
   ]
  },
  {
   "cell_type": "code",
   "execution_count": 27,
   "id": "19b95676",
   "metadata": {},
   "outputs": [],
   "source": [
    "metadata = MetaData()\n",
    "users = Table('users', metadata, autoload_with=engine)"
   ]
  },
  {
   "cell_type": "markdown",
   "id": "f2590f41",
   "metadata": {},
   "source": [
    "##### 3. Altering Tables"
   ]
  },
  {
   "cell_type": "code",
   "execution_count": 28,
   "id": "e0fd7804",
   "metadata": {},
   "outputs": [],
   "source": [
    "from sqlalchemy import Table, Column, Integer, String, MetaData\n",
    "\n",
    "\n",
    "def upgrade(engine):\n",
    "    meta = MetaData(bind=engine)\n",
    "    users = Table('users', meta, autoload=True)\n",
    "    new_column = Column('email', String(50))\n",
    "    new_column.create(users)\n",
    "\n",
    "\n",
    "def downgrade(engine):\n",
    "    meta = MetaData(bind=engine)\n",
    "    users = Table('users', meta, autoload=True)\n",
    "    users.c.email.drop()"
   ]
  },
  {
   "cell_type": "markdown",
   "id": "4045065c",
   "metadata": {},
   "source": [
    "#### Executing SQL Queries using Core\n",
    "##### 1. Using execute()"
   ]
  },
  {
   "cell_type": "code",
   "execution_count": 29,
   "id": "33328aea",
   "metadata": {},
   "outputs": [
    {
     "name": "stdout",
     "output_type": "stream",
     "text": [
      "(1, 'ed', 'Ed Jones')\n"
     ]
    }
   ],
   "source": [
    "from sqlalchemy import create_engine, text\n",
    "\n",
    "engine = create_engine('sqlite:///example.db')\n",
    "\n",
    "with engine.connect() as conn:\n",
    "    result = conn.execute(text(\"SELECT * FROM users WHERE name=:name\"), {\"name\": \"ed\"})\n",
    "    for row in result:\n",
    "        print(row)"
   ]
  },
  {
   "cell_type": "markdown",
   "id": "6a3748b4",
   "metadata": {},
   "source": [
    "##### 2. Using Compiled Statements"
   ]
  },
  {
   "cell_type": "code",
   "execution_count": 30,
   "id": "54d83cc3",
   "metadata": {},
   "outputs": [
    {
     "name": "stdout",
     "output_type": "stream",
     "text": [
      "(1, 'ed', 'Ed Jones')\n"
     ]
    }
   ],
   "source": [
    "stmt = select(users).where(users.c.name == 'ed')\n",
    "with engine.connect() as conn:\n",
    "    result = conn.execute(stmt)\n",
    "    for row in result:\n",
    "        print(row)"
   ]
  },
  {
   "cell_type": "markdown",
   "id": "42420083",
   "metadata": {},
   "source": [
    "##### 3. Inserting Data"
   ]
  },
  {
   "cell_type": "code",
   "execution_count": 31,
   "id": "bf0c97ae",
   "metadata": {},
   "outputs": [],
   "source": [
    "from sqlalchemy import insert\n",
    "\n",
    "stmt = insert(users).values(name='ed', fullname='Ed Jones')\n",
    "with engine.connect() as conn:\n",
    "    result = conn.execute(stmt)\n",
    "    conn.commit()"
   ]
  },
  {
   "cell_type": "markdown",
   "id": "c756445f",
   "metadata": {},
   "source": [
    "##### 4. Updating Data"
   ]
  },
  {
   "cell_type": "code",
   "execution_count": 32,
   "id": "a8f4e879",
   "metadata": {},
   "outputs": [],
   "source": [
    "from sqlalchemy import update\n",
    "\n",
    "stmt = update(users).where(users.c.name == 'ed').values(fullname='Edward Jones')\n",
    "with engine.connect() as conn:\n",
    "    result = conn.execute(stmt)\n",
    "    conn.commit()"
   ]
  },
  {
   "cell_type": "markdown",
   "id": "4a8dea94",
   "metadata": {},
   "source": [
    "##### 5. Deleting Data"
   ]
  },
  {
   "cell_type": "code",
   "execution_count": 33,
   "id": "19f2fef3",
   "metadata": {},
   "outputs": [],
   "source": [
    "from sqlalchemy import delete\n",
    "\n",
    "stmt = delete(users).where(users.c.name == 'ed')\n",
    "with engine.connect() as conn:\n",
    "    result = conn.execute(stmt)\n",
    "    conn.commit()"
   ]
  },
  {
   "cell_type": "markdown",
   "id": "bb088d97",
   "metadata": {},
   "source": [
    "##### 6. Transactions"
   ]
  },
  {
   "cell_type": "code",
   "execution_count": 34,
   "id": "13a5c971",
   "metadata": {},
   "outputs": [],
   "source": [
    "with engine.begin() as conn:\n",
    "    conn.execute(insert(users).values(name='ed', fullname='Ed Jones'))\n",
    "    conn.execute(insert(users).values(name='wendy', fullname='Wendy Williams'))\n",
    "    # Automatically commits if no exceptions are raised"
   ]
  },
  {
   "cell_type": "markdown",
   "id": "cf019c49",
   "metadata": {},
   "source": [
    "### SQLAlchemy ORM Basics\n",
    "#### Defining Models and Relationships\n",
    "##### 1. Basic Model Definition"
   ]
  },
  {
   "cell_type": "code",
   "execution_count": 35,
   "id": "bc15acf4",
   "metadata": {},
   "outputs": [
    {
     "name": "stderr",
     "output_type": "stream",
     "text": [
      "C:\\Users\\vainer.ag\\AppData\\Local\\Temp\\ipykernel_12572\\2394693481.py:4: MovedIn20Warning: The ``declarative_base()`` function is now available as sqlalchemy.orm.declarative_base(). (deprecated since: 2.0) (Background on SQLAlchemy 2.0 at: https://sqlalche.me/e/b8d9)\n",
      "  Base = declarative_base()\n"
     ]
    }
   ],
   "source": [
    "from sqlalchemy import Column, Integer, String, create_engine\n",
    "from sqlalchemy.ext.declarative import declarative_base\n",
    "\n",
    "Base = declarative_base()\n",
    "\n",
    "\n",
    "class User(Base):\n",
    "    __tablename__ = 'users'\n",
    "\n",
    "    id = Column(Integer, primary_key=True)\n",
    "    name = Column(String)\n",
    "    fullname = Column(String)\n",
    "    email = Column(String)\n",
    "\n",
    "    def __repr__(self):\n",
    "        return f\"<User(name='{self.name}', fullname='{self.fullname}', email='{self.email}')>\"\n",
    "\n",
    "\n",
    "engine = create_engine('sqlite:///example.db')\n",
    "Base.metadata.create_all(engine)"
   ]
  },
  {
   "cell_type": "markdown",
   "id": "e2a77037",
   "metadata": {},
   "source": [
    "##### 2. Defining Relationships"
   ]
  },
  {
   "cell_type": "code",
   "execution_count": 36,
   "id": "89641bd5",
   "metadata": {},
   "outputs": [],
   "source": [
    "from sqlalchemy import ForeignKey\n",
    "from sqlalchemy.orm import relationship\n",
    "\n",
    "\n",
    "class Address(Base):\n",
    "    __tablename__ = 'addresses'\n",
    "\n",
    "    id = Column(Integer, primary_key=True)\n",
    "    email_address = Column(String, nullable=False)\n",
    "    user_id = Column(Integer, ForeignKey('users.id'))\n",
    "\n",
    "    user = relationship(\"User\", back_populates=\"addresses\")\n",
    "\n",
    "\n",
    "User.addresses = relationship(\"Address\", order_by=Address.id, back_populates=\"user\")"
   ]
  },
  {
   "cell_type": "markdown",
   "id": "0381a6cf",
   "metadata": {},
   "source": [
    "#### CRUD Operations with ORM\n",
    "##### 1. Create (Insert):"
   ]
  },
  {
   "cell_type": "code",
   "execution_count": null,
   "id": "d9cde855",
   "metadata": {},
   "outputs": [],
   "source": [
    "from sqlalchemy.orm import sessionmaker\n",
    "\n",
    "Session = sessionmaker(bind=engine)\n",
    "session = Session()\n",
    "\n",
    "new_user = User(name='ed', fullname='Ed Jones', email='ed@example.com')\n",
    "session.add(new_user)\n",
    "session.commit()"
   ]
  },
  {
   "cell_type": "markdown",
   "id": "8097cfaa",
   "metadata": {},
   "source": [
    "#### 2. Read (Select)"
   ]
  },
  {
   "cell_type": "code",
   "execution_count": null,
   "id": "fea7e44a",
   "metadata": {},
   "outputs": [],
   "source": [
    "# Fetch all users\n",
    "users = session.query(User).all()\n",
    "\n",
    "# Fetch a specific user\n",
    "user = session.query(User).filter_by(name='ed').first()"
   ]
  },
  {
   "cell_type": "markdown",
   "id": "248507bb",
   "metadata": {},
   "source": [
    "##### 3. Update"
   ]
  },
  {
   "cell_type": "code",
   "execution_count": null,
   "id": "f8bacb43",
   "metadata": {},
   "outputs": [],
   "source": [
    "user = session.query(User).filter_by(name='ed').first()\n",
    "user.fullname = 'Edward Jones'\n",
    "session.commit()"
   ]
  },
  {
   "cell_type": "markdown",
   "id": "235e3829",
   "metadata": {},
   "source": [
    "##### 4. Delete"
   ]
  },
  {
   "cell_type": "code",
   "execution_count": null,
   "id": "be06b6b6",
   "metadata": {},
   "outputs": [],
   "source": [
    "user = session.query(User).filter_by(name='ed').first()\n",
    "session.delete(user)\n",
    "session.commit()"
   ]
  },
  {
   "cell_type": "markdown",
   "id": "f5bab835",
   "metadata": {},
   "source": [
    "##### 1. Basic Queries:"
   ]
  },
  {
   "cell_type": "code",
   "execution_count": null,
   "id": "f146779d",
   "metadata": {},
   "outputs": [],
   "source": [
    "# Select all users\n",
    "users = session.query(User).all()\n",
    "\n",
    "# Select users with a specific name\n",
    "users = session.query(User).filter_by(name='ed').all()\n",
    "\n",
    "# Select users with names starting with 'ed'\n",
    "users = session.query(User).filter(User.name.like('ed%')).all()"
   ]
  },
  {
   "cell_type": "markdown",
   "id": "04115b07",
   "metadata": {},
   "source": [
    "##### 2. Ordering Results:"
   ]
  },
  {
   "cell_type": "code",
   "execution_count": null,
   "id": "82e15091",
   "metadata": {},
   "outputs": [],
   "source": [
    "users = session.query(User).order_by(User.name).all()"
   ]
  },
  {
   "cell_type": "markdown",
   "id": "3dc0cc81",
   "metadata": {},
   "source": [
    "##### 3. Limiting Results:"
   ]
  },
  {
   "cell_type": "code",
   "execution_count": null,
   "id": "e1588997",
   "metadata": {},
   "outputs": [],
   "source": [
    "users = session.query(User).limit(5).all()"
   ]
  },
  {
   "cell_type": "markdown",
   "id": "8190362f",
   "metadata": {},
   "source": [
    "##### 4. Joins:"
   ]
  },
  {
   "cell_type": "code",
   "execution_count": null,
   "id": "312b39c1",
   "metadata": {},
   "outputs": [],
   "source": [
    "results = session.query(User, Address).join(Address).all()"
   ]
  },
  {
   "cell_type": "markdown",
   "id": "40b2096d",
   "metadata": {},
   "source": [
    "5. Aggregations:"
   ]
  },
  {
   "cell_type": "code",
   "execution_count": null,
   "id": "81dc771c",
   "metadata": {},
   "outputs": [],
   "source": [
    "from sqlalchemy import func\n",
    "\n",
    "# Count the number of users\n",
    "user_count = session.query(func.count(User.id)).scalar()\n",
    "\n",
    "# Get the user with the most addresses\n",
    "user_with_most_addresses = session.query(User, func.count(Address.id).label('address_count')).\\\n",
    "    join(Address).\\\n",
    "    group_by(User).\\\n",
    "    order_by(func.count(Address.id).desc()).\\\n",
    "    first()"
   ]
  },
  {
   "cell_type": "markdown",
   "id": "c9278b7a",
   "metadata": {},
   "source": [
    "##### 6. Subqueries:"
   ]
  },
  {
   "cell_type": "code",
   "execution_count": null,
   "id": "d82f8a74",
   "metadata": {},
   "outputs": [],
   "source": [
    "from sqlalchemy import subquery\n",
    "\n",
    "# Get users with more than 2 addresses\n",
    "address_count = session.query(Address.user_id, func.count('*').label('address_count')).\\\n",
    "    group_by(Address.user_id).\\\n",
    "    subquery()\n",
    "\n",
    "users = session.query(User).\\\n",
    "    join(address_count, User.id == address_count.c.user_id).\\\n",
    "    filter(address_count.c.address_count > 2).\\\n",
    "    all()"
   ]
  },
  {
   "cell_type": "markdown",
   "id": "012965cd",
   "metadata": {},
   "source": [
    "##### 7. Eager Loading:"
   ]
  },
  {
   "cell_type": "code",
   "execution_count": null,
   "id": "5723d0b4",
   "metadata": {},
   "outputs": [],
   "source": [
    "# Load users and their addresses in one query\n",
    "users = session.query(User).options(joinedload(User.addresses)).all()\n",
    "session.close()"
   ]
  }
 ],
 "metadata": {
  "kernelspec": {
   "display_name": "venv",
   "language": "python",
   "name": "python3"
  },
  "language_info": {
   "codemirror_mode": {
    "name": "ipython",
    "version": 3
   },
   "file_extension": ".py",
   "mimetype": "text/x-python",
   "name": "python",
   "nbconvert_exporter": "python",
   "pygments_lexer": "ipython3",
   "version": "3.13.5"
  }
 },
 "nbformat": 4,
 "nbformat_minor": 5
}
