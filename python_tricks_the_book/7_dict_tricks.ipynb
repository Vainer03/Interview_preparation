{
 "cells": [
  {
   "cell_type": "markdown",
   "id": "41c82704",
   "metadata": {},
   "source": [
    "## 7. Трюки со словарем\n",
    "### 7.1 Значения словаря, принимаемые по умолчанию"
   ]
  },
  {
   "cell_type": "code",
   "execution_count": 2,
   "id": "1b8190fd",
   "metadata": {},
   "outputs": [
    {
     "name": "stdout",
     "output_type": "stream",
     "text": [
      "Привет, Элис!\n",
      "Привет, Элис!\n",
      "Привет всем!\n",
      "Привет, Боб!\n",
      "Привет, всем!\n"
     ]
    }
   ],
   "source": [
    "name_for_userid = {\n",
    "    382: 'Элис',\n",
    "    950: 'Боб',\n",
    "    590: 'Дилберт',\n",
    "}\n",
    "\n",
    "# нет проверки ключа\n",
    "def greeting(userid):\n",
    "    return 'Привет, %s!' % name_for_userid[userid]\n",
    "\n",
    "print(greeting(382)) # 'Привет, Элис!'\n",
    "# print(greeting(333333)) # KeyError\n",
    "\n",
    "#есть реализованная вручную проверка\n",
    "# неэффективна - спрашивает словарь дважды\n",
    "# многословна - часть строки с приветствием повторяется\n",
    "# не является питоновским \"легче попросить прощения, чем разрешения\"\n",
    "\n",
    "def greeting(userid):\n",
    "    if userid in name_for_userid:\n",
    "        return 'Привет, %s!' % name_for_userid[userid]\n",
    "    else:\n",
    "        return 'Привет всем!'\n",
    "\n",
    "print(greeting(382))\n",
    "print(greeting(33333))\n",
    "\n",
    "# реализация с try-except\n",
    "def greeting(userid):\n",
    "    try: \n",
    "        return 'Привет, %s!' % name_for_userid[userid]\n",
    "    \n",
    "    except KeyError:\n",
    "        return 'Привет всем'\n",
    "    \n",
    "# лучшая реализация\n",
    "def greeting(userid):\n",
    "    return 'Привет, %s!' % name_for_userid.get(userid, 'всем')\n",
    "\n",
    "print(greeting(950))\n",
    "print(greeting(33333))"
   ]
  },
  {
   "cell_type": "markdown",
   "id": "54bf6f32",
   "metadata": {},
   "source": [
    "### 7.2 Сортировка словарей для дела и веселья\n",
    "Чтобы сравнить два кортежа, Python сначала сравнивает элементы, хранящиеся в индексной позиции 0, если они различаются, то он определяет исход сравнения, а если они равны, то сравниваютс следующие два элемента в индексной позиции 1 и тд\n",
    "\n",
    "Функция ключа - это функция, которая будет вызываться с каждым элементом перед тем, как делать сравнения. Функция ключа на входе получает элемент словаря, а на выходе возвращает требуемый \"ключ\" для сравнения порядка следования элементов"
   ]
  },
  {
   "cell_type": "code",
   "execution_count": 6,
   "id": "c6abd0ce",
   "metadata": {},
   "outputs": [
    {
     "name": "stdout",
     "output_type": "stream",
     "text": [
      "[('a', 4), ('b', 3), ('c', 2), ('d', 1)]\n",
      "[('d', 1), ('c', 2), ('b', 3), ('a', 4)]\n",
      "[('d', 1), ('c', 2), ('b', 3), ('a', 4)]\n",
      "[('d', 1), ('c', 2), ('b', 3), ('a', 4)]\n",
      "[('a', 4), ('b', 3), ('c', 2), ('d', 1)]\n"
     ]
    }
   ],
   "source": [
    "xs = {'a': 4, 'c': 2, 'b': 3, 'd': 1}\n",
    "print(sorted(xs.items()))\n",
    "\n",
    "print(sorted(xs.items(), key=lambda x: x[1]))\n",
    "\n",
    "# можно сортировать с помощью operator.itemgetter\n",
    "import operator\n",
    "\n",
    "print(sorted(xs.items(), key=operator.itemgetter(1)))\n",
    "\n",
    "# lambda функции позволяют сортировать детальнее\n",
    "print(sorted(xs.items(), key=lambda x: abs(x[1])))\n",
    "print(sorted(xs.items(), \n",
    "             key=lambda x: x[1], \n",
    "             reverse=True))"
   ]
  },
  {
   "cell_type": "markdown",
   "id": "8abaf912",
   "metadata": {},
   "source": [
    "### 7.3 Имитация инструкций выбора на основе словарей\n",
    "В python нет инструкций выбора switch-case, возникает необходимость использовать if...elif...else\n",
    "\n",
    "```\n",
    "if cond == 'cond_a':\n",
    "    handle_a()\n",
    "elif cond == 'cond_b':\n",
    "    handle_b()\n",
    "else:\n",
    "    handle_default()\n",
    "```\n",
    "\n",
    "Можно определить словарь, отображающий ключи поиска входных условий на функцииЮ которые выполнят предназначенные операции\n",
    "```\n",
    "func_dict = {\n",
    "    'cond_a': handle_a,\n",
    "    'cond_b': handle_b\n",
    "}\n",
    "\n",
    "cond = 'cond_a'\n",
    "func_dict.get(cond, handle_default)()\n",
    "```\n"
   ]
  },
  {
   "cell_type": "code",
   "execution_count": null,
   "id": "40e87d45",
   "metadata": {},
   "outputs": [
    {
     "name": "stdout",
     "output_type": "stream",
     "text": [
      "16\n",
      "None\n"
     ]
    }
   ],
   "source": [
    "def dispatch_if(operator, x, y):\n",
    "    if operator == 'add':\n",
    "        return x + y\n",
    "    elif operator == 'sub':\n",
    "        return x - y\n",
    "    elif operator == 'mul':\n",
    "        return x * y\n",
    "    elif operator == 'div':\n",
    "        return x / y\n",
    "\n",
    "print(dispatch_if('mul', 2, 8))\n",
    "print(dispatch_if('неизвестно', 2, 8))\n",
    "\n",
    "def dispatch_dict(operator, x, y):\n",
    "    return {\n",
    "        'add': lambda: x + y,\n",
    "        'sub': lambda: x - y,\n",
    "        'mul': lambda: x * y,\n",
    "        'div': lambda: x / y,\n",
    "    }.get(operator, lambda: None)()\n",
    "\n",
    "print(dispatch_dict('mul', 2, 8))\n",
    "print(dispatch_dict('неизвестно', 2, 8))\n",
    "\n",
    "# Возможные улучшения\n",
    "# Каждый раз создается временный словарь и лямбды, лучше создать словарь в качестве константы\n",
    "# Вместо лямбда функций можно использовать operator (operator.mul, operator.div)\n"
   ]
  },
  {
   "cell_type": "markdown",
   "id": "998abf5f",
   "metadata": {},
   "source": [
    "### 7.4 Самое сумасшедшее выражение-словарь на западе\n",
    "Когда Python обрабатывает наше выражение-словарь, он сначала строит новый пустой объект-словарь, а затем присваивает ему ключи и значения в том порядке, в каком они переданы в выражение словарь. \n",
    "\n",
    "Как ни странно, Python считает все ключи используемые в этом примере словаря, эквивалентными, поэтому в словаре остается только одно значение ключа, причем первое полученное, а вот значение по ключам берется последнее заданное\n",
    "\n",
    "Словари в Python опираются на структуру данных хеш-таблица. Хеш-таблица во внутреннем представлении хранит имеющиеся в ней ключи в различных \"корзинах\" в соответствии с хеш-значением каждого ключа. Хеш-значение выводится из ключа как числовое значение фиксированной длины, которое однозначно идентифицирует ключ. Этот факт позволяет выполнять быстрые операции поиска.\n",
    "\n",
    "Когда два ключа имеют одинаковое хеш-значение, такая ситуация называется хеш-конфликтом.\n",
    "\n",
    "Словари рассматривают ключи как идентичные, если результат их сравнения методом  ```__eq__``` говорит о том, что они эквивалентны и если их хеш значения одинаковы"
   ]
  },
  {
   "cell_type": "code",
   "execution_count": 12,
   "id": "4b7f8804",
   "metadata": {},
   "outputs": [
    {
     "name": "stdout",
     "output_type": "stream",
     "text": [
      "{True: 'возможно'}\n",
      "True\n",
      "да\n"
     ]
    }
   ],
   "source": [
    "print({True: 'да', 1: 'нет', 1.0: 'возможно'}) # {True: 'возможно'}\n",
    "\n",
    "# эквивалентно\n",
    "xs = dict()\n",
    "xs[True] = 'да'\n",
    "xs[1] = 'нет'\n",
    "xs[1.0] = 'возможно'\n",
    "\n",
    "print(True == 1 == 1.0)\n",
    "\n",
    "# bool значения 0 и 1\n",
    "print(['нет', 'да'][True])\n"
   ]
  },
  {
   "cell_type": "code",
   "execution_count": 17,
   "id": "77ec84b2",
   "metadata": {},
   "outputs": [
    {
     "name": "stdout",
     "output_type": "stream",
     "text": [
      "True\n",
      "True\n",
      "True\n",
      "[2208710178848, 2208708722224, 2208710046272]\n"
     ]
    },
    {
     "data": {
      "text/plain": [
       "{<__main__.AlwaysEquals at 0x2024160b680>: 'да',\n",
       " <__main__.AlwaysEquals at 0x2024181f250>: 'нет'}"
      ]
     },
     "execution_count": 17,
     "metadata": {},
     "output_type": "execute_result"
    }
   ],
   "source": [
    "class AlwaysEquals:\n",
    "    def __eq__(self, other):\n",
    "        return True\n",
    "    def __hash__(self):\n",
    "        return id(self)\n",
    "    \n",
    "print(AlwaysEquals() == AlwaysEquals())\n",
    "print(AlwaysEquals() == 42)\n",
    "print(AlwaysEquals() == 'что?')\n",
    "\n",
    "# каждый экземпляр будет возвращать уникальное хеш значение, генерируемое встроенной функцией id()\n",
    "\n",
    "objects = [AlwaysEquals(), AlwaysEquals(), AlwaysEquals()]\n",
    "print([hash(obj) for obj in objects])\n",
    "\n",
    "# из-за этого ключи не перезаписываются\n",
    "{AlwaysEquals(): 'да', AlwaysEquals(): 'нет'}\n",
    "      "
   ]
  },
  {
   "cell_type": "code",
   "execution_count": null,
   "id": "a7e1275e",
   "metadata": {},
   "outputs": [
    {
     "name": "stdout",
     "output_type": "stream",
     "text": [
      "False\n",
      "1 1\n"
     ]
    },
    {
     "data": {
      "text/plain": [
       "{<__main__.SameHash at 0x20241672f90>: 'a',\n",
       " <__main__.SameHash at 0x2024176d950>: 'b'}"
      ]
     },
     "execution_count": 19,
     "metadata": {},
     "output_type": "execute_result"
    }
   ],
   "source": [
    "class SameHash:\n",
    "    def __hash__(self):\n",
    "        return 1\n",
    "\n",
    "a = SameHash()\n",
    "b = SameHash()\n",
    "print(a == b)\n",
    "print(hash(a), hash(b))\n",
    "\n",
    "{a: 'a', b: 'b'}\n",
    "\n",
    "# ключи перезаписываются не только конфликтами хеш-значений"
   ]
  },
  {
   "cell_type": "markdown",
   "id": "9a5c2d8a",
   "metadata": {},
   "source": [
    "### 7.5 Так много способ объединить словари"
   ]
  },
  {
   "cell_type": "code",
   "execution_count": 22,
   "id": "fc5354ce",
   "metadata": {},
   "outputs": [
    {
     "name": "stdout",
     "output_type": "stream",
     "text": [
      "{'a': 1, 'b': 3, 'c': 4}\n",
      "{'a': 1, 'b': 3, 'c': 4}\n",
      "{'a': 1, 'b': 3, 'c': 4}\n"
     ]
    }
   ],
   "source": [
    "xs = {'a': 1, 'b': 2}\n",
    "ys = {'b': 3, 'c': 4}\n",
    "\n",
    "# варинат №1\n",
    "zs = {}\n",
    "zs.update(xs)\n",
    "zs.update(ys)\n",
    "print(zs)\n",
    "\n",
    "# эквивалентно\n",
    "def update_(dict1, dict2):\n",
    "    for key, value in dict2.items():\n",
    "        dict1[key] = value\n",
    "\n",
    "# от порядка будет зависеть то, как будут разрешаться конфликты значений по ключу\n",
    "\n",
    "# вариант №2\n",
    "zs = dict(xs, **ys)\n",
    "print(zs)\n",
    "\n",
    "# вариант №3\n",
    "zs = {**xs, **ys}\n",
    "print(zs)\n"
   ]
  },
  {
   "cell_type": "markdown",
   "id": "147e6e57",
   "metadata": {},
   "source": [
    "### 7.6 Структурная печать словаря\\"
   ]
  },
  {
   "cell_type": "code",
   "execution_count": 26,
   "id": "52a4751d",
   "metadata": {},
   "outputs": [
    {
     "name": "stdout",
     "output_type": "stream",
     "text": [
      "{'a': 23, 'b': 42, 'c': 12648430}\n",
      "{\n",
      "    \"a\": 23,\n",
      "    \"b\": 42,\n",
      "    \"c\": 12648430\n",
      "}\n",
      "{'a': 23, 'b': 42, 'c': 12648430, 'd': {1, 2, 3}}\n"
     ]
    }
   ],
   "source": [
    "mapping = {'a': 23, 'b': 42, 'c': 0xc0ffee}\n",
    "print(str(mapping))\n",
    "\n",
    "# вариант с json: выводит только примитивные типы данных\n",
    "import json\n",
    "print(json.dumps(mapping, indent=4, sort_keys=True))\n",
    "mapping['d'] = {1, 2, 3}\n",
    "\n",
    "import pprint\n",
    "pprint.pprint(mapping)"
   ]
  }
 ],
 "metadata": {
  "kernelspec": {
   "display_name": "venv",
   "language": "python",
   "name": "python3"
  },
  "language_info": {
   "codemirror_mode": {
    "name": "ipython",
    "version": 3
   },
   "file_extension": ".py",
   "mimetype": "text/x-python",
   "name": "python",
   "nbconvert_exporter": "python",
   "pygments_lexer": "ipython3",
   "version": "3.13.5"
  }
 },
 "nbformat": 4,
 "nbformat_minor": 5
}
