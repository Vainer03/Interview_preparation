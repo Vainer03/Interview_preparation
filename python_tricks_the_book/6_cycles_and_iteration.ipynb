{
 "cells": [
  {
   "cell_type": "markdown",
   "id": "67612cbe",
   "metadata": {},
   "source": [
    "## 6. Циклы и итерации\n",
    "### Написание питоновских циклов\n"
   ]
  },
  {
   "cell_type": "code",
   "execution_count": null,
   "id": "287601a5",
   "metadata": {},
   "outputs": [
    {
     "name": "stdout",
     "output_type": "stream",
     "text": [
      "a\n",
      "b\n",
      "c\n",
      "a\n",
      "b\n",
      "c\n",
      "a\n",
      "b\n",
      "c\n",
      "0: a\n",
      "1: b\n",
      "2: c\n",
      "Боб -> bob@example.com\n",
      "Алиса -> alice@example.com\n"
     ]
    }
   ],
   "source": [
    "# непитоновский цикл\n",
    "\n",
    "my_items = ['a', 'b', 'c']\n",
    "\n",
    "i = 0\n",
    "while i < len(my_items):\n",
    "    print(my_items[i])\n",
    "    i += 1\n",
    "\n",
    "# более питоновский цикл\n",
    "\n",
    "for i in range(len(my_items)):\n",
    "    print(my_items[i])\n",
    "\n",
    "# питоновский цикл\n",
    "\n",
    "for item in my_items:\n",
    "    print(item)\n",
    "\n",
    "# безупречный питоновский цикл\n",
    "\n",
    "for i, item in enumerate(my_items):\n",
    "    print(f'{i}: {item}')\n",
    "\n",
    "emails = {\n",
    "    'Боб': 'bob@example.com',\n",
    "    'Алиса': 'alice@example.com',\n",
    "}\n",
    "\n",
    "for name, email in emails.items():\n",
    "    print(f'{name} -> {email}')\n",
    "\n",
    "# цикл с шагом\n",
    "for i in range(a, n, s):\n",
    "    pass"
   ]
  },
  {
   "cell_type": "markdown",
   "id": "722ff39e",
   "metadata": {},
   "source": [
    "### 6.2 Осмысление включений\n",
    "Включения в список являются циклами с обходом коллекции, выраженными при помощи более сжатого и компактного синтаксиса"
   ]
  },
  {
   "cell_type": "code",
   "execution_count": 7,
   "id": "8a64dd10",
   "metadata": {},
   "outputs": [
    {
     "name": "stdout",
     "output_type": "stream",
     "text": [
      "[0, 1, 4, 9, 16, 25, 36, 49, 64, 81]\n",
      "[0, 4, 16, 36, 64]\n",
      "{64, 1, 0, 36, 4, 9, 16, 81, 49, 25}\n",
      "{0: 0, 1: 1, 2: 4, 3: 9, 4: 16}\n"
     ]
    }
   ],
   "source": [
    "# включение в список №1\n",
    "squares = [x * x for x in range(10)]\n",
    "print(squares)\n",
    "\n",
    "# эквивалентно\n",
    "squares = []\n",
    "for x in range(10):\n",
    "    squares.append(x * x)\n",
    "\n",
    "'''\n",
    "values = [expression for item in collection]\n",
    "\n",
    "# эквивалентно\n",
    "\n",
    "values = [] \n",
    "for item in collection:\n",
    "    values.append(expression)\n",
    "'''\n",
    "\n",
    "# включение в список №2\n",
    "even_squares = [x * x for x in range(10)\n",
    "                if x % 2 == 0]\n",
    "\n",
    "print(even_squares)\n",
    "\n",
    "# эквивалентно\n",
    "even_squares = []\n",
    "for x in range(10):\n",
    "    if x % 2 == 0:\n",
    "        even_squares.append(x * x)\n",
    "\n",
    "'''\n",
    "values = [expression\n",
    "          for item in collection\n",
    "          if condition]\n",
    "\n",
    "values = []\n",
    "for item in collection:\n",
    "    if condition:\n",
    "        value.append(expression)\n",
    "'''\n",
    "\n",
    "# включение в множество\n",
    "print({x * x for x in range(-9, 10)})\n",
    "\n",
    "# включение в словарь\n",
    "print({x: x * x for x in range(5)})"
   ]
  },
  {
   "cell_type": "markdown",
   "id": "ed699789",
   "metadata": {},
   "source": [
    "### 6.3 Нарезки списков и суши-оператор\n",
    "[начало:конец:шаг]\n",
    "\n",
    "верхняя граница не учитывается"
   ]
  },
  {
   "cell_type": "code",
   "execution_count": 12,
   "id": "5ad76a3f",
   "metadata": {},
   "outputs": [
    {
     "name": "stdout",
     "output_type": "stream",
     "text": [
      "[1, 2, 3, 4, 5]\n",
      "[2, 3]\n",
      "[2, 3]\n",
      "[1, 3, 5]\n",
      "[5, 4, 3, 2, 1]\n",
      "[]\n",
      "[7, 8, 9]\n",
      "[7, 8, 9]\n",
      "False\n"
     ]
    }
   ],
   "source": [
    "lst = [1, 2, 3, 4, 5]\n",
    "print(lst)\n",
    "\n",
    "# lst[начало:конец:шаг]\n",
    "print(lst[1:3:1])\n",
    "\n",
    "# по умолчанию шаг равен 1\n",
    "print(lst[1:3])\n",
    "\n",
    "print(lst[::2])\n",
    "\n",
    "# список в обратном порядке\n",
    "print(lst[::-1])\n",
    "\n",
    "# очистить весь список\n",
    "del lst[:]\n",
    "print(lst)\n",
    "\n",
    "original_lst = lst\n",
    "lst[:] = [7, 8, 9]\n",
    "print(lst)\n",
    "\n",
    "print(original_lst)\n",
    "\n",
    "# создание мелкой копии\n",
    "copied_lst = lst[:]\n",
    "print(copied_lst is lst)"
   ]
  },
  {
   "cell_type": "markdown",
   "id": "3d416118",
   "metadata": {},
   "source": [
    "### 6.4 Красивые итераторы\n",
    "Объекты, которые поддерживают ```__iter__``` и ```__next__``` работают с циклами for-in"
   ]
  },
  {
   "cell_type": "code",
   "execution_count": null,
   "id": "02ee460d",
   "metadata": {},
   "outputs": [],
   "source": [
    "numbers = [1, 2, 3]\n",
    "for n in numbers:\n",
    "    print(n)"
   ]
  },
  {
   "cell_type": "markdown",
   "id": "1951060a",
   "metadata": {},
   "source": [
    "#### Бесконечное повторение\n",
    "RepeaterIterator\n",
    "1. в методе ```__init__``` мы связываем каждый экземпляр класса Repeater-Iterator с объектом Repeater, который его создал. Благодаря этому мы можем держаться за исходный обхъект, итерации по которому выполняются\n",
    "2. В ```RepeaterIterator.__next__``` мы залезаем назад в исходный экхемпляр класса Repeater и возвращаем связанное с ним значение\n"
   ]
  },
  {
   "cell_type": "code",
   "execution_count": null,
   "id": "deea2d70",
   "metadata": {},
   "outputs": [],
   "source": [
    "class Repeater:\n",
    "    def __init__(self, value):\n",
    "        self.value = value\n",
    "    \n",
    "    def __iter__(self):\n",
    "        return RepeaterIterator(self)\n",
    "    \n",
    "class RepeaterIterator:\n",
    "    def __init__(self, source):\n",
    "        self.source = source\n",
    "    def __next__(self):\n",
    "        return self.source.value\n",
    "    \n",
    "repeater = Repeater('Привет')\n",
    "for item in repeater:\n",
    "    print(item)"
   ]
  },
  {
   "cell_type": "markdown",
   "id": "07d2b842",
   "metadata": {},
   "source": [
    "#### Как циклы for-in работают в Python?\n",
    " "
   ]
  },
  {
   "cell_type": "code",
   "execution_count": null,
   "id": "10037d26",
   "metadata": {},
   "outputs": [],
   "source": [
    "repeater = Repeater('Привет')\n",
    "for item in repeater:\n",
    "    print(item)\n",
    "\n",
    "# фрагмент кода, который дает тот же результат\n",
    "repeater = Repeater('Привет')\n",
    "iterator = repeater.__iter__()\n",
    "while True:\n",
    "    item = iterator.__next__()\n",
    "    print(item)\n",
    "\n",
    "# for-in это синтаксический сахар для вызова метода __iter__() и __next__()"
   ]
  },
  {
   "cell_type": "markdown",
   "id": "37e9ee6f",
   "metadata": {},
   "source": [
    "for-in это синтаксический сахар для простого цикла while:\n",
    "* Этот фрагмент кода с начала подготовил объект repearter к итерации, вызвав его метод ```__iter__```. Он вернул фактический объект итератор\n",
    "* После этого цикл неоднократно вызывал метод ```__next__``` объекта итератора, чтобы извлекать из него значения\n",
    "\n",
    "Похоже на курсор базы данных, где мы сначала инициализируем курсор и готовим его к чтению, а затем можем доставлять из него данные\n",
    "\n",
    "Поскольку в активном состоянии находится только один элемент ,то подход эффективен с точки зрения потребляемой оперативной памяти\n",
    "\n",
    "```__iter__``` - iter()\n",
    "```__next__``` - next()\n",
    "```x.__len__``` - len(x)\n",
    "\n"
   ]
  },
  {
   "cell_type": "code",
   "execution_count": null,
   "id": "60de285f",
   "metadata": {},
   "outputs": [
    {
     "name": "stdout",
     "output_type": "stream",
     "text": [
      "Привет\n",
      "Привет\n",
      "Привет\n"
     ]
    }
   ],
   "source": [
    "# Эмуляция данного поведения вручную\n",
    "repeater = Repeater('Привет')\n",
    "iterator = iter(repeater)\n",
    "print(next(iterator))  # Привет\n",
    "print(next(iterator))  # Привет\n",
    "print(next(iterator))  # Привет"
   ]
  },
  {
   "cell_type": "markdown",
   "id": "24fe5595",
   "metadata": {},
   "source": [
    "#### Более простой класс-итератор"
   ]
  },
  {
   "cell_type": "code",
   "execution_count": null,
   "id": "0fddb559",
   "metadata": {},
   "outputs": [],
   "source": [
    "class Repeater:\n",
    "    def __init__(self, value):\n",
    "        self.value = value\n",
    "    \n",
    "    def __iter__(self):\n",
    "        return self\n",
    "    \n",
    "    def __next__(self):\n",
    "        return self.value\n",
    "    \n",
    "repeater = Repeater('Привет')\n",
    "for item in repeater:\n",
    "    print(item)"
   ]
  },
  {
   "cell_type": "markdown",
   "id": "07c8fe62",
   "metadata": {},
   "source": [
    "#### Кто же захочет без конца выполнять операции"
   ]
  },
  {
   "cell_type": "code",
   "execution_count": null,
   "id": "ff888de6",
   "metadata": {},
   "outputs": [],
   "source": [
    "# пример конечного итератора\n",
    "numbers = [1, 2, 3]\n",
    "for n in numbers:\n",
    "    print(n)\n",
    "\n",
    "my_list = [1, 2, 3]\n",
    "iterator = iter(my_list)\n",
    "print(next(iterator))  # 1\n",
    "print(next(iterator))  # 2 \n",
    "print(next(iterator))  # 3\n",
    "# next(iterator)  # StopIteration ошибка"
   ]
  },
  {
   "cell_type": "code",
   "execution_count": 10,
   "id": "376d80cf",
   "metadata": {},
   "outputs": [
    {
     "name": "stdout",
     "output_type": "stream",
     "text": [
      "Привет\n",
      "Привет\n",
      "Привет\n",
      "Привет\n",
      "Привет\n",
      "Привет\n"
     ]
    }
   ],
   "source": [
    "class BoundedRepeater:\n",
    "    def __init__(self, value, max_repeats):\n",
    "        self.value = value\n",
    "        self.max_repeats = max_repeats\n",
    "        self.count = 0\n",
    "    def __iter__(self):\n",
    "        return self\n",
    "    def __next__(self):\n",
    "        if self.count >= self.max_repeats:\n",
    "            raise StopIteration\n",
    "        self.count += 1\n",
    "        return self.value\n",
    "\n",
    "repeater = BoundedRepeater('Привет', 3)\n",
    "for item in repeater:\n",
    "    print(item)\n",
    "\n",
    "# то же самое, но без синтаксического сахара for-in\n",
    "repeater = BoundedRepeater('Привет', 3)\n",
    "iterator = iter(repeater)\n",
    "while True:\n",
    "    try:\n",
    "        item = next(iterator)\n",
    "    except StopIteration:\n",
    "        break\n",
    "    print(item)"
   ]
  },
  {
   "cell_type": "markdown",
   "id": "8dbfaf20",
   "metadata": {},
   "source": [
    "### 6.5 Генераторы - это упрощенные итераторы\n",
    "#### Бесконечные генераторы\n",
    "Вызов функции генератора вообще не выполняет функцию, а создает и возвращает объект-генератор. Программный код в функции-генератора исполняется только тогда, когда функция next() вызывается с объектом генератором в качестве аргумента.\n",
    "\n",
    "В отличие от инструкции return, которая избавляется от локального состояния функции, инструкция yield приостанавливает функцию и сохраняет ее локальное состояние. Это означает, что локальные переменные и состояние исполнения функции-генератора лишь откладываются в сторону и не выбрасываются полностью. Исполнение может быть возоблено в любое времчя вызовом функции next() с генератором в качестве аргумента"
   ]
  },
  {
   "cell_type": "code",
   "execution_count": 14,
   "id": "968446f8",
   "metadata": {},
   "outputs": [],
   "source": [
    "# то же самое, но с использованием генератора\n",
    "def repeater(value):\n",
    "    while True:\n",
    "        yield value\n",
    "\n",
    "# for x in repeater('Привет'):\n",
    "#     print(x)"
   ]
  },
  {
   "cell_type": "code",
   "execution_count": 15,
   "id": "cffdf985",
   "metadata": {},
   "outputs": [
    {
     "data": {
      "text/plain": [
       "'Привет'"
      ]
     },
     "execution_count": 15,
     "metadata": {},
     "output_type": "execute_result"
    }
   ],
   "source": [
    "generator_obj = repeater('Привет')\n",
    "next(generator_obj)"
   ]
  },
  {
   "cell_type": "markdown",
   "id": "e00fe962",
   "metadata": {},
   "source": [
    "#### Генераторы, которые прекращают генерацию"
   ]
  },
  {
   "cell_type": "code",
   "execution_count": 19,
   "id": "8b7339be",
   "metadata": {},
   "outputs": [
    {
     "name": "stdout",
     "output_type": "stream",
     "text": [
      "Привет\n",
      "Привет\n",
      "Привет\n",
      "Привет\n",
      "Привет\n",
      "Привет\n",
      "Привет\n",
      "Привет\n",
      "Привет\n"
     ]
    }
   ],
   "source": [
    "def repeat_three_times(value):\n",
    "    yield value\n",
    "    yield value\n",
    "    yield value\n",
    "\n",
    "for x in repeat_three_times('Привет'):\n",
    "    print(x)\n",
    "\n",
    "# запускается только три раза\n",
    "# почему же так?\n",
    "\n",
    "iterator = repeat_three_times('Привет')\n",
    "print(next(iterator))  # Привет\n",
    "print(next(iterator))  # Привет\n",
    "print(next(iterator))  # Привет\n",
    "# print(next(iterator))  # StopIteration ошибка\n",
    "\n",
    "def bounded_repeater(value, max_repeats):\n",
    "    count = 0\n",
    "    while True:\n",
    "        if count >= max_repeats:\n",
    "            return\n",
    "        count += 1\n",
    "        yield value\n",
    "    \n",
    "for x in bounded_repeater('Привет', 3):\n",
    "    print(x)\n",
    "\n",
    "#окончательная реализация генератора\n",
    "def bounded_repeater(value, max_repeats):\n",
    "    for _ in range(max_repeats):\n",
    "        yield value"
   ]
  },
  {
   "cell_type": "markdown",
   "id": "404686a4",
   "metadata": {},
   "source": [
    "### 6.6 Выражения генераторы\n",
    "После того, как выражение-генератор было использовано, оно не может быть перезапущено или использовано снова. Поэтому в некоторых случаях предпочтительнее использовать функции генераторы или итераторы на основе класса"
   ]
  },
  {
   "cell_type": "code",
   "execution_count": 20,
   "id": "2adbfa15",
   "metadata": {},
   "outputs": [
    {
     "name": "stdout",
     "output_type": "stream",
     "text": [
      "Привет\n",
      "Привет\n",
      "Привет\n"
     ]
    }
   ],
   "source": [
    "iterator = ('Привет' for _ in range(3))\n",
    "for x in iterator:\n",
    "    print(x)"
   ]
  },
  {
   "cell_type": "markdown",
   "id": "07371e2f",
   "metadata": {},
   "source": [
    "#### Выражения-генераторы против включений в список"
   ]
  },
  {
   "cell_type": "code",
   "execution_count": null,
   "id": "2c107f3e",
   "metadata": {},
   "outputs": [
    {
     "name": "stdout",
     "output_type": "stream",
     "text": [
      "['Привет', 'Привет', 'Привет']\n",
      "<generator object <genexpr> at 0x00000264C2F2FB80>\n",
      "Привет\n",
      "Привет\n",
      "Привет\n"
     ]
    },
    {
     "data": {
      "text/plain": [
       "['Привет', 'Привет', 'Привет']"
      ]
     },
     "execution_count": 23,
     "metadata": {},
     "output_type": "execute_result"
    }
   ],
   "source": [
    "listcomp = ['Привет' for _ in range(3)]\n",
    "genexpr = ('Привет' for _ in range(3))\n",
    "\n",
    "print(listcomp)\n",
    "print(genexpr)\n",
    "print(next(genexpr))  # Привет\n",
    "print(next(genexpr))  # Привет\n",
    "print(next(genexpr))  # Привет\n",
    "\n",
    "genexpr = ('Привет' for _ in range(3))\n",
    "print(list(genexpr))  # ['Привет', 'Привет', 'Привет']\n",
    "\n",
    "# шаблон выражения-генератора\n",
    "genexpr = (expression for item in collection)\n",
    "\n",
    "# эквивалентно\n",
    "def genexpr(collection):\n",
    "    for item in collection:\n",
    "        yield expression\n",
    "\n"
   ]
  },
  {
   "cell_type": "markdown",
   "id": "131749b8",
   "metadata": {},
   "source": [
    "#### Фильтрация значений\n"
   ]
  },
  {
   "cell_type": "code",
   "execution_count": null,
   "id": "f6efe1c3",
   "metadata": {},
   "outputs": [
    {
     "name": "stdout",
     "output_type": "stream",
     "text": [
      "0\n",
      "4\n",
      "16\n",
      "36\n",
      "64\n"
     ]
    }
   ],
   "source": [
    "even_squares = (x * x for x in range(10) if x % 2 == 0)\n",
    "for x in even_squares:\n",
    "    print(x)\n",
    "\n",
    "# шаблон выражения-генератора с условием\n",
    "genexpr = (expression for item in collection if condition)\n",
    "\n",
    "# эквивалентно\n",
    "def genexpr(collection):\n",
    "    for item in collection:\n",
    "        if condition:\n",
    "            yield expression"
   ]
  },
  {
   "cell_type": "markdown",
   "id": "e306fca1",
   "metadata": {},
   "source": [
    "#### Встраиваемые выражения-генераторы\n"
   ]
  },
  {
   "cell_type": "code",
   "execution_count": 25,
   "id": "65079511",
   "metadata": {},
   "outputs": [
    {
     "name": "stdout",
     "output_type": "stream",
     "text": [
      "Buongiorno\n",
      "Buongiorno\n",
      "Buongiorno\n",
      "90\n",
      "90\n"
     ]
    }
   ],
   "source": [
    "for x in ('Buongiorno' for _ in range(3)):\n",
    "    print(x)\n",
    "\n",
    "# круглые скобки окружающие выражение-генератор могут быть опущены если выражение-генератор\n",
    "# используется в качестве единственного аргумента функции \n",
    "\n",
    "print(sum((x * 2 for x in range(10))))\n",
    "\n",
    "# vs\n",
    "\n",
    "print(sum(x * 2 for x in range(10)))"
   ]
  },
  {
   "cell_type": "markdown",
   "id": "ee1a4ca3",
   "metadata": {},
   "source": [
    "#### Слишком много хорошего..."
   ]
  },
  {
   "cell_type": "code",
   "execution_count": null,
   "id": "5f0a09b8",
   "metadata": {},
   "outputs": [],
   "source": [
    "(expr for x in xs if cond1\n",
    "      for y in ys if cond2\n",
    "      for z in zs if cond3)\n",
    "\n",
    "# эквивалентно\n",
    "for x in xs:\n",
    "    if cond1:\n",
    "        for y in ys:\n",
    "            if cond2:\n",
    "                for z in zs:\n",
    "                    if cond3:\n",
    "                        yield expr\n",
    "\n",
    "# лучше не писать такие глубоко вложенные выражения"
   ]
  },
  {
   "cell_type": "markdown",
   "id": "b0cb5df6",
   "metadata": {},
   "source": [
    "#### Ключевые выводы\n",
    "* Выражения-генераторы похожи на включения в список. Однако они не конструируют объекты-списки. Вместо этого выражения-генераторы генерируют значения \"точно в срок\" подобно тому, как это делают итераторы на основе класса или функции-генераторы\n",
    "* Как тольк овыражение-генератор было использовано, оно не может быть перезапущено или использовано заново\n",
    "* Выражения-генераторы лучше всего пожходят для реализации простых \"ситуативных\" итераторов. В случае составных итераторов лучсше написать функцию-генератор или итератор на основе класса\n",
    "\n",
    "### 6.7 Цепочки итераторов\n"
   ]
  },
  {
   "cell_type": "code",
   "execution_count": null,
   "id": "41b923fb",
   "metadata": {},
   "outputs": [
    {
     "name": "stdout",
     "output_type": "stream",
     "text": [
      "[1, 2, 3, 4, 5, 6, 7, 8]\n",
      "[]\n"
     ]
    }
   ],
   "source": [
    "def integers():\n",
    "    for i in range(1, 9):\n",
    "        yield i\n",
    "\n",
    "chain = integers()\n",
    "print(list(chain)) # [1, 2, 3, 4, 5, 6, 7, 8]"
   ]
  },
  {
   "cell_type": "code",
   "execution_count": 29,
   "id": "1d08b8bb",
   "metadata": {},
   "outputs": [
    {
     "name": "stdout",
     "output_type": "stream",
     "text": [
      "[1, 4, 9, 16, 25, 36, 49, 64]\n"
     ]
    }
   ],
   "source": [
    "def integers():\n",
    "    for i in range(1, 9):\n",
    "        yield i\n",
    "\n",
    "def squared(seq):\n",
    "    for i in seq:\n",
    "        yield i * i\n",
    "\n",
    "chain = integers()\n",
    "print(list(squared(chain)))  # [1, 4, 9, 16, 25, 36, 49, 64]"
   ]
  },
  {
   "cell_type": "code",
   "execution_count": null,
   "id": "99f71e35",
   "metadata": {},
   "outputs": [
    {
     "name": "stdout",
     "output_type": "stream",
     "text": [
      "[-1, -4, -9, -16, -25, -36, -49, -64]\n"
     ]
    }
   ],
   "source": [
    "def integers():\n",
    "    for i in range(1, 9):\n",
    "        yield i\n",
    "\n",
    "def squared(seq):\n",
    "    for i in seq:\n",
    "        yield i * i\n",
    "\n",
    "def negated(seq):\n",
    "    for i in seq:\n",
    "        yield -i\n",
    "\n",
    "print(list(negated(squared(integers()))))  # [1, 4, 9, 16, 25, 36, 49, 64]\n",
    "\n",
    "# обработка данных происходит по одному элементу за раз"
   ]
  },
  {
   "cell_type": "code",
   "execution_count": null,
   "id": "d9297fb9",
   "metadata": {},
   "outputs": [],
   "source": [
    "# эквивалентно\n",
    "integers = range(8)\n",
    "squared = (i * i for i in integers)\n",
    "negated = (-i for i in squared)\n",
    "\n",
    "list(negated)"
   ]
  },
  {
   "cell_type": "markdown",
   "id": "0639b609",
   "metadata": {},
   "source": [
    "#### Ключевые выводы\n",
    "* Генераторы могут состыковываться в цепочки, формируя очень эффективные и удобные в сопровождении конвейеры обработки данных\n",
    "* Состыкованные в цепочки генераторы обрабатывают каждый элемент, проходящий сквозь цепь по отдельности\n",
    "* Выражения-генераторы могут использоваться для написания сжатого определения конвейера, но это может повлиять на удобочитаемость"
   ]
  }
 ],
 "metadata": {
  "kernelspec": {
   "display_name": ".venv",
   "language": "python",
   "name": "python3"
  },
  "language_info": {
   "codemirror_mode": {
    "name": "ipython",
    "version": 3
   },
   "file_extension": ".py",
   "mimetype": "text/x-python",
   "name": "python",
   "nbconvert_exporter": "python",
   "pygments_lexer": "ipython3",
   "version": "3.13.3"
  }
 },
 "nbformat": 4,
 "nbformat_minor": 5
}
