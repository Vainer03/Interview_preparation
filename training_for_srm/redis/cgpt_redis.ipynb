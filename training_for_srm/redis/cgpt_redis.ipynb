{
 "cells": [
  {
   "cell_type": "markdown",
   "id": "e5a9be85",
   "metadata": {},
   "source": [
    "\n",
    "---\n",
    "\n",
    "# Модуль 1: Введение в Redis\n",
    "\n",
    "## Цель занятия:\n",
    "\n",
    "* Понять, что такое Redis и для чего он используется\n",
    "* Научиться устанавливать Redis и пользоваться `redis-cli`\n",
    "* Освоить базовые команды и подход к работе"
   ]
  },
  {
   "cell_type": "markdown",
   "id": "901e4f90",
   "metadata": {},
   "source": [
    "\n",
    "---\n",
    "\n",
    "## 1.1 Что такое Redis?\n",
    "\n",
    "### Теория:\n",
    "\n",
    "**Redis** (REmote DIctionary Server) — это:\n",
    "\n",
    "* Сверхбыстрая **in-memory** база данных (всё хранится в оперативной памяти)\n",
    "* Поддерживает **ключ-значение** (key-value) и множество других структур\n",
    "* Может выступать как:\n",
    "\n",
    "  * Кэш\n",
    "  * Брокер сообщений\n",
    "  * Очередь задач\n",
    "  * Сессия-хранилище\n",
    "\n",
    "### Особенности Redis:\n",
    "\n",
    "* Очень высокая скорость: миллионы операций в секунду\n",
    "* Поддержка TTL (времени жизни ключей)\n",
    "* Асинхронное сохранение на диск (RDB, AOF)\n",
    "* Возможность кластеризации и репликации\n",
    "* Открытый исходный код (C), лицензия BSD\n",
    "\n",
    "---\n"
   ]
  },
  {
   "cell_type": "markdown",
   "id": "54777422",
   "metadata": {},
   "source": [
    "\n",
    "## 1.2 Где используется Redis?\n",
    "\n",
    "| Сценарий       | Пример                              |\n",
    "| -------------- | ----------------------------------- |\n",
    "| Кэширование | Кэш HTML-страниц, ответов API       |\n",
    "| Сессии       | Хранение данных аутентификации      |\n",
    "| Очереди     | Email-уведомления, фоновые задачи   |\n",
    "| Pub/Sub     | Чат-приложения, онлайн-уведомления  |\n",
    "| Счётчики    | Лайки, просмотры, количество кликов |\n",
    "\n",
    "---\n"
   ]
  },
  {
   "cell_type": "markdown",
   "id": "dd0ca82e",
   "metadata": {},
   "source": [
    "\n",
    "## 1.3 Установка Redis\n",
    "\n",
    "### Вариант: через Docker\n",
    "\n",
    "```bash\n",
    "docker run --name redis-server -p 6379:6379 -d redis\n",
    "```\n",
    "\n",
    "Проверим, что Redis запущен:\n",
    "\n",
    "```bash\n",
    "docker ps\n",
    "```\n",
    "\n",
    "### Проверка через CLI:\n",
    "\n",
    "```bash\n",
    "docker exec -it redis-server redis-cli\n",
    "```\n",
    "\n",
    "---\n"
   ]
  },
  {
   "cell_type": "markdown",
   "id": "1c2eb06b",
   "metadata": {
    "vscode": {
     "languageId": "plaintext"
    }
   },
   "source": [
    "\n",
    "## 1.4 Redis CLI: Первая практика\n",
    "\n",
    "Подключитесь через `redis-cli`. Выполните команды:\n",
    "\n",
    "### Команды:\n",
    "\n",
    "```bash\n",
    "SET user \"Anastasiia\"\n",
    "GET user\n",
    "DEL user\n",
    "SET counter 10\n",
    "INCR counter\n",
    "DECR counter\n",
    "EXPIRE counter 30  # TTL = 30 сек\n",
    "TTL counter\n",
    "```\n",
    "\n",
    "### Объяснение:\n",
    "\n",
    "* `SET key value` — создаёт или обновляет значение\n",
    "* `GET key` — получить значение\n",
    "* `DEL key` — удалить\n",
    "* `INCR/DECR` — увеличение/уменьшение числового значения\n",
    "* `EXPIRE key seconds` — задать TTL (время жизни)\n",
    "* `TTL key` — узнать, сколько осталось\n",
    "\n",
    "---\n"
   ]
  },
  {
   "cell_type": "markdown",
   "id": "4540c13f",
   "metadata": {},
   "source": [
    "\n",
    "## Задание №1 (самостоятельная практика)\n",
    "\n",
    "> Попробуйте выполнить самостоятельно в CLI:\n",
    "\n",
    "1. Сохраните своё имя в ключе `student:name`\n",
    "2. Создайте ключ `visits`, поставьте значение 0, затем увеличьте его 5 раз\n",
    "3. Установите для `visits` TTL = 60 секунд\n",
    "4. Проверьте TTL, удалите ключ\n",
    "5. Что произойдёт, если сделать `GET visits` после удаления?\n",
    "\n",
    "---\n"
   ]
  },
  {
   "cell_type": "markdown",
   "id": "c01b51ac",
   "metadata": {},
   "source": [
    "## Задание №2 (необязательное, с Python)\n",
    "\n",
    "Создайте простой Python-скрипт:"
   ]
  },
  {
   "cell_type": "code",
   "execution_count": 1,
   "id": "ad65f754",
   "metadata": {},
   "outputs": [
    {
     "name": "stdout",
     "output_type": "stream",
     "text": [
      "Hello, Redis User\n",
      "Visits: 1\n"
     ]
    }
   ],
   "source": [
    "import redis\n",
    "\n",
    "r = redis.Redis(host='localhost', port=6379, decode_responses=True)\n",
    "\n",
    "r.set(\"name\", \"Redis User\")\n",
    "print(\"Hello,\", r.get(\"name\"))\n",
    "\n",
    "r.incr(\"visits\")\n",
    "print(\"Visits:\", r.get(\"visits\"))"
   ]
  },
  {
   "cell_type": "markdown",
   "id": "e31eb232",
   "metadata": {},
   "source": [
    "\n",
    "Убедитесь, что Redis-клиент работает, и данные действительно сохраняются.\n",
    "\n",
    "---\n"
   ]
  },
  {
   "cell_type": "markdown",
   "id": "a127215b",
   "metadata": {},
   "source": [
    "\n",
    "## Домашнее задание\n",
    "\n",
    "1. Прочитать официальную страницу Redis: [https://redis.io/docs/latest/](https://redis.io/docs/latest/)\n",
    "2. Установить Redis локально или через Docker\n",
    "3. Освоить команды `SET`, `GET`, `DEL`, `INCR`, `EXPIRE`, `TTL`\n",
    "4. Реализовать мини-сценарий:\n",
    "\n",
    "   * Завести ключ `session:<yourname>`\n",
    "   * Установить TTL = 5 минут\n",
    "   * Увеличивать счётчик входов каждый раз, когда запускаете Python-скрипт\n",
    "\n",
    "---\n"
   ]
  },
  {
   "cell_type": "markdown",
   "id": "1c60ddfb",
   "metadata": {},
   "source": [
    "\n",
    "---\n",
    "\n",
    "# Модуль 2: Основные типы данных в Redis\n",
    "\n",
    "## Цель занятия:\n",
    "\n",
    "* Научиться использовать встроенные структуры данных Redis\n",
    "* Освоить команды для работы со строками, хэшами, списками, множествами и отсортированными множествами\n",
    "* Начать применять Redis как универсальное хранилище в разных сценариях\n",
    "\n",
    "---\n"
   ]
  },
  {
   "cell_type": "markdown",
   "id": "925507f2",
   "metadata": {},
   "source": [
    "\n",
    "## Типы данных в Redis\n",
    "\n",
    "Redis поддерживает не просто строки — это **структурированное key-value хранилище**, где значение может быть сложной структурой.\n",
    "\n",
    "| Тип                                    | Пример применения          |\n",
    "| -------------------------------------- | -------------------------- |\n",
    "| String (строка)                        | Кэш JSON, число, флаг      |\n",
    "| Hash (хэш)                             | Объект пользователя        |\n",
    "| List (список)                          | Очередь сообщений          |\n",
    "| Set (множество)                        | Уникальные теги            |\n",
    "| Sorted Set (отсортированное множество) | Таблица лидеров (рейтинги) |\n",
    "\n",
    "---\n"
   ]
  },
  {
   "cell_type": "markdown",
   "id": "c7f8eede",
   "metadata": {},
   "source": [
    "\n",
    "## 2.1 Строки (String)\n",
    "\n",
    "### Теория:\n",
    "\n",
    "* Самый базовый тип.\n",
    "* Может хранить: строку, число, JSON и даже бинарные данные.\n",
    "\n",
    "### Команды:\n",
    "\n",
    "```bash\n",
    "SET user \"Anastasiia\"\n",
    "GET user\n",
    "\n",
    "SET counter 100\n",
    "INCR counter\n",
    "DECR counter\n",
    "\n",
    "APPEND user \" Vainer\"\n",
    "STRLEN user\n",
    "```\n"
   ]
  },
  {
   "cell_type": "markdown",
   "id": "e85c768b",
   "metadata": {},
   "source": [
    "\n",
    "---\n",
    "\n",
    "## 2.2 Хэши (Hash)\n",
    "\n",
    "### Теория:\n",
    "\n",
    "* Аналог словаря (dict).\n",
    "* Удобен для хранения сущностей: пользователя, товара и т.п.\n",
    "\n",
    "### Команды:\n",
    "\n",
    "```bash\n",
    "HSET user:1 name \"Anastasiia\" age 22\n",
    "HGET user:1 name\n",
    "HGETALL user:1\n",
    "HDEL user:1 age\n",
    "HEXISTS user:1 age\n",
    "```\n",
    "\n",
    "### Пример:\n",
    "\n",
    "```bash\n",
    "HSET product:42 name \"Laptop\" price 999.99\n",
    "```\n",
    "\n",
    "---\n"
   ]
  },
  {
   "cell_type": "markdown",
   "id": "134bbad1",
   "metadata": {},
   "source": [
    "\n",
    "## 2.3 Списки (List)\n",
    "\n",
    "### Теория:\n",
    "\n",
    "* Двунаправленный список.\n",
    "* Используется как очередь, стек, журнал логов.\n",
    "\n",
    "### Команды:\n",
    "\n",
    "```bash\n",
    "LPUSH queue \"task1\"\n",
    "RPUSH queue \"task2\"\n",
    "LPOP queue\n",
    "RPOP queue\n",
    "LRANGE queue 0 -1\n",
    "LLEN queue\n",
    "```\n",
    "\n",
    "---\n"
   ]
  },
  {
   "cell_type": "markdown",
   "id": "9e45e173",
   "metadata": {},
   "source": [
    "\n",
    "## 2.4 Множества (Set)\n",
    "\n",
    "### Теория:\n",
    "\n",
    "* Коллекция **уникальных** элементов.\n",
    "* Быстрые операции над множествами.\n",
    "\n",
    "### Команды:\n",
    "\n",
    "```bash\n",
    "SADD tags \"python\" \"redis\" \"backend\"\n",
    "SISMEMBER tags \"redis\"\n",
    "SREM tags \"backend\"\n",
    "SMEMBERS tags\n",
    "SCARD tags\n",
    "```\n",
    "\n",
    "---\n"
   ]
  },
  {
   "cell_type": "markdown",
   "id": "5047a172",
   "metadata": {},
   "source": [
    "\n",
    "## 2.5 Отсортированные множества (Sorted Set)\n",
    "\n",
    "### Теория:\n",
    "\n",
    "* Множество с **оценками (score)** — автоматически сортируется.\n",
    "* Используется для рейтингов, приоритетов, лент.\n",
    "\n",
    "### Команды:\n",
    "\n",
    "```bash\n",
    "ZADD leaderboard 100 \"Alice\" 200 \"Bob\"\n",
    "ZRANGE leaderboard 0 -1 WITHSCORES\n",
    "ZREVRANGE leaderboard 0 1 WITHSCORES\n",
    "ZINCRBY leaderboard 10 \"Alice\"\n",
    "```\n"
   ]
  },
  {
   "cell_type": "markdown",
   "id": "f6353323",
   "metadata": {},
   "source": [
    "\n",
    "---\n",
    "\n",
    "## Практика №1 — через Redis CLI\n",
    "\n",
    "Выполните по очереди команды:\n",
    "\n",
    "```bash\n",
    "SET page:views 1\n",
    "INCR page:views\n",
    "GET page:views\n",
    "\n",
    "HSET user:100 name \"John\" email \"john@example.com\"\n",
    "HGETALL user:100\n",
    "\n",
    "LPUSH notifications \"Message 1\"\n",
    "RPUSH notifications \"Message 2\"\n",
    "LRANGE notifications 0 -1\n",
    "\n",
    "SADD tech_tags \"Redis\" \"Docker\" \"Redis\"\n",
    "SMEMBERS tech_tags\n",
    "\n",
    "ZADD scores 100 \"Player1\" 200 \"Player2\"\n",
    "ZREVRANGE scores 0 -1 WITHSCORES\n",
    "```\n",
    "\n",
    "---"
   ]
  },
  {
   "cell_type": "markdown",
   "id": "ab926003",
   "metadata": {},
   "source": [
    "## Практика №2 — Python"
   ]
  },
  {
   "cell_type": "code",
   "execution_count": null,
   "id": "4e5002dd",
   "metadata": {},
   "outputs": [],
   "source": [
    "import redis\n",
    "\n",
    "r = redis.Redis(decode_responses=True)\n",
    "\n",
    "# String\n",
    "r.set(\"views\", 1)\n",
    "r.incr(\"views\")\n",
    "print(\"Views:\", r.get(\"views\"))\n",
    "\n",
    "# Hash\n",
    "r.hset(\"user:1\", mapping={\"name\": \"Anna\", \"email\": \"anna@mail.com\"})\n",
    "print(\"User:\", r.hgetall(\"user:1\"))\n",
    "\n",
    "# List\n",
    "r.lpush(\"queue\", \"task1\")\n",
    "r.rpush(\"queue\", \"task2\")\n",
    "print(\"Queue:\", r.lrange(\"queue\", 0, -1))\n",
    "\n",
    "# Set\n",
    "r.sadd(\"skills\", \"Python\", \"Redis\", \"Docker\")\n",
    "print(\"Skills:\", r.smembers(\"skills\"))\n",
    "\n",
    "# Sorted Set\n",
    "r.zadd(\"leaderboard\", {\"Bob\": 300, \"Alice\": 250})\n",
    "r.zincrby(\"leaderboard\", 50, \"Alice\")\n",
    "print(\"Leaderboard:\", r.zrevrange(\"leaderboard\", 0, -1, withscores=True))"
   ]
  },
  {
   "cell_type": "markdown",
   "id": "3b4e2497",
   "metadata": {},
   "source": [
    "---\n",
    "\n",
    "## Домашнее задание\n",
    "\n",
    "1. Создайте сущность \"user\" с хэшом (имя, email, возраст)\n",
    "2. Заведите очередь email-уведомлений (список)\n",
    "3. Список технологий как множество (без повторов)\n",
    "4. Таблица лидеров на основе отсортированного множества\n",
    "\n",
    "*Обязательно проверьте команды через CLI и Python-клиент.*\n",
    "\n",
    "---"
   ]
  },
  {
   "cell_type": "markdown",
   "id": "2486ab73",
   "metadata": {},
   "source": [
    "\n",
    "\n",
    "## Выводы\n",
    "\n",
    "* Redis — это не просто строки. Он предоставляет мощные структуры:\n",
    "\n",
    "  * Hash для объектов\n",
    "  * List для очередей\n",
    "  * Set и ZSet для уникальных и упорядоченных данных\n",
    "* Эти структуры — основа большинства production-сценариев\n",
    "\n",
    "---"
   ]
  },
  {
   "cell_type": "markdown",
   "id": "881bbcac",
   "metadata": {},
   "source": [
    "\n",
    "\n"
   ]
  },
  {
   "cell_type": "markdown",
   "id": "78f6fbdf",
   "metadata": {},
   "source": [
    "\n",
    "---\n",
    "\n",
    "# Модуль 3: Redis как система кэширования\n",
    "\n",
    "## Цель занятия:\n",
    "\n",
    "* Понять принципы кэширования в Redis\n",
    "* Освоить работу с TTL и автоудалением ключей\n",
    "* Реализовать паттерн cache-aside\n",
    "* Разобрать типичные ошибки и антипаттерны\n",
    "\n",
    "---\n"
   ]
  },
  {
   "cell_type": "markdown",
   "id": "1b32ad7a",
   "metadata": {},
   "source": [
    "\n",
    "## 3.1 Что такое кэширование?\n",
    "\n",
    "**Кэширование** — это сохранение результатов вычислений или данных во временное хранилище для ускорения доступа при повторных запросах.\n",
    "\n",
    "### Почему Redis подходит идеально?\n",
    "\n",
    "* Работает в памяти → очень быстро\n",
    "* TTL (время жизни) → автоматическое устаревание данных\n",
    "* Простота интеграции\n",
    "* Удобен как центральный кэш в микросервисной архитектуре\n",
    "\n",
    "---"
   ]
  },
  {
   "cell_type": "markdown",
   "id": "ea4ba94e",
   "metadata": {},
   "source": [
    "\n",
    "\n",
    "## 3.2 Время жизни (TTL) и автоудаление\n",
    "\n",
    "### Команды:\n",
    "\n",
    "```bash\n",
    "SET temp_data \"value\" EX 60      # Установить значение с TTL 60 сек\n",
    "EXPIRE temp_data 30              # Установить TTL отдельно\n",
    "TTL temp_data                    # Проверить оставшееся время\n",
    "PERSIST temp_data                # Удалить TTL, сделать ключ вечным\n",
    "DEL temp_data                    # Удалить ключ\n",
    "```\n",
    "\n",
    "---\n",
    "\n",
    "### Поведение Redis:\n",
    "\n",
    "* По умолчанию ключи вечные\n",
    "* Если TTL установлен, Redis удаляет их при:\n",
    "\n",
    "  * Обращении к истёкшему ключу\n",
    "  * Фоновом процессе очистки\n",
    "\n",
    "---\n"
   ]
  },
  {
   "cell_type": "markdown",
   "id": "9d3593b4",
   "metadata": {},
   "source": [
    "\n",
    "## 3.3 Паттерн “Cache-Aside” (Обход кэша)\n",
    "\n",
    "> Наиболее часто используемый паттерн при кэшировании данных из базы.\n",
    "\n",
    "### Алгоритм:\n",
    "\n",
    "1. Обращаемся в Redis (`GET`)\n",
    "2. Если ключ есть (hit) → возвращаем\n",
    "3. Если ключа нет (miss):\n",
    "\n",
    "   * Берём данные из БД\n",
    "   * Кладём в Redis (`SET ... EX`)\n",
    "   * Возвращаем клиенту\n",
    "\n",
    "---\n",
    "\n",
    "### Пример на Python:\n"
   ]
  },
  {
   "cell_type": "code",
   "execution_count": 9,
   "id": "d8f3559c",
   "metadata": {},
   "outputs": [
    {
     "name": "stdout",
     "output_type": "stream",
     "text": [
      "Cache HIT\n",
      "{'id': 1, 'name': 'Anna'}\n",
      "Cache HIT\n",
      "{'id': 1, 'name': 'Anna'}\n"
     ]
    }
   ],
   "source": [
    "import redis\n",
    "import json\n",
    "\n",
    "# Подключение к Redis с автоматическим декодированием ответов\n",
    "r = redis.Redis(\n",
    "    host='localhost',\n",
    "    port=6379,\n",
    "    decode_responses=True  # Автоматически декодирует байты в строки\n",
    ")\n",
    "\n",
    "def get_user_from_db(user_id):\n",
    "    \"\"\"Симуляция запроса к базе данных.\"\"\"\n",
    "    print(\"Fetching from DB...\")\n",
    "    return {\"id\": user_id, \"name\": \"Anna\"}\n",
    "\n",
    "def get_user(user_id):\n",
    "    key = f\"user:{user_id}\"\n",
    "    \n",
    "    try:\n",
    "        cached = r.get(key)\n",
    "        if cached:\n",
    "            print(\"Cache HIT\")\n",
    "            return json.loads(cached)\n",
    "        else:\n",
    "            print(\"Cache MISS\")\n",
    "            user = get_user_from_db(user_id)\n",
    "            # Сериализуем словарь в JSON и сохраняем в Redis на 60 секунд\n",
    "            r.set(key, json.dumps(user), ex=60)\n",
    "            return user\n",
    "    except redis.exceptions.ResponseError as e:\n",
    "        print(f\"Redis error: {e}\")\n",
    "        # Если возникла ошибка (например, неверный тип данных), удаляем ключ и пробуем снова\n",
    "        r.delete(key)\n",
    "        return get_user(user_id)  # Рекурсивный вызов после очистки ключа\n",
    "\n",
    "# Тестируем\n",
    "print(get_user(1))  # Первый вызов - Cache MISS\n",
    "print(get_user(1))  # Второй вызов - Cache HIT"
   ]
  },
  {
   "cell_type": "markdown",
   "id": "2bf25d36",
   "metadata": {},
   "source": [
    "\n",
    "---\n",
    "\n",
    "## 3.4 Проблемы кэширования и решения\n",
    "\n",
    "### **Cache Miss**\n",
    "\n",
    "* При первом запросе кэш пуст → обязательно обрабатывайте это в коде\n",
    "\n",
    "### **Cache Stampede**\n",
    "\n",
    "* Одновременно много клиентов делают `miss` → лавина запросов к БД\n",
    "\n",
    "#### Решения:\n",
    "\n",
    "* Randomized TTL (например, TTL + rand(0, 5))\n",
    "* Использование блокировок (lock key)\n",
    "* Прогрев кэша (prewarming)\n",
    "\n",
    "---\n"
   ]
  },
  {
   "cell_type": "markdown",
   "id": "47eb3dff",
   "metadata": {},
   "source": [
    "## Cache Lock (блокировка ключа)\n"
   ]
  },
  {
   "cell_type": "code",
   "execution_count": null,
   "id": "edbc28ca",
   "metadata": {},
   "outputs": [],
   "source": [
    "if not r.get(key):\n",
    "    if r.set(f\"{key}:lock\", \"1\", nx=True, ex=5):  # ставим lock на 5 сек\n",
    "        # безопасно идём в БД\n",
    "        data = get_user_from_db(...)\n",
    "        r.set(key, data, ex=60)\n",
    "        r.delete(f\"{key}:lock\")"
   ]
  },
  {
   "cell_type": "markdown",
   "id": "0cf12549",
   "metadata": {},
   "source": [
    "\n",
    "---\n",
    "\n",
    "## Практика\n",
    "\n",
    "### Через CLI:\n",
    "\n",
    "```bash\n",
    "SET currency:usd:rate \"91.15\" EX 300\n",
    "TTL currency:usd:rate\n",
    "GET currency:usd:rate\n",
    "```\n",
    "\n",
    "### Через Python:\n",
    "\n",
    "```python\n",
    "r.set(\"currency:usd\", \"91.15\", ex=300)\n",
    "print(\"TTL:\", r.ttl(\"currency:usd\"))\n",
    "print(\"Rate:\", r.get(\"currency:usd\"))\n",
    "```\n",
    "\n",
    "---\n"
   ]
  },
  {
   "cell_type": "markdown",
   "id": "df088363",
   "metadata": {},
   "source": [
    "\n",
    "## Мини-проект: Кэширование внешнего API\n",
    "\n",
    "1. Напишите функцию, которая обращается к внешнему API (или мок-функции)\n",
    "2. Реализуйте кэширование ответа в Redis на 60 секунд\n",
    "3. Повторный вызов должен не обращаться к API, а брать данные из кэша\n",
    "\n",
    "---\n"
   ]
  },
  {
   "cell_type": "markdown",
   "id": "7dec0cc1",
   "metadata": {},
   "source": [
    "\n",
    "## Дополнительно: Удаление кэша\n",
    "\n",
    "Иногда нужно **принудительно удалить кэш**, например, при обновлении данных в БД.\n"
   ]
  },
  {
   "cell_type": "code",
   "execution_count": null,
   "id": "50ca0833",
   "metadata": {},
   "outputs": [],
   "source": [
    "def update_user(user_id, data):\n",
    "    db_update(user_id, data)\n",
    "    r.delete(f\"user:{user_id}\")  # Invalidate cache"
   ]
  },
  {
   "cell_type": "markdown",
   "id": "a9849f76",
   "metadata": {},
   "source": [
    "\n",
    "\n",
    "## Домашнее задание\n",
    "\n",
    "1. Реализовать кэширование данных о погоде/валюте (можно мок-данные)\n",
    "2. TTL = 2 минуты\n",
    "3. При обновлении — удалять старые значения\n",
    "4. Реализовать обработку miss/hit, добавить логирование\n",
    "\n",
    "---"
   ]
  },
  {
   "cell_type": "markdown",
   "id": "fe50fa22",
   "metadata": {},
   "source": []
  },
  {
   "cell_type": "markdown",
   "id": "63df007f",
   "metadata": {},
   "source": [
    "\n",
    "---\n",
    "\n",
    "# Модуль 4: Pub/Sub и очереди\n",
    "\n",
    "## Цель занятия:\n",
    "\n",
    "* Понять, как Redis используется для обмена сообщениями\n",
    "* Научиться использовать **Pub/Sub**, списки и **Streams** для организации очередей\n",
    "* Написать простой чат и очередь задач\n",
    "\n",
    "---\n"
   ]
  },
  {
   "cell_type": "markdown",
   "id": "d92f8de0",
   "metadata": {},
   "source": [
    "\n",
    "## 4.1 Механизм Pub/Sub (издатель/подписчик)\n",
    "\n",
    "### Теория:\n",
    "\n",
    "* **Издатель (Publisher)** отправляет сообщение в **канал**\n",
    "* **Подписчики (Subscribers)** получают все сообщения, отправленные в канал\n",
    "\n",
    "> Pub/Sub — это **одноразовая** доставка: сообщения не сохраняются!\n",
    "\n",
    "---\n",
    "\n",
    "### Команды в CLI:\n",
    "\n",
    "В одном терминале:\n",
    "\n",
    "```bash\n",
    "SUBSCRIBE news\n",
    "```\n",
    "\n",
    "В другом терминале:\n",
    "\n",
    "```bash\n",
    "PUBLISH news \"Hello, Redis world!\"\n",
    "```\n",
    "\n",
    "---\n",
    "\n",
    "### Пример на Python:"
   ]
  },
  {
   "cell_type": "code",
   "execution_count": null,
   "id": "e227c053",
   "metadata": {},
   "outputs": [
    {
     "name": "stdout",
     "output_type": "stream",
     "text": [
      "Waiting for messages...\n",
      "{'type': 'subscribe', 'pattern': None, 'channel': b'chat', 'data': 1}\n"
     ]
    }
   ],
   "source": [
    "import redis\n",
    "\n",
    "r = redis.Redis()\n",
    "\n",
    "pubsub = r.pubsub()\n",
    "pubsub.subscribe(\"chat\")\n",
    "\n",
    "print(\"Waiting for messages...\")\n",
    "for message in pubsub.listen():\n",
    "    print(message)"
   ]
  },
  {
   "cell_type": "markdown",
   "id": "536ae485",
   "metadata": {},
   "source": [
    "\n",
    "В другом скрипте:"
   ]
  },
  {
   "cell_type": "code",
   "execution_count": null,
   "id": "7b0f3828",
   "metadata": {},
   "outputs": [],
   "source": [
    "import redis\n",
    "\n",
    "r = redis.Redis()\n",
    "r.publish(\"chat\", \"Hello from user A\")"
   ]
  },
  {
   "cell_type": "markdown",
   "id": "d42384e1",
   "metadata": {},
   "source": [
    "\n",
    "---\n",
    "\n",
    "## Пример использования Pub/Sub:\n",
    "\n",
    "* Чат\n",
    "* Уведомления в реальном времени\n",
    "* События между микросервисами\n",
    "\n",
    "---"
   ]
  },
  {
   "cell_type": "markdown",
   "id": "101f98c4",
   "metadata": {},
   "source": [
    "## 4.2 Очереди на списках (List)\n",
    "\n",
    "### Теория:\n",
    "\n",
    "* Redis можно использовать как очередь задач: `LPUSH` + `BRPOP`\n",
    "* **`LPUSH`** — добавляет в начало\n",
    "* **`BRPOP`** — блокирующее извлечение с конца\n",
    "\n",
    "---\n",
    "\n",
    "### Пример:\n",
    "\n",
    "```bash\n",
    "LPUSH email_queue \"Send email to user1\"\n",
    "LPUSH email_queue \"Send email to user2\"\n",
    "BRPOP email_queue 0\n",
    "```\n",
    "\n",
    "### Почему так:\n",
    "\n",
    "* Один процесс кладёт задачи в очередь\n",
    "* Другой — обрабатывает задачи по мере поступления\n",
    "\n",
    "---\n",
    "\n",
    "### Python-пример:\n"
   ]
  },
  {
   "cell_type": "code",
   "execution_count": null,
   "id": "6f8e3d63",
   "metadata": {},
   "outputs": [],
   "source": [
    "# producer.py\n",
    "import redis\n",
    "r = redis.Redis()\n",
    "r.lpush(\"tasks\", \"Task 1\")\n",
    "r.lpush(\"tasks\", \"Task 2\")"
   ]
  },
  {
   "cell_type": "code",
   "execution_count": null,
   "id": "dd768686",
   "metadata": {},
   "outputs": [],
   "source": [
    "# worker.py\n",
    "import redis\n",
    "r = redis.Redis()\n",
    "while True:\n",
    "    _, task = r.brpop(\"tasks\")\n",
    "    print(\"Handling:\", task.decode())"
   ]
  },
  {
   "cell_type": "markdown",
   "id": "e876b46d",
   "metadata": {},
   "source": [
    "\n",
    "---\n",
    "\n",
    "## 4.3 Streams (Redis >= 5.0)\n",
    "\n",
    "### Теория:\n",
    "\n",
    "* Streams — как лог событий\n",
    "* Поддерживает **группы потребителей** (Consumer Groups)\n",
    "* Надёжная доставка: можно \"догонять\" историю\n",
    "\n",
    "---\n",
    "\n",
    "### Пример:\n",
    "\n",
    "```bash\n",
    "XADD events * user_id 42 action \"login\"\n",
    "XRANGE events - +\n",
    "```\n",
    "\n",
    "---\n",
    "\n",
    "### Пример:\n"
   ]
  },
  {
   "cell_type": "code",
   "execution_count": null,
   "id": "8d1d6503",
   "metadata": {},
   "outputs": [],
   "source": [
    "r = redis.Redis()\n",
    "r.xadd(\"events\", {\"user_id\": 123, \"action\": \"login\"})\n",
    "\n",
    "events = r.xrange(\"events\", count=10)\n",
    "for event in events:\n",
    "    print(event)"
   ]
  },
  {
   "cell_type": "markdown",
   "id": "e1dc8764",
   "metadata": {},
   "source": [
    "\n",
    "---\n",
    "\n",
    "## Сравнение: Pub/Sub vs Lists vs Streams\n",
    "\n",
    "| Особенность        | Pub/Sub | List      | Stream    |\n",
    "| ------------------ | ------- | --------- | --------- |\n",
    "| Хранение данных    | ❌ Нет   | ✅ FIFO    | ✅ Журнал  |\n",
    "| Повторное чтение   | ❌ Нет   | ❌ Нет     | ✅ Да      |\n",
    "| Блокирующее чтение | ✅       | ✅ `BRPOP` | ✅ `XREAD` |\n",
    "| Группы читателей   | ❌       | ❌         | ✅         |\n",
    "\n",
    "---\n"
   ]
  },
  {
   "cell_type": "markdown",
   "id": "fdcd477c",
   "metadata": {},
   "source": [
    "\n",
    "## Практика: очередь обработки писем\n",
    "\n",
    "1. Программа `producer.py` кладёт письма в `email_queue`\n",
    "2. Программа `worker.py` с `BRPOP` извлекает задачи\n",
    "3. Каждое сообщение печатается как \"📤 Отправка письма: …\"\n",
    "\n",
    "---\n"
   ]
  },
  {
   "cell_type": "markdown",
   "id": "846ddefe",
   "metadata": {},
   "source": [
    "## Практика: простой Redis-чат (Pub/Sub)\n",
    "\n",
    "1. Один скрипт слушает канал `chat:global`\n",
    "2. Другой скрипт — публикует сообщения туда\n",
    "3. Можно передавать JSON (например, {\"user\": \"Anna\", \"msg\": \"Hello\"})\n",
    "\n",
    "---"
   ]
  },
  {
   "cell_type": "markdown",
   "id": "b0536a61",
   "metadata": {},
   "source": [
    "\n",
    "\n",
    "## Домашнее задание\n",
    "\n",
    "1. Реализовать очередь задач на Redis List:\n",
    "\n",
    "   * Один скрипт отправляет задачи (например, `\"Convert image\"` или `\"Resize PDF\"`)\n",
    "   * Второй скрипт обрабатывает их и печатает результат\n",
    "\n",
    "2. Реализовать чат через Pub/Sub:\n",
    "\n",
    "   * Один пользователь пишет\n",
    "   * Другой читает\n",
    "\n",
    "3. (Необязательно) Изучите `XREAD`, `XGROUP`, `XACK` для Streams (можно в следующем модуле)\n",
    "\n",
    "---"
   ]
  },
  {
   "cell_type": "markdown",
   "id": "6d023622",
   "metadata": {},
   "source": [
    "\n",
    "\n"
   ]
  },
  {
   "cell_type": "markdown",
   "id": "67218669",
   "metadata": {},
   "source": [
    "\n",
    "---\n",
    "\n",
    "# Модуль 5: Redis Streams и Event Sourcing\n",
    "\n",
    "## Цель занятия:\n",
    "\n",
    "* Освоить работу с Redis Streams\n",
    "* Научиться использовать **Consumer Groups**\n",
    "* Построить отказоустойчивую систему обработки событий\n",
    "* Применить паттерн **Event Sourcing**\n",
    "\n",
    "---"
   ]
  },
  {
   "cell_type": "markdown",
   "id": "b4ca4343",
   "metadata": {},
   "source": [
    "\n",
    "\n",
    "## 5.1 Что такое Redis Streams?\n",
    "\n",
    "### Теория:\n",
    "\n",
    "**Redis Streams** — это структура данных, которая:\n",
    "\n",
    "* Хранит **упорядоченные записи (entries)** с уникальными ID\n",
    "* Позволяет организовать **очереди**, **логи событий**, **трансляции данных**\n",
    "* Поддерживает **группы потребителей** с подтверждением получения\n",
    "\n",
    "Каждая запись в Stream — это пара:\n",
    "\n",
    "```\n",
    "<ID> => {ключ1: значение1, ключ2: значение2}\n",
    "```\n",
    "\n",
    "---\n"
   ]
  },
  {
   "cell_type": "markdown",
   "id": "1a08db40",
   "metadata": {},
   "source": [
    "\n",
    "## Базовые команды\n",
    "\n",
    "### Добавление событий:\n",
    "\n",
    "```bash\n",
    "XADD events * type \"login\" user_id 42\n",
    "```\n",
    "\n",
    "`*` — Redis сам сгенерирует уникальный ID (`1691428234456-0`)\n",
    "\n",
    "### Чтение событий:\n",
    "\n",
    "```bash\n",
    "XRANGE events - +\n",
    "```\n",
    "\n",
    "### Очистка:\n",
    "\n",
    "```bash\n",
    "XDEL events <id>\n",
    "XTRIM events MAXLEN 1000\n",
    "```\n",
    "\n",
    "---\n"
   ]
  },
  {
   "cell_type": "markdown",
   "id": "72510a58",
   "metadata": {},
   "source": [
    "## Пример на Python"
   ]
  },
  {
   "cell_type": "code",
   "execution_count": null,
   "id": "a70a7db8",
   "metadata": {},
   "outputs": [],
   "source": [
    "import redis\n",
    "\n",
    "r = redis.Redis(decode_responses=True)\n",
    "\n",
    "# Добавить событие\n",
    "r.xadd(\"events\", {\"type\": \"login\", \"user_id\": \"123\"})\n",
    "\n",
    "# Прочитать\n",
    "for entry_id, data in r.xrange(\"events\", count=5):\n",
    "    print(f\"{entry_id} -> {data}\")"
   ]
  },
  {
   "cell_type": "markdown",
   "id": "eb5ca093",
   "metadata": {},
   "source": [
    "---\n",
    "\n",
    "## 5.2 Consumer Groups\n",
    "\n",
    "Позволяют:\n",
    "\n",
    "* Делить поток событий между несколькими потребителями\n",
    "* Надёжно обрабатывать сообщения\n",
    "* Подтверждать обработку (`XACK`)\n",
    "\n",
    "---\n",
    "\n",
    "### Создание группы:\n",
    "\n",
    "```bash\n",
    "XGROUP CREATE events workers $ MKSTREAM\n",
    "```\n",
    "\n",
    "### Чтение группой:\n",
    "\n",
    "```bash\n",
    "XREADGROUP GROUP workers alice COUNT 1 STREAMS events >\n",
    "```\n",
    "\n",
    "* `workers` — название группы\n",
    "* `alice` — имя потребителя\n",
    "* `>` — прочитать **новые** события\n",
    "\n",
    "### Подтверждение:\n",
    "\n",
    "```bash\n",
    "XACK events workers <id>\n",
    "```\n",
    "\n",
    "---"
   ]
  },
  {
   "cell_type": "markdown",
   "id": "cbfa102d",
   "metadata": {},
   "source": [
    "## Пример: Producer / Consumer Group"
   ]
  },
  {
   "cell_type": "code",
   "execution_count": null,
   "id": "1402c58a",
   "metadata": {},
   "outputs": [],
   "source": [
    "# producer.py\n",
    "import redis\n",
    "r = redis.Redis()\n",
    "r.xadd(\"logs\", {\"event\": \"user_registered\", \"user_id\": \"42\"})"
   ]
  },
  {
   "cell_type": "code",
   "execution_count": null,
   "id": "e6abfc33",
   "metadata": {},
   "outputs": [],
   "source": [
    "# consumer.py\n",
    "import redis\n",
    "\n",
    "r = redis.Redis(decode_responses=True)\n",
    "r.xgroup_create(\"logs\", \"loggers\", id=\"$\", mkstream=True)\n",
    "\n",
    "while True:\n",
    "    entries = r.xreadgroup(\"loggers\", \"logger-1\", {\"logs\": \">\"}, count=1, block=5000)\n",
    "    if entries:\n",
    "        for stream, messages in entries:\n",
    "            for msg_id, data in messages:\n",
    "                print(\"Received:\", msg_id, data)\n",
    "                r.xack(\"logs\", \"loggers\", msg_id)"
   ]
  },
  {
   "cell_type": "markdown",
   "id": "e50aa74d",
   "metadata": {},
   "source": [
    "\n",
    "---\n",
    "\n",
    "## Применение в Event Sourcing\n",
    "\n",
    "**Event Sourcing** = Хранение всех событий, а не финального состояния.\n",
    "\n",
    "Пример:\n",
    "\n",
    "```json\n",
    "{\"event\": \"user_registered\", \"user_id\": \"42\"}\n",
    "{\"event\": \"user_updated\", \"user_id\": \"42\", \"email\": \"new@ex.com\"}\n",
    "```\n",
    "\n",
    "> Можно восстановить всё состояние системы из событий.\n",
    "\n",
    "---\n"
   ]
  },
  {
   "cell_type": "markdown",
   "id": "26eec427",
   "metadata": {},
   "source": [
    "\n",
    "## Задание №1: Мини-логгер\n",
    "\n",
    "1. Скрипт `producer.py` добавляет события (`login`, `logout`, `click`)\n",
    "2. Скрипт `consumer.py` обрабатывает их и сохраняет в файл\n",
    "3. Используется Consumer Group `analytics`\n",
    "\n",
    "---"
   ]
  },
  {
   "cell_type": "markdown",
   "id": "79160e6a",
   "metadata": {},
   "source": [
    "\n",
    "## Задание №2: Устойчивое выполнение задач\n",
    "\n",
    "1. Добавьте задачи в `task-stream`\n",
    "2. Создайте группу `workers`\n",
    "3. Каждый воркер (consumer) обрабатывает задачи\n",
    "4. Если потребитель не подтвердил `XACK` → Redis отдаст задачу другому\n",
    "\n",
    "> Это основа отказоустойчивых очередей.\n",
    "\n",
    "---\n"
   ]
  },
  {
   "cell_type": "markdown",
   "id": "f02eee35",
   "metadata": {},
   "source": [
    "\n",
    "\n",
    "## Дополнительно: Pending и Retry\n",
    "\n",
    "* `XPENDING` — показать непрочитанные/неподтверждённые сообщения\n",
    "* `XCLAIM` — забрать задачу у неактивного потребителя\n",
    "\n",
    "---\n"
   ]
  },
  {
   "cell_type": "markdown",
   "id": "c3a2ac28",
   "metadata": {},
   "source": [
    "\n",
    "---\n",
    "\n",
    "## Домашнее задание:\n",
    "\n",
    "1. Создать Stream `user_actions`\n",
    "2. Producer добавляет события (`login`, `click`, `purchase`)\n",
    "3. Consumer Group `dashboard` обрабатывает события\n",
    "4. После обработки — подтверждать через `XACK`\n",
    "5. Опционально: логировать всё в файл\n",
    "\n",
    "---\n"
   ]
  },
  {
   "cell_type": "markdown",
   "id": "099b0744",
   "metadata": {},
   "source": []
  },
  {
   "cell_type": "markdown",
   "id": "fdae4d6b",
   "metadata": {},
   "source": [
    "\n",
    "---\n",
    "\n",
    "# Модуль 6: Безопасность и конфигурация Redis\n",
    "\n",
    "## Цель занятия:\n",
    "\n",
    "* Понять угрозы безопасности Redis\n",
    "* Настроить аутентификацию, ACL и firewall\n",
    "* Научиться ограничивать команды и IP-доступ\n",
    "* Познакомиться с командами мониторинга и логирования\n",
    "\n",
    "---\n"
   ]
  },
  {
   "cell_type": "markdown",
   "id": "73a2b87e",
   "metadata": {},
   "source": [
    "\n",
    "## 6.1 Почему Redis небезопасен «из коробки»?\n",
    "\n",
    "### Опасности по умолчанию:\n",
    "\n",
    "* Redis **не требует пароля**\n",
    "* Работает на `0.0.0.0` (в Docker — чаще `127.0.0.1`)\n",
    "* **Любой** может подключиться, удалить всё (`FLUSHALL`)\n",
    "* Нет шифрования (по умолчанию Redis работает **без TLS**)\n",
    "\n",
    "---"
   ]
  },
  {
   "cell_type": "markdown",
   "id": "ee8d865d",
   "metadata": {},
   "source": [
    "\n",
    "## 6.2 Защита Redis паролем\n",
    "\n",
    "### В `redis.conf` (или флаги запуска):\n",
    "\n",
    "```ini\n",
    "requirepass strong-password\n",
    "```\n",
    "\n",
    "### Проверка:\n",
    "\n",
    "```bash\n",
    "redis-cli\n",
    "> SET test 123      ❌ (ошибка NOAUTH)\n",
    "\n",
    "> AUTH strong-password\n",
    "> SET test 123      ✅\n",
    "```\n",
    "\n",
    "В `redis-py`:\n",
    "\n",
    "```python\n",
    "r = redis.Redis(password=\"strong-password\")\n",
    "```\n",
    "\n",
    "---"
   ]
  },
  {
   "cell_type": "markdown",
   "id": "d6856448",
   "metadata": {},
   "source": [
    "\n",
    "\n",
    "## 6.3 Access Control Lists (ACL)\n",
    "\n",
    "С Redis 6.0 появилась полноценная система **пользователей и ролей**.\n",
    "\n",
    "### Пример конфигурации (CLI или ACL-файл):\n",
    "\n",
    "```bash\n",
    "ACL SETUSER anna on >supersecure123 allkeys +get +set ~project:*\n",
    "```\n",
    "\n",
    "Что это значит:\n",
    "\n",
    "* `anna` — имя пользователя\n",
    "* `on` — активен\n",
    "* `>password` — пароль\n",
    "* `allkeys` — доступ ко всем ключам\n",
    "* `+get +set` — разрешённые команды\n",
    "* `~project:*` — только ключи по шаблону\n",
    "\n",
    "### Ограничение команд:\n",
    "\n",
    "```bash\n",
    "ACL SETUSER guest on nopass ~public:* +get -set\n",
    "```\n",
    "\n",
    "---\n"
   ]
  },
  {
   "cell_type": "markdown",
   "id": "1a592173",
   "metadata": {},
   "source": [
    "\n",
    "## 6.4 Защита по IP (на уровне сети)\n",
    "\n",
    "### Фаервол/iptables:\n",
    "\n",
    "Разрешить доступ только с 127.0.0.1 или изнутри Docker-сети:\n",
    "\n",
    "```bash\n",
    "iptables -A INPUT -p tcp --dport 6379 -s 127.0.0.1 -j ACCEPT\n",
    "iptables -A INPUT -p tcp --dport 6379 -j DROP\n",
    "```\n",
    "\n",
    "Или использовать Docker-сеть типа `bridge` и не пробрасывать порт наружу.\n",
    "\n",
    "---\n"
   ]
  },
  {
   "cell_type": "markdown",
   "id": "76f87a36",
   "metadata": {},
   "source": [
    "\n",
    "## 6.5 Безопасность Docker и Docker Compose\n",
    "\n",
    "```yaml\n",
    "services:\n",
    "  redis:\n",
    "    image: redis\n",
    "    command: redis-server --requirepass ${REDIS_PASSWORD}\n",
    "    networks:\n",
    "      - backend\n",
    "    expose:\n",
    "      - 6379\n",
    "    volumes:\n",
    "      - ./data:/data\n",
    "```\n",
    "\n",
    "*Не делайте `ports: \"6379:6379\"` без фильтрации IP или proxy!*\n",
    "\n",
    "---\n"
   ]
  },
  {
   "cell_type": "markdown",
   "id": "44a97f1c",
   "metadata": {},
   "source": [
    "\n",
    "## 6.6 Мониторинг и логирование\n",
    "\n",
    "### Команды:\n",
    "\n",
    "* `MONITOR` — увидеть всё, что делает Redis (в реальном времени)\n",
    "* `INFO` — статус Redis: память, клиенты, статистика\n",
    "* `SLOWLOG get` — просмотр медленных команд\n",
    "* `CONFIG GET *` — текущее окружение\n",
    "\n",
    "```bash\n",
    "INFO memory\n",
    "INFO clients\n",
    "SLOWLOG get 5\n",
    "```\n",
    "\n",
    "---\n"
   ]
  },
  {
   "cell_type": "markdown",
   "id": "7cb51ffe",
   "metadata": {},
   "source": [
    "## Пример мониторинга (Python):"
   ]
  },
  {
   "cell_type": "code",
   "execution_count": null,
   "id": "8becb97b",
   "metadata": {},
   "outputs": [],
   "source": [
    "r = redis.Redis(password=\"strong-password\")\n",
    "print(r.info(section=\"memory\"))"
   ]
  },
  {
   "cell_type": "markdown",
   "id": "86e3877d",
   "metadata": {},
   "source": [
    "\n",
    "---\n",
    "\n",
    "## Лог-файл Redis (по умолчанию):\n",
    "\n",
    "В Linux:\n",
    "\n",
    "```bash\n",
    "tail -f /var/log/redis/redis-server.log\n",
    "```\n",
    "\n",
    "---\n"
   ]
  },
  {
   "cell_type": "markdown",
   "id": "46aa5a08",
   "metadata": {},
   "source": [
    "\n",
    "## Домашнее задание\n",
    "\n",
    "1. Установите Redis с паролем\n",
    "2. Настройте ACL:\n",
    "\n",
    "   * Пользователь `readonly`: доступ только к `GET`\n",
    "   * Пользователь `admin`: полный доступ\n",
    "3. Проверьте работу через `redis-cli` и `redis.Redis()`\n",
    "4. Изучите команды `INFO`, `MONITOR`, `SLOWLOG`\n",
    "5. Настройте Redis в Docker без публикации порта наружу\n",
    "\n",
    "---"
   ]
  },
  {
   "cell_type": "markdown",
   "id": "3dfbf099",
   "metadata": {},
   "source": []
  },
  {
   "cell_type": "markdown",
   "id": "2f5e040d",
   "metadata": {},
   "source": [
    "\n",
    "---\n",
    "\n",
    "# Модуль 7: Redis в продакшене\n",
    "\n",
    "## Цель занятия:\n",
    "\n",
    "* Понять, как хранить данные между перезапусками\n",
    "* Настроить резервное копирование и репликацию\n",
    "* Ознакомиться с высокодоступными конфигурациями (Sentinel, Cluster)\n",
    "* Подготовить Redis к продакшн-нагрузке\n",
    "\n",
    "---\n"
   ]
  },
  {
   "cell_type": "markdown",
   "id": "81a15e67",
   "metadata": {},
   "source": [
    "\n",
    "## 7.1 Персистентность данных: RDB vs AOF\n",
    "\n",
    "### RDB (Redis Database File):\n",
    "\n",
    "* Снапшоты памяти (`dump.rdb`)\n",
    "* Автоматически сохраняется по условиям (`save 900 1`)\n",
    "* Быстрее при загрузке\n",
    "\n",
    "### AOF (Append Only File):\n",
    "\n",
    "* Лог всех операций (`appendonly.aof`)\n",
    "* Медленнее, но **более надёжно**\n",
    "\n",
    "### Можно включить оба:\n",
    "\n",
    "```ini\n",
    "save 900 1\n",
    "appendonly yes\n",
    "appendfsync everysec\n",
    "```\n",
    "\n",
    "### Тест:\n",
    "\n",
    "1. Включить AOF\n",
    "2. Удалить ключ\n",
    "3. Остановить Redis, вручную удалить из `appendonly.aof` запись об удалении\n",
    "4. Запустить — ключ «вернётся»\n",
    "\n",
    "---\n"
   ]
  },
  {
   "cell_type": "markdown",
   "id": "27358e46",
   "metadata": {},
   "source": [
    "\n",
    "## 7.2 Резервное копирование и восстановление\n",
    "\n",
    "* Копируйте `dump.rdb` или `appendonly.aof`\n",
    "* Можно настроить cron:\n",
    "\n",
    "```bash\n",
    "cp /var/lib/redis/dump.rdb /backup/redis-$(date +%F).rdb\n",
    "```\n",
    "\n",
    "* Для восстановления — просто положить файл обратно и перезапустить Redis\n",
    "\n",
    "---\n"
   ]
  },
  {
   "cell_type": "markdown",
   "id": "8c6cb83b",
   "metadata": {},
   "source": [
    "\n",
    "## 7.3 Репликация: master → replica\n",
    "\n",
    "### В `redis.conf` реплики:\n",
    "\n",
    "```ini\n",
    "replicaof 192.168.1.10 6379\n",
    "masterauth yourpassword\n",
    "```\n",
    "\n",
    "> Реплика — только на чтение, отлично подходит для масштабирования\n",
    "\n",
    "---\n"
   ]
  },
  {
   "cell_type": "markdown",
   "id": "7f97c9e8",
   "metadata": {},
   "source": [
    "\n",
    "## 7.4 Redis Sentinel (high availability)\n",
    "\n",
    "Позволяет:\n",
    "\n",
    "* Автоматически переключать master ↔ replica\n",
    "* Мониторить доступность инстансов\n",
    "\n",
    "### Архитектура:\n",
    "\n",
    "* 1 master, 1+ replica, 3+ sentinel\n",
    "\n",
    "### Конфигурация (sentinel.conf):\n",
    "\n",
    "```ini\n",
    "sentinel monitor mymaster 127.0.0.1 6379 2\n",
    "sentinel auth-pass mymaster yourpassword\n",
    "sentinel down-after-milliseconds mymaster 5000\n",
    "sentinel failover-timeout mymaster 10000\n",
    "```\n",
    "\n",
    "---\n"
   ]
  },
  {
   "cell_type": "markdown",
   "id": "497e94fc",
   "metadata": {},
   "source": [
    "\n",
    "## 7.5 Redis Cluster\n",
    "\n",
    "> Для **горизонтального масштабирования** и шардирования\n",
    "\n",
    "* Разбивает ключи на **16384 слота**\n",
    "* Каждый узел хранит часть данных\n",
    "* Ключ должен содержать \"slot hint\" для группы: `{user}:1`\n",
    "\n",
    "### Настройка:\n",
    "\n",
    "* Нужно 6 узлов (3 мастера + 3 реплики)\n",
    "* Используйте `redis-cli --cluster create ...`\n",
    "\n",
    "> Поддержка в `redis-py` через `RedisCluster` (см. библиотеку `redis.cluster`)\n",
    "\n",
    "---\n"
   ]
  },
  {
   "cell_type": "markdown",
   "id": "1dd03152",
   "metadata": {},
   "source": [
    "\n",
    "## 7.6 Redis + Docker в продакшене\n",
    "\n",
    "### Docker Compose: Redis + Sentinel\n",
    "\n",
    "```yaml\n",
    "services:\n",
    "  redis:\n",
    "    image: redis\n",
    "    command: redis-server --requirepass yourpass\n",
    "    volumes:\n",
    "      - ./data:/data\n",
    "    networks: [internal]\n",
    "\n",
    "  sentinel:\n",
    "    image: redis\n",
    "    command: redis-sentinel /etc/redis/sentinel.conf\n",
    "    volumes:\n",
    "      - ./sentinel.conf:/etc/redis/sentinel.conf\n",
    "    networks: [internal]\n",
    "\n",
    "networks:\n",
    "  internal:\n",
    "```\n",
    "\n",
    "> Важно: **не открывайте Redis напрямую наружу** — ставьте прокси (например, nginx или stunnel)\n",
    "\n",
    "---"
   ]
  },
  {
   "cell_type": "markdown",
   "id": "669f5eb9",
   "metadata": {},
   "source": [
    "\n",
    "\n",
    "## 7.7 Best Practices для продакшена\n",
    "\n",
    "✅ Настройки:\n",
    "\n",
    "* `appendonly yes`, `appendfsync everysec`\n",
    "* `protected-mode yes`\n",
    "* `tcp-backlog 511`, `timeout 0`\n",
    "* `maxmemory` и `maxmemory-policy allkeys-lru`\n",
    "* `loglevel notice`\n",
    "\n",
    "🛡 Безопасность:\n",
    "\n",
    "* `requirepass` и ACL\n",
    "* Docker-сеть без `ports`\n",
    "* Только trusted IP\n",
    "\n",
    "📊 Мониторинг:\n",
    "\n",
    "* `INFO`, `MONITOR`, `SLOWLOG`\n",
    "* Интеграция с Prometheus + Grafana (`redis_exporter`)\n",
    "\n",
    "---\n"
   ]
  },
  {
   "cell_type": "markdown",
   "id": "0ab99bc0",
   "metadata": {},
   "source": [
    "\n",
    "## Домашнее задание:\n",
    "\n",
    "1. Создайте Docker Compose с Redis и Sentinel\n",
    "2. Настройте AOF и проверьте восстановление после сбоя\n",
    "3. Подключите реплику и выполните чтение с неё\n",
    "4. Изучите, как работает `redis-cli --cluster`\n",
    "5. Настройте алерты по метрикам Redis\n",
    "\n",
    "---\n",
    "\n"
   ]
  },
  {
   "cell_type": "markdown",
   "id": "ac4f9bc0",
   "metadata": {},
   "source": []
  },
  {
   "cell_type": "markdown",
   "id": "df0c56c9",
   "metadata": {},
   "source": [
    "\n",
    "---\n",
    "\n",
    "# Модуль 8: Продвинутые паттерны использования Redis\n",
    "\n",
    "## Цель модуля:\n",
    "\n",
    "Научиться применять Redis для решения реальных задач:\n",
    "\n",
    "* Эффективное кэширование\n",
    "* Очереди задач (включая сравнение с RabbitMQ)\n",
    "* Pub/Sub\n",
    "* Rate limiting (ограничение запросов)\n",
    "* Session storage\n",
    "\n",
    "---\n"
   ]
  },
  {
   "cell_type": "markdown",
   "id": "252a2fd4",
   "metadata": {},
   "source": [
    "\n",
    "## 8.1 Redis как кэш\n",
    "\n",
    "### Простое кэширование:\n",
    "\n",
    "```python\n",
    "# Пример на Python (redis-py)\n",
    "cached = r.get(\"user:42\")\n",
    "if cached is None:\n",
    "    user = get_user_from_db()\n",
    "    r.setex(\"user:42\", 60, json.dumps(user))  # кэшируем на 60 сек\n",
    "else:\n",
    "    user = json.loads(cached)\n",
    "```\n",
    "\n",
    "### Полезные команды:\n",
    "\n",
    "* `SETEX key ttl value`\n",
    "* `GET key`\n",
    "* `DEL key`\n",
    "* `TTL key`\n",
    "\n",
    "> Используйте `EXPIRE` и `maxmemory-policy` (`allkeys-lru` или `volatile-lru`) для автоочистки\n",
    "\n",
    "---\n"
   ]
  },
  {
   "cell_type": "markdown",
   "id": "19e76568",
   "metadata": {},
   "source": [
    "\n",
    "## 8.2 Rate Limiting (ограничение количества запросов)\n",
    "\n",
    "**Паттерн \"фиксированное окно\":**\n",
    "\n",
    "```lua\n",
    "# pseudocode\n",
    "INCR user:requests:minute\n",
    "EXPIRE user:requests:minute 60\n",
    "```\n",
    "\n",
    "> Если `INCR` > лимита — блокируем\n",
    "\n",
    "**Также можно использовать Lua-скрипты для атомарности.**\n",
    "\n",
    "---\n"
   ]
  },
  {
   "cell_type": "markdown",
   "id": "c0366141",
   "metadata": {},
   "source": [
    "\n",
    "## 8.3 Redis Pub/Sub\n",
    "\n",
    "Позволяет подписчикам получать сообщения, опубликованные на канале.\n",
    "\n",
    "### Пример:\n"
   ]
  },
  {
   "cell_type": "code",
   "execution_count": null,
   "id": "be5cddbf",
   "metadata": {},
   "outputs": [],
   "source": [
    "# publisher\n",
    "r.publish('news', 'new article')\n",
    "\n",
    "# subscriber\n",
    "pubsub = r.pubsub()\n",
    "pubsub.subscribe('news')\n",
    "for message in pubsub.listen():\n",
    "    print(message['data'])"
   ]
  },
  {
   "cell_type": "markdown",
   "id": "f83b2418",
   "metadata": {},
   "source": [
    "\n",
    "> Недостаток: сообщения теряются, если подписчик не онлайн\n",
    "\n",
    "---"
   ]
  },
  {
   "cell_type": "markdown",
   "id": "6b0de21f",
   "metadata": {},
   "source": [
    "\n",
    "## 8.4 Redis Streams (альтернатива Kafka)\n",
    "\n",
    "> Более надёжный Pub/Sub + поддержка истории\n",
    "\n",
    "### Пример записи:\n"
   ]
  },
  {
   "cell_type": "code",
   "execution_count": null,
   "id": "d9da423f",
   "metadata": {},
   "outputs": [],
   "source": [
    "r.xadd(\"orders\", {\"user_id\": 42, \"amount\": 100})"
   ]
  },
  {
   "cell_type": "markdown",
   "id": "6fe3559c",
   "metadata": {},
   "source": [
    "### Чтение:"
   ]
  },
  {
   "cell_type": "code",
   "execution_count": null,
   "id": "d1ba4978",
   "metadata": {},
   "outputs": [],
   "source": [
    "r.xread({\"orders\": \"0\"}, count=10)"
   ]
  },
  {
   "cell_type": "markdown",
   "id": "24c325e5",
   "metadata": {},
   "source": [
    "> Поддержка **групп потребителей**, автоподтверждение, повторная доставка — идеально для логов, чатов, событий\n",
    "\n",
    "---"
   ]
  },
  {
   "cell_type": "markdown",
   "id": "380dc738",
   "metadata": {},
   "source": [
    "\n",
    "## 8.5 Redis как очередь задач\n",
    "\n",
    "### Через списки:\n",
    "\n",
    "```bash\n",
    "LPUSH queue task1\n",
    "BRPOP queue 0  # блокирующее получение\n",
    "```\n",
    "\n",
    "### Преимущества:\n",
    "\n",
    "* Простота\n",
    "* Быстро\n",
    "\n",
    "### Недостатки:\n",
    "\n",
    "* Нет retry/retry-delay out of the box\n",
    "* Неудобно масштабировать\n",
    "\n",
    "➡️ Лучше использовать с обёртками: **RQ**, **Huey**, **Celery (через redis backend)**\n",
    "\n",
    "---"
   ]
  },
  {
   "cell_type": "markdown",
   "id": "c8745982",
   "metadata": {},
   "source": [
    "\n",
    "\n",
    "## 8.6 Redis как Session Storage\n",
    "\n",
    "Используется в веб-фреймворках:\n",
    "\n",
    "* Flask:\n",
    "\n",
    "```python\n",
    "app.config['SESSION_TYPE'] = 'redis'\n",
    "app.config['SESSION_REDIS'] = redis.StrictRedis(...)\n",
    "```\n",
    "\n",
    "* Django:\n",
    "\n",
    "```bash\n",
    "SESSION_ENGINE = \"django.contrib.sessions.backends.cache\"\n",
    "SESSION_CACHE_ALIAS = \"default\"\n",
    "```\n",
    "\n",
    "> Redis обеспечивает быстрое хранение и очистку сессий\n",
    "\n",
    "---"
   ]
  },
  {
   "cell_type": "markdown",
   "id": "e4c8105a",
   "metadata": {},
   "source": [
    "\n",
    "## 8.7 Idempotent операции и токены\n",
    "\n",
    "### Use-case: защититься от повторной обработки\n"
   ]
  },
  {
   "cell_type": "code",
   "execution_count": null,
   "id": "692ce945",
   "metadata": {},
   "outputs": [],
   "source": [
    "if not r.setnx(f\"payment:{payment_id}\", 1):\n",
    "    return \"Already processed\"\n",
    "r.expire(f\"payment:{payment_id}\", 60)\n",
    "process_payment()"
   ]
  },
  {
   "cell_type": "markdown",
   "id": "93a0846f",
   "metadata": {},
   "source": [
    "## 8.8 Блокировки (Distributed Locks)\n",
    "\n",
    "### Простая блокировка:"
   ]
  },
  {
   "cell_type": "code",
   "execution_count": null,
   "id": "1eb0097a",
   "metadata": {},
   "outputs": [],
   "source": [
    "if r.set(\"lock:task42\", \"1\", nx=True, ex=10):\n",
    "    # критическая секция\n",
    "    ..."
   ]
  },
  {
   "cell_type": "markdown",
   "id": "7c84aef8",
   "metadata": {},
   "source": [
    "\n",
    "> Для надёжности используйте библиотеку **Redlock** (алгоритм для распределённой блокировки)\n",
    "\n",
    "---\n",
    "\n",
    "## Домашнее задание:\n",
    "\n",
    "1. Реализовать кэширование результата функции с TTL\n",
    "2. Сделать простую очередь на `LPUSH` + `BRPOP`\n",
    "3. Сделать блокировку через `SET key NX EX`\n",
    "4. Написать rate-limiter (5 запросов в минуту)\n",
    "5. Настроить pub/sub между двумя Python скриптами\n",
    "\n",
    "---\n"
   ]
  },
  {
   "cell_type": "markdown",
   "id": "0d7facca",
   "metadata": {},
   "source": []
  },
  {
   "cell_type": "markdown",
   "id": "915ae10f",
   "metadata": {},
   "source": [
    "\n",
    "---\n",
    "\n",
    "# 📘 Шпаргалка по Redis\n",
    "\n",
    "## 🧱 Основы\n",
    "\n",
    "| Команда              | Описание                   |\n",
    "| -------------------- | -------------------------- |\n",
    "| `SET key value`      | Установить значение        |\n",
    "| `GET key`            | Получить значение          |\n",
    "| `DEL key`            | Удалить ключ               |\n",
    "| `EXPIRE key seconds` | Установить TTL             |\n",
    "| `TTL key`            | Узнать время жизни         |\n",
    "| `KEYS pattern`       | Найти ключи по шаблону     |\n",
    "| `FLUSHALL`           | Удалить всё (⚠️ осторожно) |\n",
    "\n",
    "---"
   ]
  },
  {
   "cell_type": "markdown",
   "id": "b7cf66d2",
   "metadata": {},
   "source": [
    "\n",
    "## 🗃️ Типы данных\n",
    "\n",
    "### 📦 Строки (string)\n",
    "\n",
    "```bash\n",
    "SET user:1 \"Alice\"\n",
    "GET user:1\n",
    "APPEND key \"text\"\n",
    "INCR counter\n",
    "DECR counter\n",
    "```\n",
    "\n",
    "### 📋 Списки (list)\n",
    "\n",
    "```bash\n",
    "LPUSH queue task1\n",
    "RPUSH queue task2\n",
    "LPOP queue\n",
    "RPOP queue\n",
    "LRANGE queue 0 -1\n",
    "```\n",
    "\n",
    "### 📚 Хэши (hash)\n",
    "\n",
    "```bash\n",
    "HSET user:1 name Alice\n",
    "HGET user:1 name\n",
    "HGETALL user:1\n",
    "```\n",
    "\n",
    "### 📑 Множества (set)\n",
    "\n",
    "```bash\n",
    "SADD tags python\n",
    "SISMEMBER tags python\n",
    "SMEMBERS tags\n",
    "SREM tags python\n",
    "```\n",
    "\n",
    "### 📊 Отсортированные множества (zset)\n",
    "\n",
    "```bash\n",
    "ZADD scores 100 user1\n",
    "ZRANGE scores 0 -1 WITHSCORES\n",
    "ZREM scores user1\n",
    "```\n",
    "\n",
    "### 🌊 Потоки (streams)\n",
    "\n",
    "```bash\n",
    "XADD stream * field1 value1\n",
    "XREAD COUNT 2 STREAMS stream 0\n",
    "```\n",
    "\n",
    "---\n"
   ]
  },
  {
   "cell_type": "markdown",
   "id": "81287e70",
   "metadata": {},
   "source": [
    "\n",
    "\n",
    "## 🔄 Pub/Sub\n",
    "\n",
    "```bash\n",
    "PUBLISH news \"hello\"\n",
    "SUBSCRIBE news\n",
    "UNSUBSCRIBE news\n",
    "```\n",
    "\n",
    "---"
   ]
  },
  {
   "cell_type": "markdown",
   "id": "a30faecd",
   "metadata": {},
   "source": [
    "\n",
    "\n",
    "## ⏳ TTL и кэш\n",
    "\n",
    "```bash\n",
    "SETEX key 60 value  # TTL 60 сек\n",
    "GET key\n",
    "```\n"
   ]
  },
  {
   "cell_type": "markdown",
   "id": "39356395",
   "metadata": {},
   "source": [
    "\n",
    "---\n",
    "\n",
    "## 🔐 Блокировки\n",
    "\n",
    "```bash\n",
    "SET lock:task \"1\" NX EX 10\n",
    "# Успешно установлено => блокировка активна\n",
    "```\n",
    "\n",
    "---\n"
   ]
  },
  {
   "cell_type": "markdown",
   "id": "90c2af03",
   "metadata": {},
   "source": [
    "\n",
    "## 🚦 Rate Limiting\n",
    "\n",
    "```lua\n",
    "INCR req:user42\n",
    "EXPIRE req:user42 60\n",
    "```\n"
   ]
  },
  {
   "cell_type": "markdown",
   "id": "46ed3380",
   "metadata": {},
   "source": [
    "\n",
    "---\n",
    "\n",
    "## 🧰 Работа с Python (redis-py)\n",
    "\n",
    "```python\n",
    "import redis\n",
    "r = redis.Redis()\n",
    "\n",
    "r.set(\"name\", \"Alice\")\n",
    "r.get(\"name\")  # b'Alice'\n",
    "\n",
    "r.lpush(\"queue\", \"task1\")\n",
    "r.brpop(\"queue\", timeout=0)\n",
    "```\n",
    "\n",
    "---\n"
   ]
  },
  {
   "cell_type": "markdown",
   "id": "b51befc2",
   "metadata": {},
   "source": [
    "## 🐍 Работа с Django / Flask\n",
    "\n",
    "**Django:**\n",
    "\n",
    "```python\n",
    "SESSION_ENGINE = \"django.contrib.sessions.backends.cache\"\n",
    "CACHES = {\n",
    "    \"default\": {\n",
    "        \"BACKEND\": \"django_redis.cache.RedisCache\",\n",
    "        \"LOCATION\": \"redis://127.0.0.1:6379/1\",\n",
    "    }\n",
    "}\n",
    "```\n",
    "\n",
    "**Flask:**\n",
    "\n",
    "```python\n",
    "from flask_session import Session\n",
    "app.config[\"SESSION_TYPE\"] = \"redis\"\n",
    "app.config[\"SESSION_REDIS\"] = redis.from_url(\"redis://localhost:6379\")\n",
    "Session(app)\n",
    "```\n",
    "\n",
    "---\n"
   ]
  },
  {
   "cell_type": "markdown",
   "id": "3fd51727",
   "metadata": {},
   "source": [
    "## ⚙️ Полезные настройки redis.conf\n",
    "\n",
    "| Настройка                      | Значение              |\n",
    "| ------------------------------ | --------------------- |\n",
    "| `maxmemory 256mb`              | Ограничение по памяти |\n",
    "| `maxmemory-policy allkeys-lru` | Удаление по LRU       |\n",
    "| `appendonly yes`               | Персистентность (AOF) |\n",
    "| `requirepass`                  | Установка пароля      |\n",
    "\n",
    "---\n"
   ]
  },
  {
   "cell_type": "markdown",
   "id": "8bfcebfc",
   "metadata": {},
   "source": [
    "\n",
    "## 📍 Советы\n",
    "\n",
    "* **Используй префиксы ключей**: `user:42`, `session:123`\n",
    "* **Не злоупотребляй `KEYS *`** — это блокирующая операция!\n",
    "* Для критически важных секций — **Redlock**\n",
    "* В многопоточности используй `pipeline()` или `transaction()`\n",
    "\n",
    "---\n",
    "\n"
   ]
  }
 ],
 "metadata": {
  "kernelspec": {
   "display_name": "venv",
   "language": "python",
   "name": "python3"
  },
  "language_info": {
   "codemirror_mode": {
    "name": "ipython",
    "version": 3
   },
   "file_extension": ".py",
   "mimetype": "text/x-python",
   "name": "python",
   "nbconvert_exporter": "python",
   "pygments_lexer": "ipython3",
   "version": "3.13.5"
  }
 },
 "nbformat": 4,
 "nbformat_minor": 5
}
