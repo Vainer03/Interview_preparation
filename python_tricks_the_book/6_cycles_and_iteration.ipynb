{
 "cells": [
  {
   "cell_type": "markdown",
   "id": "67612cbe",
   "metadata": {},
   "source": [
    "## 6. Циклы и итерации\n",
    "### Написание питоновских циклов\n"
   ]
  },
  {
   "cell_type": "code",
   "execution_count": null,
   "id": "287601a5",
   "metadata": {},
   "outputs": [
    {
     "name": "stdout",
     "output_type": "stream",
     "text": [
      "a\n",
      "b\n",
      "c\n",
      "a\n",
      "b\n",
      "c\n",
      "a\n",
      "b\n",
      "c\n",
      "0: a\n",
      "1: b\n",
      "2: c\n",
      "Боб -> bob@example.com\n",
      "Алиса -> alice@example.com\n"
     ]
    }
   ],
   "source": [
    "# непитоновский цикл\n",
    "\n",
    "my_items = ['a', 'b', 'c']\n",
    "\n",
    "i = 0\n",
    "while i < len(my_items):\n",
    "    print(my_items[i])\n",
    "    i += 1\n",
    "\n",
    "# более питоновский цикл\n",
    "\n",
    "for i in range(len(my_items)):\n",
    "    print(my_items[i])\n",
    "\n",
    "# питоновский цикл\n",
    "\n",
    "for item in my_items:\n",
    "    print(item)\n",
    "\n",
    "# безупречный питоновский цикл\n",
    "\n",
    "for i, item in enumerate(my_items):\n",
    "    print(f'{i}: {item}')\n",
    "\n",
    "emails = {\n",
    "    'Боб': 'bob@example.com',\n",
    "    'Алиса': 'alice@example.com',\n",
    "}\n",
    "\n",
    "for name, email in emails.items():\n",
    "    print(f'{name} -> {email}')\n",
    "\n",
    "# цикл с шагом\n",
    "for i in range(a, n, s):\n",
    "    pass"
   ]
  },
  {
   "cell_type": "markdown",
   "id": "722ff39e",
   "metadata": {},
   "source": [
    "### 6.2 Осмысление включений\n",
    "Включения в список являются циклами с обходом коллекции, выраженными при помощи более сжатого и компактного синтаксиса"
   ]
  },
  {
   "cell_type": "code",
   "execution_count": 7,
   "id": "8a64dd10",
   "metadata": {},
   "outputs": [
    {
     "name": "stdout",
     "output_type": "stream",
     "text": [
      "[0, 1, 4, 9, 16, 25, 36, 49, 64, 81]\n",
      "[0, 4, 16, 36, 64]\n",
      "{64, 1, 0, 36, 4, 9, 16, 81, 49, 25}\n",
      "{0: 0, 1: 1, 2: 4, 3: 9, 4: 16}\n"
     ]
    }
   ],
   "source": [
    "# включение в список №1\n",
    "squares = [x * x for x in range(10)]\n",
    "print(squares)\n",
    "\n",
    "# эквивалентно\n",
    "squares = []\n",
    "for x in range(10):\n",
    "    squares.append(x * x)\n",
    "\n",
    "'''\n",
    "values = [expression for item in collection]\n",
    "\n",
    "# эквивалентно\n",
    "\n",
    "values = [] \n",
    "for item in collection:\n",
    "    values.append(expression)\n",
    "'''\n",
    "\n",
    "# включение в список №2\n",
    "even_squares = [x * x for x in range(10)\n",
    "                if x % 2 == 0]\n",
    "\n",
    "print(even_squares)\n",
    "\n",
    "# эквивалентно\n",
    "even_squares = []\n",
    "for x in range(10):\n",
    "    if x % 2 == 0:\n",
    "        even_squares.append(x * x)\n",
    "\n",
    "'''\n",
    "values = [expression\n",
    "          for item in collection\n",
    "          if condition]\n",
    "\n",
    "values = []\n",
    "for item in collection:\n",
    "    if condition:\n",
    "        value.append(expression)\n",
    "'''\n",
    "\n",
    "# включение в множество\n",
    "print({x * x for x in range(-9, 10)})\n",
    "\n",
    "# включение в словарь\n",
    "print({x: x * x for x in range(5)})"
   ]
  },
  {
   "cell_type": "markdown",
   "id": "ed699789",
   "metadata": {},
   "source": [
    "### 6.3 Нарезки списков и суши-оператор\n",
    "[начало:конец:шаг]\n",
    "\n",
    "верхняя граница не учитывается"
   ]
  },
  {
   "cell_type": "code",
   "execution_count": 12,
   "id": "5ad76a3f",
   "metadata": {},
   "outputs": [
    {
     "name": "stdout",
     "output_type": "stream",
     "text": [
      "[1, 2, 3, 4, 5]\n",
      "[2, 3]\n",
      "[2, 3]\n",
      "[1, 3, 5]\n",
      "[5, 4, 3, 2, 1]\n",
      "[]\n",
      "[7, 8, 9]\n",
      "[7, 8, 9]\n",
      "False\n"
     ]
    }
   ],
   "source": [
    "lst = [1, 2, 3, 4, 5]\n",
    "print(lst)\n",
    "\n",
    "# lst[начало:конец:шаг]\n",
    "print(lst[1:3:1])\n",
    "\n",
    "# по умолчанию шаг равен 1\n",
    "print(lst[1:3])\n",
    "\n",
    "print(lst[::2])\n",
    "\n",
    "# список в обратном порядке\n",
    "print(lst[::-1])\n",
    "\n",
    "# очистить весь список\n",
    "del lst[:]\n",
    "print(lst)\n",
    "\n",
    "original_lst = lst\n",
    "lst[:] = [7, 8, 9]\n",
    "print(lst)\n",
    "\n",
    "print(original_lst)\n",
    "\n",
    "# создание мелкой копии\n",
    "copied_lst = lst[:]\n",
    "print(copied_lst is lst)"
   ]
  },
  {
   "cell_type": "markdown",
   "id": "3d416118",
   "metadata": {},
   "source": [
    "### 6.4 Красивые итераторы\n",
    "Объекты, которые поддерживают ```__iter__``` и ```__next__``` работают с циклами for-in"
   ]
  },
  {
   "cell_type": "code",
   "execution_count": null,
   "id": "02ee460d",
   "metadata": {},
   "outputs": [],
   "source": [
    "numbers = [1, 2, 3]\n",
    "for n in numbers:\n",
    "    print(n)"
   ]
  },
  {
   "cell_type": "markdown",
   "id": "1951060a",
   "metadata": {},
   "source": [
    "#### Бесконечное повторение\n",
    "RepeaterIterator\n",
    "1. в методе ```__init__``` мы связываем каждый экземпляр класса Repeater-Iterator с объектом Repeater, который его создал. Благодаря этому мы можем держаться за исходный обхъект, итерации по которому выполняются\n",
    "2. В ```RepeaterIterator.__next__``` мы залезаем назад в исходный экхемпляр класса Repeater и возвращаем связанное с ним значение\n"
   ]
  },
  {
   "cell_type": "code",
   "execution_count": null,
   "id": "deea2d70",
   "metadata": {},
   "outputs": [],
   "source": [
    "class Repeater:\n",
    "    def __init__(self, value):\n",
    "        self.value = value\n",
    "    \n",
    "    def __iter__(self):\n",
    "        return RepeaterIterator(self)\n",
    "    \n",
    "class RepeaterIterator:\n",
    "    def __init__(self, source):\n",
    "        self.source = source\n",
    "    def __next__(self):\n",
    "        return self.source.value\n",
    "    \n",
    "repeater = Repeater('Привет')\n",
    "for item in repeater:\n",
    "    print(item)"
   ]
  },
  {
   "cell_type": "markdown",
   "id": "07d2b842",
   "metadata": {},
   "source": [
    "#### Как циклы for-in работают в Python?\n",
    " "
   ]
  }
 ],
 "metadata": {
  "kernelspec": {
   "display_name": "venv",
   "language": "python",
   "name": "python3"
  },
  "language_info": {
   "codemirror_mode": {
    "name": "ipython",
    "version": 3
   },
   "file_extension": ".py",
   "mimetype": "text/x-python",
   "name": "python",
   "nbconvert_exporter": "python",
   "pygments_lexer": "ipython3",
   "version": "3.13.5"
  }
 },
 "nbformat": 4,
 "nbformat_minor": 5
}
