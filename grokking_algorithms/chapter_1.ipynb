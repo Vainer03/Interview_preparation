{
 "cells": [
  {
   "cell_type": "markdown",
   "id": "03516894",
   "metadata": {},
   "source": [
    "## Глава 1: Знакомство с алгоритмами"
   ]
  },
  {
   "cell_type": "code",
   "execution_count": 5,
   "id": "19687e6f",
   "metadata": {},
   "outputs": [
    {
     "name": "stdout",
     "output_type": "stream",
     "text": [
      "1\n",
      "None\n"
     ]
    }
   ],
   "source": [
    "def binary_search(list, item):\n",
    "    low = 0\n",
    "    high = len(list) - 1\n",
    "    \n",
    "    while low <= high:\n",
    "        mid = (low + high) // 2\n",
    "        guess = list[mid]\n",
    "        if guess == item:\n",
    "            return mid\n",
    "        if guess > item:\n",
    "            high = mid - 1\n",
    "        else:\n",
    "            low = mid + 1\n",
    "    return None\n",
    "\n",
    "my_list = [1, 3, 5, 7, 9]\n",
    "print(binary_search(my_list, 3))\n",
    "print(binary_search(my_list, -1))"
   ]
  },
  {
   "cell_type": "markdown",
   "id": "dc278a69",
   "metadata": {},
   "source": [
    "## Глава 2: Сортировка выбором"
   ]
  },
  {
   "cell_type": "code",
   "execution_count": 6,
   "id": "9258f646",
   "metadata": {},
   "outputs": [
    {
     "name": "stdout",
     "output_type": "stream",
     "text": [
      "[2, 3, 5, 6, 10]\n"
     ]
    }
   ],
   "source": [
    "def findSmallest(arr):\n",
    "    smallest = arr[0]\n",
    "    smallest_index = 0\n",
    "    for i in range(1, len(arr)):\n",
    "        if arr[i] < smallest:\n",
    "            smallest = arr[i]\n",
    "            smallest_index = i\n",
    "    return smallest_index\n",
    "\n",
    "def selectionSort(arr):\n",
    "    newArr = []\n",
    "    for i in range(len(arr)):\n",
    "        smallest = findSmallest(arr)\n",
    "        newArr.append(arr.pop(smallest))\n",
    "    return newArr\n",
    "\n",
    "print(selectionSort([5, 3, 6, 2, 10]))"
   ]
  },
  {
   "cell_type": "markdown",
   "id": "9d74025d",
   "metadata": {},
   "source": [
    "## Глава 3: Рекурсия"
   ]
  },
  {
   "cell_type": "code",
   "execution_count": null,
   "id": "9182d08c",
   "metadata": {},
   "outputs": [],
   "source": [
    "def look_for_key(main_box):\n",
    "    pile = main_box.make_a_pile_to_look_through()\n",
    "    while pile is not empty:\n",
    "        box = pile.grab_a_box()\n",
    "        for item in box:\n",
    "            if item.is_a_box():\n",
    "                pile.append(item)\n",
    "            elif item.is_a_key():\n",
    "                print(\"found the key\")\n",
    "\n",
    "# Рекурсивный метод\n",
    "def look_for_key(box):\n",
    "    for item in box:\n",
    "        if item.is_a_box():\n",
    "            look_for_key(item)\n",
    "        elif item.is_a_key():\n",
    "            print(\"found the key\")"
   ]
  },
  {
   "cell_type": "code",
   "execution_count": 9,
   "id": "af22d5f8",
   "metadata": {},
   "outputs": [],
   "source": [
    "# работает бесконечно\n",
    "def countdown(i):\n",
    "    print(i)\n",
    "    countdown(i-1)\n",
    "\n",
    "def countdown(i):\n",
    "    print(i)\n",
    "    if i <= 1:\n",
    "        return\n",
    "    else:\n",
    "        countdown(i-1)"
   ]
  },
  {
   "cell_type": "code",
   "execution_count": 10,
   "id": "543b1e32",
   "metadata": {},
   "outputs": [],
   "source": [
    "def greet(name):\n",
    "    print(\"hello, \" + name + \"!\")\n",
    "    greet2(name)\n",
    "    print(\"getting ready to say bye...\")\n",
    "    bye()\n",
    "\n",
    "def greet2(name):\n",
    "    print(\"How are you, \" + name + \"?\")\n",
    "\n",
    "def bye():\n",
    "    print(\"ok bye!\")"
   ]
  },
  {
   "cell_type": "code",
   "execution_count": 11,
   "id": "ddf6e84e",
   "metadata": {},
   "outputs": [],
   "source": [
    "def fact(x):\n",
    "    if x == 1:\n",
    "        return 1\n",
    "    else:\n",
    "        return x * fact(x-1)"
   ]
  },
  {
   "cell_type": "markdown",
   "id": "72ffd0ae",
   "metadata": {},
   "source": [
    "## Глава 4: Быстрая сортировка"
   ]
  },
  {
   "cell_type": "code",
   "execution_count": 14,
   "id": "fcdb43d5",
   "metadata": {},
   "outputs": [
    {
     "name": "stdout",
     "output_type": "stream",
     "text": [
      "10\n",
      "10\n"
     ]
    }
   ],
   "source": [
    "def sum(arr):\n",
    "    total = 0\n",
    "    for x in arr:\n",
    "        total += x\n",
    "    return total\n",
    "\n",
    "print(sum([1, 2, 3, 4]))\n",
    "\n",
    "def sum(arr):\n",
    "    if arr == []:\n",
    "        return 0\n",
    "    else:\n",
    "        return arr[0] + sum(arr[1:])\n",
    "\n",
    "print(sum([1, 2, 3, 4]))"
   ]
  },
  {
   "cell_type": "code",
   "execution_count": null,
   "id": "d205aaf1",
   "metadata": {},
   "outputs": [],
   "source": [
    "def quicksort(array):\n",
    "    if len(array) < 2:\n",
    "        return array\n",
    "    else:\n",
    "        pivot = array[0]\n",
    "        less = [i for i in array[1:] if i < pivot]\n",
    "        greater = [i for i in array[1:] if i > pivot]\n",
    "        return quicksort(less) + [pivot] + quicksort(greater)\n",
    "    \n",
    "print(quicksort([10, 5, 2, 3]))"
   ]
  },
  {
   "cell_type": "markdown",
   "id": "7fcd8996",
   "metadata": {},
   "source": [
    "## 5. Хеш-таблицы"
   ]
  },
  {
   "cell_type": "code",
   "execution_count": 2,
   "id": "2fd051e9",
   "metadata": {},
   "outputs": [
    {
     "name": "stdout",
     "output_type": "stream",
     "text": [
      "{'apple': 0.67, 'milk': 1.49, 'avocado': 1.49}\n",
      "1.49\n"
     ]
    }
   ],
   "source": [
    "book = dict()\n",
    "\n",
    "book[\"apple\"] = 0.67\n",
    "book[\"milk\"] = 1.49\n",
    "book[\"avocado\"] = 1.49\n",
    "\n",
    "print(book)\n",
    "print(book[\"avocado\"])"
   ]
  },
  {
   "cell_type": "code",
   "execution_count": 4,
   "id": "9ac53bcf",
   "metadata": {},
   "outputs": [],
   "source": [
    "voted = {}\n",
    "def check_voter(name):\n",
    "    if voted.get(name):\n",
    "        print(\"kick them out\")\n",
    "    else:\n",
    "        voted[name] = True\n",
    "        print(\"let them vote\")"
   ]
  },
  {
   "cell_type": "code",
   "execution_count": null,
   "id": "025b9253",
   "metadata": {},
   "outputs": [],
   "source": [
    "cache = {}\n",
    "def get_page(url):\n",
    "    if cache.get(url):\n",
    "        return cache[url]\n",
    "    else:\n",
    "        data = get_data_from_server(url)\n",
    "        cache[url] = data\n",
    "        return data"
   ]
  },
  {
   "cell_type": "markdown",
   "id": "e94632a0",
   "metadata": {},
   "source": [
    "## 6. Поиск в ширину"
   ]
  },
  {
   "cell_type": "code",
   "execution_count": 11,
   "id": "18614a55",
   "metadata": {},
   "outputs": [
    {
     "name": "stdout",
     "output_type": "stream",
     "text": [
      "thom is a mango seller!\n",
      "True\n"
     ]
    }
   ],
   "source": [
    "from collections import deque\n",
    "\n",
    "graph = {}\n",
    "graph[\"you\"] = [\"alice\", \"bob\", \"claire\"]\n",
    "graph[\"bob\"] = [\"anuj\", \"peggy\"]\n",
    "graph[\"alice\"] = [\"peggy\"]\n",
    "graph[\"claire\"] = [\"thom\", \"jonny\"]\n",
    "graph[\"anuj\"] = []\n",
    "graph[\"peggy\"] = []\n",
    "graph[\"thom\"] = []\n",
    "graph[\"jonny\"] = []\n",
    "\n",
    "def person_is_seller(name):\n",
    "    return name[-1] == 'm'\n",
    "\n",
    "def bfs(name):\n",
    "    search_queue = deque()\n",
    "    search_queue += graph[name]\n",
    "    searched = []\n",
    "    while search_queue:\n",
    "        person = search_queue.popleft()\n",
    "        if not person in searched:\n",
    "            if person_is_seller(person):\n",
    "                print(person + \" is a mango seller!\")\n",
    "                return True\n",
    "            else:\n",
    "                search_queue += graph[person]\n",
    "                searched.append(person)\n",
    "    return False\n",
    "\n",
    "print(bfs(\"you\"))\n",
    "\n"
   ]
  },
  {
   "cell_type": "markdown",
   "id": "de233ee2",
   "metadata": {},
   "source": [
    "## 7. Алгоритм Дейкстры"
   ]
  },
  {
   "cell_type": "code",
   "execution_count": 13,
   "id": "86905309",
   "metadata": {},
   "outputs": [],
   "source": [
    "graph[\"start\"] = {}\n",
    "graph[\"start\"][\"a\"] = 6\n",
    "graph[\"start\"][\"b\"] = 2\n",
    "graph[\"a\"] = {}\n",
    "graph[\"a\"][\"fin\"] = 1\n",
    "graph[\"b\"] = {}\n",
    "graph[\"b\"][\"a\"] = 3\n",
    "graph[\"b\"][\"fin\"] = 5\n",
    "graph[\"fin\"] = {}\n",
    "infinity = float(\"inf\")\n",
    "\n",
    "costs = {}\n",
    "costs[\"a\"] = 6\n",
    "costs[\"b\"] = 2\n",
    "costs[\"fin\"] = infinity\n",
    "\n",
    "parents = {}\n",
    "parents[\"a\"] = \"start\"\n",
    "parents[\"b\"] = \"start\"\n",
    "parents[\"fin\"] = None\n",
    "\n",
    "processed = []\n",
    "\n",
    "def find_lowest_cost_node(costs):\n",
    "    lowest_cost = float(\"inf\")\n",
    "    lowest_cost_node = None\n",
    "    for node in costs:\n",
    "        cost = costs[node]\n",
    "        if cost < lowest_cost and node not in processed:\n",
    "            lowest_cost = cost\n",
    "            lowest_cost_node = node\n",
    "    return lowest_cost_node\n",
    "\n",
    "node = find_lowest_cost_node(costs)\n",
    "while node is not None:\n",
    "    cost = costs[node]\n",
    "    neighbors = graph[node]\n",
    "    for n in neighbors.keys():\n",
    "        new_cost = cost + neighbors[n]\n",
    "        if costs[n] > new_cost:\n",
    "            costs[n] = new_cost\n",
    "            parents[n] = node\n",
    "    processed.append(node)\n",
    "    node = find_lowest_cost_node(costs)"
   ]
  },
  {
   "cell_type": "markdown",
   "id": "975cbbe2",
   "metadata": {},
   "source": [
    "## 8. Жадные алгоритмы"
   ]
  },
  {
   "cell_type": "code",
   "execution_count": 15,
   "id": "0e1a4d55",
   "metadata": {},
   "outputs": [
    {
     "name": "stdout",
     "output_type": "stream",
     "text": [
      "{'ktwo', 'kone', 'kfive', 'kthree'}\n"
     ]
    }
   ],
   "source": [
    "states_needed = set([\"mt\", \"wa\", \"or\", \"id\", \"nv\", \"ut\", \"ca\", \"az\"])\n",
    "\n",
    "stations = {}\n",
    "stations[\"kone\"] = set([\"id\", \"nv\", \"ut\"])\n",
    "stations[\"ktwo\"] = set([\"wa\", \"id\", \"mt\"])\n",
    "stations[\"kthree\"] = set([\"or\", \"nv\", \"ca\"])\n",
    "stations[\"kfour\"] = set([\"nv\", \"ut\"])\n",
    "stations[\"kfive\"] = set([\"ca\", \"az\"])\n",
    "\n",
    "final_stations = set()\n",
    "\n",
    "while states_needed:\n",
    "    best_station = None\n",
    "    states_covered =  set()\n",
    "    for station, states_for_station in stations.items():\n",
    "        covered = states_needed & states_for_station\n",
    "        if len(covered) > len(states_covered):\n",
    "            best_station = station\n",
    "            states_covered = covered\n",
    "    states_needed -= states_covered\n",
    "    final_stations.add(best_station)\n",
    "\n",
    "print(final_stations)"
   ]
  }
 ],
 "metadata": {
  "kernelspec": {
   "display_name": "Python 3",
   "language": "python",
   "name": "python3"
  },
  "language_info": {
   "codemirror_mode": {
    "name": "ipython",
    "version": 3
   },
   "file_extension": ".py",
   "mimetype": "text/x-python",
   "name": "python",
   "nbconvert_exporter": "python",
   "pygments_lexer": "ipython3",
   "version": "3.13.5"
  }
 },
 "nbformat": 4,
 "nbformat_minor": 5
}
