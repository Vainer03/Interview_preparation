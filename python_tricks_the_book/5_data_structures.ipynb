{
 "cells": [
  {
   "cell_type": "markdown",
   "id": "f16e5c44",
   "metadata": {},
   "source": [
    "## 5. Общие структуры данных Python\n",
    "### 5.1 Словари, ассоциативные массивы и хеш-таблицы\n",
    "Словари также нередко называют ассоциативными массивами, ассоциативными хэш-таблицами, поисковыми таблицами и таблицами преобразования. Они допускают эффективный поиск, вставку и удаление любого объекта, связанного с заданным ключом\n",
    "\n",
    "#### dict - ваш дежурный словарь\n",
    "Словари индексируются ключами, у которых может быть любой хешируемый тип: хешируемый объект имеет хеш-значениеЮ которое не меняется в течение его жизни ```__hash__``` и его можно сравнивать с другими объектами ```__eq__```. В качестве ключей словаря можно использовать строковые значения и числа, а также объекты-кортежи если их содержэимое тоже хешируется"
   ]
  },
  {
   "cell_type": "code",
   "execution_count": 1,
   "id": "5f52dd1b",
   "metadata": {},
   "outputs": [
    {
     "name": "stdout",
     "output_type": "stream",
     "text": [
      "7387\n",
      "{0: 0, 1: 1, 2: 4, 3: 9, 4: 16, 5: 25}\n"
     ]
    }
   ],
   "source": [
    "phonebook = {\n",
    "    'Bob': 7387,\n",
    "    'Elis': 3719,\n",
    "    'Jack': 7052,\n",
    "}\n",
    "\n",
    "squares = {x: x * x for x in range(6)}\n",
    "\n",
    "print(phonebook['Bob'])\n",
    "print(squares)"
   ]
  },
  {
   "cell_type": "markdown",
   "id": "d25213eb",
   "metadata": {},
   "source": [
    "#### collections.OrderedDict - помнят порядок вставки ключей"
   ]
  },
  {
   "cell_type": "code",
   "execution_count": 2,
   "id": "21e9b25c",
   "metadata": {},
   "outputs": [
    {
     "name": "stdout",
     "output_type": "stream",
     "text": [
      "OrderedDict({'one': 1, 'two': 2, 'three': 3})\n",
      "OrderedDict({'one': 1, 'two': 2, 'three': 3, 'четыре': 4})\n",
      "odict_keys(['one', 'two', 'three', 'четыре'])\n"
     ]
    }
   ],
   "source": [
    "import collections\n",
    "d = collections.OrderedDict(one = 1, two = 2, three = 3)\n",
    "print(d)\n",
    "\n",
    "d['четыре'] = 4\n",
    "print(d)\n",
    "\n",
    "print(d.keys())"
   ]
  },
  {
   "cell_type": "markdown",
   "id": "bce9a4bb",
   "metadata": {},
   "source": [
    "#### collections.defaultdict - возвращает значения, заданные по умолчанию для отсуствующих ключей"
   ]
  },
  {
   "cell_type": "code",
   "execution_count": 3,
   "id": "fb485e3b",
   "metadata": {},
   "outputs": [
    {
     "name": "stdout",
     "output_type": "stream",
     "text": [
      "['Руфус', 'Кэтрин', 'Сниф']\n"
     ]
    }
   ],
   "source": [
    "from collections import defaultdict\n",
    "dd = defaultdict(list) # list - значение по умолчанию\n",
    "dd['собаки'].append('Руфус')\n",
    "dd['собаки'].append('Кэтрин')\n",
    "dd['собаки'].append('Сниф')\n",
    "print(dd['собаки'])"
   ]
  },
  {
   "cell_type": "markdown",
   "id": "06381a3b",
   "metadata": {},
   "source": [
    "#### collections.ChainMap - производит поиск в многочисленных словарях как в одной таблице соответствия"
   ]
  },
  {
   "cell_type": "code",
   "execution_count": 4,
   "id": "eb00dece",
   "metadata": {},
   "outputs": [
    {
     "name": "stdout",
     "output_type": "stream",
     "text": [
      "ChainMap({'один': 1, 'два': 2}, {'три': 3, 'четыре': 4})\n",
      "1\n",
      "3\n"
     ]
    }
   ],
   "source": [
    "from collections import ChainMap\n",
    "dict1 = {'один': 1, 'два': 2}\n",
    "dict2 = {'три': 3, 'четыре': 4}\n",
    "chain = ChainMap(dict1, dict2)\n",
    "print(chain)\n",
    "print(chain['один'])\n",
    "print(chain['три'])"
   ]
  },
  {
   "cell_type": "markdown",
   "id": "d7cd8b27",
   "metadata": {},
   "source": [
    "#### types.MappingProxyType - обертка для создания словарей только для чтения"
   ]
  },
  {
   "cell_type": "code",
   "execution_count": 5,
   "id": "fb06666c",
   "metadata": {},
   "outputs": [
    {
     "name": "stdout",
     "output_type": "stream",
     "text": [
      "1\n"
     ]
    },
    {
     "data": {
      "text/plain": [
       "mappingproxy({'один': 42, 'два': 2})"
      ]
     },
     "execution_count": 5,
     "metadata": {},
     "output_type": "execute_result"
    }
   ],
   "source": [
    "from types import MappingProxyType\n",
    "writable = {'один': 1, 'два': 2}\n",
    "read_only = MappingProxyType(writable) # доступен только для чтения\n",
    "print(read_only['один'])\n",
    "\n",
    "# Изменения в оригинале отражаются в прокси\n",
    "writable['один'] = 42\n",
    "read_only\n"
   ]
  },
  {
   "cell_type": "markdown",
   "id": "ebde32b8",
   "metadata": {},
   "source": [
    "### 5.2 Массивоподобные структуры данных\n",
    "Поиск элемента, содержащегося в массиве выполняется за O(1) \n",
    "\n",
    "#### list - изменяемые динамические массивы\n",
    "В них могут храниться любые данные, в том числе разных типов в одном массиве. У этого есть и свои минусы, например данные упакованы менее плотно и структура в результате занимает больше места"
   ]
  },
  {
   "cell_type": "code",
   "execution_count": 6,
   "id": "72088533",
   "metadata": {},
   "outputs": [
    {
     "name": "stdout",
     "output_type": "stream",
     "text": [
      "один\n",
      "['один', 'два', 'три']\n",
      "['один', 'привет', 'три']\n",
      "['один', 'три']\n",
      "['один', 'три', 23]\n"
     ]
    }
   ],
   "source": [
    "arr = ['один', 'два', 'три']\n",
    "print(arr[0])\n",
    "\n",
    "# списки имеют метод repr\n",
    "print(arr)\n",
    "\n",
    "# списки могут изменяться\n",
    "arr[1] = 'привет'\n",
    "print(arr)\n",
    "\n",
    "del arr[1]\n",
    "print(arr)\n",
    "\n",
    "# списки могут содержать произвольные типы данных\n",
    "arr.append(23)\n",
    "print(arr)"
   ]
  },
  {
   "cell_type": "markdown",
   "id": "577ad213",
   "metadata": {},
   "source": [
    "#### tuple - неизменяемые контейнеры"
   ]
  },
  {
   "cell_type": "code",
   "execution_count": 7,
   "id": "d95e0730",
   "metadata": {},
   "outputs": [
    {
     "name": "stdout",
     "output_type": "stream",
     "text": [
      "один\n",
      "('один', 'два', 'три')\n"
     ]
    },
    {
     "data": {
      "text/plain": [
       "('один', 'два', 'три', 23)"
      ]
     },
     "execution_count": 7,
     "metadata": {},
     "output_type": "execute_result"
    }
   ],
   "source": [
    "arr = 'один', 'два', 'три'\n",
    "print(arr[0])\n",
    "\n",
    "# кортежи имеют метод repr\n",
    "print(arr)\n",
    "\n",
    "# кортежи не могут изменяться\n",
    "#arr[1] = 'привет'   # выдаст TypeError\n",
    "#del arr[1]          # выдаст TypeError\n",
    "\n",
    "# кортежи могут содержать произвольные типы данных\n",
    "# при добавлении элементов создается копия кортежа\n",
    "\n",
    "arr + (23,)"
   ]
  },
  {
   "cell_type": "markdown",
   "id": "0563cf50",
   "metadata": {},
   "source": [
    "#### array.array - элементарные типизированные массивы\n",
    "Массивы созданные на основе array ограничены одним типом данных"
   ]
  },
  {
   "cell_type": "code",
   "execution_count": 8,
   "id": "9226c9b5",
   "metadata": {},
   "outputs": [
    {
     "name": "stdout",
     "output_type": "stream",
     "text": [
      "1.5\n",
      "array('f', [1.0, 1.5, 2.0, 2.5])\n",
      "array('f', [1.0, 23.0, 2.0, 2.5])\n",
      "array('f', [1.0, 2.0, 2.5])\n",
      "array('f', [1.0, 2.0, 2.5, 42.0])\n"
     ]
    }
   ],
   "source": [
    "import array\n",
    "\n",
    "arr = array.array('f', (1.0, 1.5, 2.0, 2.5))\n",
    "print(arr[1])\n",
    "\n",
    "# Массивы имеют метод repl\n",
    "print(arr)\n",
    "\n",
    "# Массивы могут изменяться\n",
    "arr[1] = 23.0\n",
    "print(arr)\n",
    "\n",
    "del arr[1]\n",
    "print(arr)\n",
    "\n",
    "arr.append(42.0)\n",
    "print(arr)\n",
    "\n",
    "# Массивы это типизированные структуры данных"
   ]
  },
  {
   "cell_type": "markdown",
   "id": "a0fecc62",
   "metadata": {},
   "source": [
    "#### str - неизменяемые массивы символов юникода\n",
    "Тип str является рекурсивной структурой, т.к. каждый символ в строке сам является объектом str длиной 1"
   ]
  },
  {
   "cell_type": "code",
   "execution_count": 9,
   "id": "942b7cca",
   "metadata": {},
   "outputs": [
    {
     "name": "stdout",
     "output_type": "stream",
     "text": [
      "b\n",
      "abcd\n",
      "['a', 'b', 'c', 'd']\n",
      "<class 'str'>\n",
      "<class 'str'>\n"
     ]
    }
   ],
   "source": [
    "arr = 'abcd'\n",
    "print(arr[1])\n",
    "print(arr)\n",
    "\n",
    "# строки неизменяемы\n",
    "# строки могут быть распакованы в список, в результате чего получая изменяемое представление\n",
    "print(list('abcd'))\n",
    "\n",
    "# строки это рекурсивные структуры данных\n",
    "print(type('abc'))\n",
    "print(type('abc'[0]))\n"
   ]
  },
  {
   "cell_type": "markdown",
   "id": "afabbe0b",
   "metadata": {},
   "source": [
    "#### bytes - неизменяемые массивы одиночных байтов\n",
    "Может содержать элементы 0<=x<=255"
   ]
  },
  {
   "cell_type": "code",
   "execution_count": 10,
   "id": "cbcf1475",
   "metadata": {},
   "outputs": [
    {
     "name": "stdout",
     "output_type": "stream",
     "text": [
      "1\n",
      "b'\\x00\\x01\\x02\\x03'\n"
     ]
    }
   ],
   "source": [
    "arr = bytes((0, 1, 2, 3))\n",
    "print(arr[1])\n",
    "\n",
    "# байтовые литералы имеют свой собственный синтаксис\n",
    "print(arr)\n",
    "\n",
    "# разрешены только допустимые байты\n",
    "# bytes((0, 300)) # ValueError\n",
    "\n",
    "# байты неизменяемы\n"
   ]
  },
  {
   "cell_type": "markdown",
   "id": "c2321fd8",
   "metadata": {},
   "source": [
    "#### bytearray - изменяемые массивы одиночных байтов\n"
   ]
  },
  {
   "cell_type": "code",
   "execution_count": 11,
   "id": "ea964899",
   "metadata": {},
   "outputs": [
    {
     "name": "stdout",
     "output_type": "stream",
     "text": [
      "1\n",
      "bytearray(b'\\x00\\x01\\x02\\x03')\n",
      "bytearray(b'\\x00\\x17\\x02\\x03')\n",
      "bytearray(b'\\x00\\x02\\x03')\n",
      "bytearray(b'\\x00\\x02\\x03*')\n"
     ]
    },
    {
     "data": {
      "text/plain": [
       "b'\\x00\\x02\\x03*'"
      ]
     },
     "execution_count": 11,
     "metadata": {},
     "output_type": "execute_result"
    }
   ],
   "source": [
    "arr = bytearray((0, 1, 2, 3))\n",
    "print(arr[1])\n",
    "\n",
    "# метод repr для bytearray\n",
    "print(arr)\n",
    "\n",
    "#байтовые массивы bytearray изменяемы\n",
    "arr[1] = 23\n",
    "print(arr)\n",
    "\n",
    "# байтовые массивы bytearray могут расти и сжиматься в размерах\n",
    "del arr[1]\n",
    "print(arr)\n",
    "\n",
    "arr.append(42)\n",
    "print(arr)\n",
    "\n",
    "# Байтовые массивы могут содержать только целые числа в диапазоне 0<=x<=255\n",
    "# bytearrays может быть преобразован в байтовые объекты\n",
    "\n",
    "bytes(arr)"
   ]
  },
  {
   "cell_type": "markdown",
   "id": "e2717f0c",
   "metadata": {},
   "source": [
    "#### Ключевые выводы\n",
    "Что нужно хранить                                       что использовать\n",
    "произвольные, смешанные данные, которые можно менять  -  list\n",
    "\n",
    "произвольные, смешанные данные, которые нельзя менять - tuple\n",
    "\n",
    "числовые данные и важна производительность             - array\n",
    "\n",
    "текстовые данные представленные символами Unicode     - str\n",
    "\n",
    "нефрагментированный блок байтов, неизменяемый         - bytes\n",
    "\n",
    "нефрагментированный блок байтов, изменяемый            - bytearray\n",
    "\n",
    "### 5.3 Записи, структуры и объекты переноса данных\n",
    "#### dict - простые объекты данных\n",
    "\n"
   ]
  },
  {
   "cell_type": "code",
   "execution_count": 12,
   "id": "b2876f23",
   "metadata": {},
   "outputs": [
    {
     "name": "stdout",
     "output_type": "stream",
     "text": [
      "{'цвет': 'синий', 'пробег': 40231, 'автомат': False}\n",
      "40231\n",
      "{'цвет': 'синий', 'пробег': 12, 'автомат': False, 'лобовое стекло': 'треснутое'}\n"
     ]
    }
   ],
   "source": [
    "car1 = {\n",
    "    'цвет': 'красный',\n",
    "    'пробег': 3812.4,\n",
    "    'автомат': True,\n",
    "}\n",
    "\n",
    "car2 = {\n",
    "    'цвет': 'синий',\n",
    "    'пробег': 40231,\n",
    "    'автомат': False,\n",
    "}\n",
    "\n",
    "print(car2)\n",
    "print(car2['пробег'])\n",
    "\n",
    "# Словари изменяемы\n",
    "car2['пробег'] = 12 # изменение существующего элемента\n",
    "car2['лобовое стекло'] = 'треснутое'\n",
    "print(car2)\n",
    "\n",
    "# Отсутствует защита от неправильных имен полей или отсутствущих/лишних полей"
   ]
  },
  {
   "cell_type": "markdown",
   "id": "9c4a2b72",
   "metadata": {},
   "source": [
    "#### tuple - неизменяемые группы объектов\n",
    "Кортежи занимают чуть меньше оперативной памяти, чем списки"
   ]
  },
  {
   "cell_type": "code",
   "execution_count": 13,
   "id": "eb0656a2",
   "metadata": {},
   "outputs": [
    {
     "name": "stdout",
     "output_type": "stream",
     "text": [
      "  0           RESUME                   0\n",
      "\n",
      "  1           RETURN_CONST             0 ((23, 'a', 'b', 'c'))\n",
      "  0           RESUME                   0\n",
      "\n",
      "  1           BUILD_LIST               0\n",
      "              LOAD_CONST               0 ((23, 'a', 'b', 'c'))\n",
      "              LIST_EXTEND              1\n",
      "              RETURN_VALUE\n"
     ]
    }
   ],
   "source": [
    "import dis\n",
    "\n",
    "dis.dis(compile(\"(23, 'a', 'b', 'c')\", '', 'eval'))\n",
    "dis.dis(compile(\"[23, 'a', 'b', 'c']\", '', 'eval'))"
   ]
  },
  {
   "cell_type": "code",
   "execution_count": 14,
   "id": "9b5682ad",
   "metadata": {},
   "outputs": [
    {
     "name": "stdout",
     "output_type": "stream",
     "text": [
      "('красный', 3812.4, True)\n",
      "40231.0\n"
     ]
    }
   ],
   "source": [
    "# Поля: цвет, пробег, автомат\n",
    "car1 = ('красный', 3812.4, True)\n",
    "car2 = ('синий', 40231.0, False)\n",
    "\n",
    "# экземпляры кортежа имеют хороший метод repr\n",
    "print(car1)\n",
    "\n",
    "# получить пробег\n",
    "print(car2[1])\n",
    "\n",
    "# нет защиты от неверных имен полей или отсуствующих/лишних полей\n"
   ]
  },
  {
   "cell_type": "markdown",
   "id": "2873f791",
   "metadata": {},
   "source": [
    "#### Написание собственного класса - больше работы, больше контроля"
   ]
  },
  {
   "cell_type": "code",
   "execution_count": 15,
   "id": "de6821f9",
   "metadata": {},
   "outputs": [
    {
     "name": "stdout",
     "output_type": "stream",
     "text": [
      "40231.0\n",
      "<__main__.Car object at 0x000001FAA3542A50>\n"
     ]
    }
   ],
   "source": [
    "class Car:\n",
    "    def __init__(self, color, mileage, automatic):\n",
    "        self.color = color\n",
    "        self.mileage = mileage\n",
    "        self.automatic = automatic\n",
    "\n",
    "car1 = Car('красный', 3812.4, True)\n",
    "car2 = Car('синий', 40231.0, False)\n",
    "\n",
    "# получить пробег\n",
    "print(car2.mileage)\n",
    "\n",
    "# классы изменяемы\n",
    "car2.mileage = 12\n",
    "car2.windshield = 'треснутое' \n",
    "\n",
    "# строковое представление не очень полезно, приходится добавлять собственный __repr__\n",
    "print(car1)"
   ]
  },
  {
   "cell_type": "markdown",
   "id": "99030614",
   "metadata": {},
   "source": [
    "#### collections.namedtuple - удобные объекты данных"
   ]
  },
  {
   "cell_type": "code",
   "execution_count": 16,
   "id": "742fd00f",
   "metadata": {},
   "outputs": [
    {
     "name": "stdout",
     "output_type": "stream",
     "text": [
      "64\n",
      "64\n"
     ]
    }
   ],
   "source": [
    "from collections import namedtuple\n",
    "from sys import getsizeof\n",
    "\n",
    "p1 = namedtuple('Point', 'x y z')(1, 2, 3)\n",
    "p2 = (1, 2, 3)\n",
    "\n",
    "print(getsizeof(p1))\n",
    "print(getsizeof(p2))\n"
   ]
  },
  {
   "cell_type": "code",
   "execution_count": 17,
   "id": "d4e230e9",
   "metadata": {},
   "outputs": [
    {
     "name": "stdout",
     "output_type": "stream",
     "text": [
      "Авто(цвет='красный', пробег=3812.4, автомат=True)\n"
     ]
    }
   ],
   "source": [
    "from collections import namedtuple\n",
    "\n",
    "Car = namedtuple('Авто', 'цвет пробег автомат')\n",
    "car1 = Car('красный', 3812.4, True)\n",
    "\n",
    "# Экземпляры имеют хороший метод repr\n",
    "print(car1)\n",
    "\n",
    "# поля неизменяемы"
   ]
  },
  {
   "cell_type": "markdown",
   "id": "12838841",
   "metadata": {},
   "source": [
    "#### typing.NamedTuple - усовершенствованные именованные кортежи"
   ]
  },
  {
   "cell_type": "code",
   "execution_count": 18,
   "id": "4691fdf2",
   "metadata": {},
   "outputs": [
    {
     "name": "stdout",
     "output_type": "stream",
     "text": [
      "Car(цвет='красный', пробег=3812.4, автомат=True)\n",
      "3812.4\n"
     ]
    }
   ],
   "source": [
    "from typing import NamedTuple\n",
    "class Car(NamedTuple):\n",
    "    цвет: str\n",
    "    пробег: float\n",
    "    автомат: bool\n",
    "\n",
    "car1 = Car('красный', 3812.4, True)\n",
    "\n",
    "# экземпляры имеют хороший метод repr\n",
    "print(car1)\n",
    "\n",
    "# доступ к полям\n",
    "print(car1.пробег)\n",
    "\n",
    "# Поля неизменимы и нельзя добавлять новые\n",
    "\n",
    "# анннотации типа не поддерживаются без отдельного инструмента проверки типов, такого как туру\n"
   ]
  },
  {
   "cell_type": "markdown",
   "id": "07d11f29",
   "metadata": {},
   "source": [
    "#### struct.Struct - сериализованные C-структуры\n",
    "Данный класс выполняет преобразование между значениями Python и структурами С, сериализованными в форму объектов Python bytes. Может использоватья для обработки двоичных данных, хранящихся в файлах или поступающих из сетевых соединений\n",
    "\n",
    "Структуры Struct определяются с использованием форматного строкоподобного мини-языкаЮ который позволяет определять расположение различных типов данных С\n",
    "\n",
    "Сериализованные структуры редко используются для представления объектов данных, предназначенных для обработки исключительно внутри кода Python. Они нужны в первую очередь в качествве формата обмена данными, а не как способ их хранения в оперативной памяти"
   ]
  },
  {
   "cell_type": "code",
   "execution_count": 19,
   "id": "deb01dcc",
   "metadata": {},
   "outputs": [
    {
     "name": "stdout",
     "output_type": "stream",
     "text": [
      "b'\\x17\\x00\\x00\\x00\\x00\\x00\\x00\\x00\\x00\\x00(B'\n"
     ]
    },
    {
     "data": {
      "text/plain": [
       "(23, False, 42.0)"
      ]
     },
     "execution_count": 19,
     "metadata": {},
     "output_type": "execute_result"
    }
   ],
   "source": [
    "from struct import Struct\n",
    "\n",
    "MyStruct = Struct('i?f')\n",
    "data = MyStruct.pack(23, False, 42.0)\n",
    "\n",
    "# получается двоичный объект данных blob\n",
    "print(data)\n",
    "\n",
    "# BLOB-объекты можно снова распаковать\n",
    "MyStruct.unpack(data)\n"
   ]
  },
  {
   "cell_type": "markdown",
   "id": "d902103e",
   "metadata": {},
   "source": [
    "#### types.SimpleNamespace - причудливый атрибутивный доступ\n",
    "Атрибутивный доступ означает. что SimpleNamespace показывает все свои ключи, как атрибуты класса и к ним можно получить доступ через точку, а не квадратные скобки (объект.ключ, а не объект['ключ'])\n"
   ]
  },
  {
   "cell_type": "code",
   "execution_count": 20,
   "id": "c83128f3",
   "metadata": {},
   "outputs": [
    {
     "name": "stdout",
     "output_type": "stream",
     "text": [
      "namespace(цвет='красный', пробег=3812.4, автомат=True)\n",
      "namespace(цвет='красный', пробег=12, лобовое_стекло='треснутое')\n"
     ]
    }
   ],
   "source": [
    "from types import SimpleNamespace\n",
    "\n",
    "car1 = SimpleNamespace(цвет='красный',\n",
    "                       пробег=3812.4,\n",
    "                       автомат=True)\n",
    "\n",
    "# Метод repr по умолчанию\n",
    "print(car1)\n",
    "\n",
    "# экземпляры поддерживают атрибутивный доступ и могут изменяться\n",
    "\n",
    "car1.пробег = 12\n",
    "car1.лобовое_стекло = 'треснутое'\n",
    "del car1.автомат\n",
    "\n",
    "print(car1)"
   ]
  },
  {
   "cell_type": "markdown",
   "id": "084ae61e",
   "metadata": {},
   "source": [
    "#### Ключевые выводы\n",
    "Сценарий использования и что лучше выбрать\n",
    "* У вас есть всего несколько полей, порядок которых легко запоминается, а имена полей излишни, например точка (x, y, z) - tuple\n",
    "* Вам нужны неизменяемые поля - tuple, collections.namedtuple, typing.Namedtuple\n",
    "* Вам нужно установить имена полей, чтобы избежать опечаток - collections.namedtuple, typing.Namedtuple\n",
    "* Вы не хотите ничего усложнять - dict\n",
    "* Вам нужен полный контроль над вашей структурой данных - собственный класс\n",
    "* Вам нужно добавить в объект поведение (методы) - собственный класс с нуля или расширенние collections.namedtuple или typing.Namedtuple  \n",
    "* Вам нужно плотно упаковать данные, чтобы сериализовать их для записи на жесткий диск или отправить их по сети - struct.Struct\n",
    "По умолчанию лучше typing.NamedTuple в Python 3.x\n",
    "\n",
    "### 5.4 Множества и мультимножества\n",
    "Множество - неупорядоченная колллекция объектов, которая не допускает повторяющихся элементов. Как правило, множества используются для быстрой проверки принадлеэности значения множеству, вставки новых значений в множество, удаления значений из множества и вычисления множественных операций, таких как объединение или пересичение двух множеств\n",
    "\n",
    "Проверки на принадлежность за O(1)\n",
    "\n",
    "Операции объединения, пересечения, разности и взяттия подмножеств в среднем O(n)"
   ]
  },
  {
   "cell_type": "code",
   "execution_count": 21,
   "id": "0d62c1e9",
   "metadata": {},
   "outputs": [],
   "source": [
    "vowels = {'a', 'e', 'i', 'o', 'u'}\n",
    "squares = {x * x for x in range(10)}\n",
    "\n",
    "# для того, чтобы создать пустое множество, необходимо вызвать конструктор set()\n",
    "\n",
    "a = set()"
   ]
  },
  {
   "cell_type": "markdown",
   "id": "510f3ee0",
   "metadata": {},
   "source": [
    "#### set - ваше дежурное множество\n",
    "Тип set - изменяемый\n",
    "\n",
    "Множества set подкрепляются типом данных dict и обладают одинаковыми характеристиками производительности. Любой хешируемый объект может хрнаиться в множестве"
   ]
  },
  {
   "cell_type": "code",
   "execution_count": 23,
   "id": "dc839ccb",
   "metadata": {},
   "outputs": [
    {
     "name": "stdout",
     "output_type": "stream",
     "text": [
      "True\n",
      "{'и', 'а'}\n",
      "{'e', 'а', 'о', 'э', 'ы', 'и', 'ё', 'у', 'е', 'ю', 'я'}\n",
      "11\n"
     ]
    }
   ],
   "source": [
    "vowels = {'а', 'о', 'и', 'е', 'e', 'у', 'ы', 'э', 'ю', 'я'}\n",
    "print('э' in vowels)\n",
    "\n",
    "letters = set('алиса')\n",
    "print(letters.intersection(vowels))\n",
    "\n",
    "vowels.add('ё')\n",
    "print(vowels)\n",
    "print(len(vowels))"
   ]
  },
  {
   "cell_type": "markdown",
   "id": "456c7923",
   "metadata": {},
   "source": [
    "#### frozenset - неизменяемые множества\n",
    "Статичны и хешируемы - могут использоваться в качестве ключей словаря или элементов другого множества, что невозможно с обычными множествами\n"
   ]
  },
  {
   "cell_type": "code",
   "execution_count": 24,
   "id": "5593f8ef",
   "metadata": {},
   "outputs": [
    {
     "data": {
      "text/plain": [
       "'привет'"
      ]
     },
     "execution_count": 24,
     "metadata": {},
     "output_type": "execute_result"
    }
   ],
   "source": [
    "vowels = frozenset({'а', 'о', 'и', 'е', 'e', 'у', 'ы', 'э', 'ю', 'я'})\n",
    "# vowels.add('ё')  # выдаст AttributeError, так как frozenset неизменяемый\n",
    "\n",
    "d = { frozenset({1, 2, 3}): 'привет' }\n",
    "d[frozenset({1, 2, 3})]"
   ]
  },
  {
   "cell_type": "markdown",
   "id": "b758623a",
   "metadata": {},
   "source": [
    "#### collections.Counter - мультимножества\n",
    "Допускает неоднократное появление элемента в множестве. Полезно если вам нужно вести учет не только того, принадлежит ли элемент множеству, но и того, сколько раз он был включен в него"
   ]
  },
  {
   "cell_type": "code",
   "execution_count": 27,
   "id": "35de2abb",
   "metadata": {},
   "outputs": [
    {
     "name": "stdout",
     "output_type": "stream",
     "text": [
      "Counter({'хлеб': 3, 'клинок': 1})\n",
      "Counter({'хлеб': 3, 'клинок': 2, 'яблоко': 1})\n",
      "3\n"
     ]
    },
    {
     "data": {
      "text/plain": [
       "6"
      ]
     },
     "execution_count": 27,
     "metadata": {},
     "output_type": "execute_result"
    }
   ],
   "source": [
    "from collections import Counter\n",
    "inventory = Counter()\n",
    "\n",
    "loot = {'клинок': 1, 'хлеб': 3}\n",
    "inventory.update(loot)\n",
    "print(inventory)\n",
    "\n",
    "more_loot = {'клинок': 1, 'яблоко': 1}\n",
    "inventory.update(more_loot)\n",
    "print(inventory)\n",
    "\n",
    "print(len(inventory))\n",
    "# количество уникальных элементов\n",
    "\n",
    "sum(inventory.values())\n",
    "# общее количество элементов\n"
   ]
  },
  {
   "cell_type": "markdown",
   "id": "e21b2a57",
   "metadata": {},
   "source": [
    "### 5.5 Стеки (с дисциплиной доступа LIFO)\n",
    "Стек представляет собой коллекцию объектов, которая поддерживает быструю семантику доступа \"последним пришел - первым ушел\" для вставок (push) и удалений (pop).\n",
    "\n",
    "Очередь похожа на стек, но следует правилу \"первым пришел - первым ушел\"\n",
    "\n",
    "#### list - простые встроенные стеки"
   ]
  },
  {
   "cell_type": "code",
   "execution_count": null,
   "id": "a2ad1adb",
   "metadata": {},
   "outputs": [
    {
     "name": "stdout",
     "output_type": "stream",
     "text": [
      "['есть', 'спать', 'программировать']\n",
      "программировать\n",
      "спать\n",
      "есть\n"
     ]
    }
   ],
   "source": [
    "s = []\n",
    "s.append('есть')\n",
    "s.append('спать')\n",
    "s.append('программировать')\n",
    "\n",
    "print(s)\n",
    "\n",
    "print(s.pop())\n",
    "print(s.pop())\n",
    "print(s.pop())\n",
    "\n",
    "# s.pop() # выдаст IndexError, так как стек пуст"
   ]
  },
  {
   "cell_type": "markdown",
   "id": "5bca80f8",
   "metadata": {},
   "source": [
    "#### collections.deque - быстрые и надежные стеки\n",
    "Класс deque реализует очередь с двусторонним доступом, которая поддерживает добавление и удаление элементов с любого конца за O(1). Могут служить в качестве очередей или стеков. Реализованы как двунаправленные связные списки"
   ]
  },
  {
   "cell_type": "code",
   "execution_count": 29,
   "id": "420f43f6",
   "metadata": {},
   "outputs": [
    {
     "name": "stdout",
     "output_type": "stream",
     "text": [
      "deque(['есть', 'спать', 'программировать'])\n",
      "программировать\n",
      "спать\n",
      "есть\n"
     ]
    }
   ],
   "source": [
    "from collections import deque\n",
    "s = deque()\n",
    "s.append('есть')\n",
    "s.append('спать')  \n",
    "s.append('программировать')\n",
    "\n",
    "print(s)\n",
    "print(s.pop())\n",
    "print(s.pop())\n",
    "print(s.pop())\n",
    "# s.pop() # выдаст IndexError, так как стек пуст"
   ]
  },
  {
   "cell_type": "markdown",
   "id": "2cb2b9f6",
   "metadata": {},
   "source": [
    "### deque.LifoQueue - семантика блокирования для параллельных вычислений\n",
    "Обеспечивает семантику блокирования с целью поддержки многочисленных параллельных производителей и потребителей. "
   ]
  },
  {
   "cell_type": "code",
   "execution_count": 3,
   "id": "b7dae2e0",
   "metadata": {},
   "outputs": [
    {
     "name": "stdout",
     "output_type": "stream",
     "text": [
      "<queue.LifoQueue object at 0x0000018F20D04E10>\n",
      "программировать\n",
      "спать\n",
      "есть\n"
     ]
    }
   ],
   "source": [
    "from queue import LifoQueue\n",
    "\n",
    "s = LifoQueue()\n",
    "s.put('есть')\n",
    "s.put('спать')\n",
    "s.put('программировать')\n",
    "\n",
    "print(s)\n",
    "\n",
    "print(s.get())\n",
    "print(s.get())\n",
    "print(s.get())\n",
    "\n",
    "# s.get_nowait()\n",
    "\n",
    "# s.get()  # блокирует \\ ожидает бесконечно"
   ]
  },
  {
   "cell_type": "markdown",
   "id": "4e6da2d4",
   "metadata": {},
   "source": [
    "#### Сравнение реализаций стека в Python\n",
    "Если вам не нужна поддержка параллельной обработки - list, collections.deque\n",
    "\n",
    "### 5.6 Очереди (с дисциплиной доступа FIFO)\n",
    "Очередь представляет собой коллекцию объектов, которая поддерживает быструю семантику \"первым пришел - первым ушел\" для вставок и удалений\n",
    "\n",
    "#### list - ужасно медленная очередь\n",
    "Не рекомендуется использовать, т.к. удаление элемента в начале занимает O(n) времени"
   ]
  },
  {
   "cell_type": "code",
   "execution_count": 4,
   "id": "80534598",
   "metadata": {},
   "outputs": [
    {
     "name": "stdout",
     "output_type": "stream",
     "text": [
      "['есть', 'спать', 'программировать']\n"
     ]
    },
    {
     "data": {
      "text/plain": [
       "'есть'"
      ]
     },
     "execution_count": 4,
     "metadata": {},
     "output_type": "execute_result"
    }
   ],
   "source": [
    "q = []\n",
    "q.append('есть')\n",
    "q.append('спать')  \n",
    "q.append('программировать')\n",
    "\n",
    "print(q)\n",
    "\n",
    "# осторожно, очень медленная операция\n",
    "q.pop(0)"
   ]
  },
  {
   "cell_type": "markdown",
   "id": "179cd3c1",
   "metadata": {},
   "source": [
    "#### collections.deque - быстрые и надежные очереди\n",
    "Класс реализует очередь с двусторонним доступом за O(1)"
   ]
  },
  {
   "cell_type": "code",
   "execution_count": 6,
   "id": "d5c4534e",
   "metadata": {},
   "outputs": [
    {
     "name": "stdout",
     "output_type": "stream",
     "text": [
      "deque(['есть', 'спать', 'программировать'])\n",
      "есть\n",
      "спать\n",
      "программировать\n"
     ]
    }
   ],
   "source": [
    "from collections import deque\n",
    "q = deque()\n",
    "q.append('есть')\n",
    "q.append('спать')  \n",
    "q.append('программировать')\n",
    "\n",
    "print(q)\n",
    "\n",
    "print(q.popleft())\n",
    "print(q.popleft())\n",
    "print(q.popleft())\n",
    "\n",
    "# print(q.popleft()) # IndexError"
   ]
  },
  {
   "cell_type": "markdown",
   "id": "651c0eea",
   "metadata": {},
   "source": [
    "#### queue.Queue - семантика блокирования для параллельных вычислений\n",
    "Данная реализация очереди синхронизирована и обеспечивает семантику блокирования. Модуль queue содержит несколько других классов, которые реализуют очередди с мультипроизводителями \\ мультипотребителями, которые широко используются в параллельных вычислениях"
   ]
  },
  {
   "cell_type": "code",
   "execution_count": 7,
   "id": "d0ef0b73",
   "metadata": {},
   "outputs": [
    {
     "name": "stdout",
     "output_type": "stream",
     "text": [
      "<queue.Queue object at 0x0000018F204C7650>\n",
      "есть\n",
      "спать\n",
      "программировать\n"
     ]
    }
   ],
   "source": [
    "from queue import Queue\n",
    "\n",
    "q = Queue()\n",
    "q.put('есть')\n",
    "q.put('спать')\n",
    "q.put('программировать')\n",
    "\n",
    "print(q)\n",
    "\n",
    "print(q.get())\n",
    "print(q.get())\n",
    "print(q.get())\n",
    "\n",
    "# q.get_nowait()"
   ]
  },
  {
   "cell_type": "markdown",
   "id": "0063117b",
   "metadata": {},
   "source": [
    "#### multiprocessing.Queue - очереди совместных заданий\n",
    "Такая реализация очереди совместных заданий позволяет выполнять параллельную обработку находящихся в очереди элементов многочисленными праллельными рабочими процессами. Процессно-ориентированное распараллеливание популярно  Python из-за глобальной блокировки интерпретатора, которая препятствует некоторым формам параллельного исполнения в единсвтенном процессе интерпретатора"
   ]
  },
  {
   "cell_type": "code",
   "execution_count": 8,
   "id": "c19a4e4c",
   "metadata": {},
   "outputs": [
    {
     "name": "stdout",
     "output_type": "stream",
     "text": [
      "<multiprocessing.queues.Queue object at 0x0000018F20673CB0>\n",
      "есть\n",
      "спать\n",
      "программировать\n"
     ]
    }
   ],
   "source": [
    "from multiprocessing import Queue\n",
    "\n",
    "q = Queue()\n",
    "q.put('есть')\n",
    "q.put('спать')\n",
    "q.put('программировать')\n",
    "\n",
    "print(q)\n",
    "\n",
    "print(q.get())\n",
    "print(q.get())\n",
    "print(q.get())"
   ]
  },
  {
   "cell_type": "markdown",
   "id": "a2e4c1b8",
   "metadata": {},
   "source": [
    "### 5.7 Очереди с приоритетом\n",
    "Очередь с приоритетом можно представить как видоизмененную очередь: вместо получения следующего элемента по времени вставки она получает элемент с самым высоким приоритетом. Приоритет отдельных элементов определется примененным к их ключам упоряддочением\n",
    "\n",
    "#### list - поддержание сортируемой очереди вручную\n",
    "Недостатком является то, что вставка новых элементов в список является медленной O(n) операцией"
   ]
  },
  {
   "cell_type": "code",
   "execution_count": 9,
   "id": "9847d485",
   "metadata": {},
   "outputs": [
    {
     "name": "stdout",
     "output_type": "stream",
     "text": [
      "(1, 'есть')\n",
      "(2, 'программировать')\n",
      "(3, 'спать')\n"
     ]
    }
   ],
   "source": [
    "q = []\n",
    "q.append((2, 'программировать'))\n",
    "q.append((1, 'есть'))\n",
    "q.append((3, 'спать'))\n",
    "\n",
    "q.sort(reverse=True)\n",
    "\n",
    "while q:\n",
    "    next_item = q.pop()\n",
    "    print(next_item)"
   ]
  },
  {
   "cell_type": "markdown",
   "id": "31dbe819",
   "metadata": {},
   "source": [
    "#### heapq - двоичные кучи на основе списка"
   ]
  },
  {
   "cell_type": "code",
   "execution_count": 10,
   "id": "16e3d0b6",
   "metadata": {},
   "outputs": [
    {
     "name": "stdout",
     "output_type": "stream",
     "text": [
      "(1, 'есть')\n",
      "(2, 'программировать')\n",
      "(3, 'спать')\n"
     ]
    }
   ],
   "source": [
    "import heapq\n",
    "\n",
    "q = []\n",
    "\n",
    "heapq.heappush(q, (2, 'программировать'))\n",
    "heapq.heappush(q, (1, 'есть'))\n",
    "heapq.heappush(q, (3, 'спать'))\n",
    "\n",
    "while q:\n",
    "    next_item = heapq.heappop(q)\n",
    "    print(next_item)"
   ]
  },
  {
   "cell_type": "markdown",
   "id": "a9351d40",
   "metadata": {},
   "source": [
    "#### queue.PriotrityQueue - красивые очереди с приоритетом\n",
    "Данная очередь с приоритетом синхронизирована и обеспечивает семантику блокирования с целью поддержки многочисленных параллельных производителей и потребителей\n"
   ]
  },
  {
   "cell_type": "code",
   "execution_count": 11,
   "id": "00eb611e",
   "metadata": {},
   "outputs": [
    {
     "name": "stdout",
     "output_type": "stream",
     "text": [
      "(1, 'есть')\n",
      "(2, 'программировать')\n",
      "(3, 'спать')\n"
     ]
    }
   ],
   "source": [
    "from queue import PriorityQueue\n",
    "\n",
    "q = PriorityQueue()\n",
    "\n",
    "q.put((2, 'программировать'))\n",
    "q.put((1, 'есть'))\n",
    "q.put((3, 'спать'))\n",
    "\n",
    "while not q.empty():\n",
    "    next_item = q.get()\n",
    "    print(next_item)"
   ]
  }
 ],
 "metadata": {
  "kernelspec": {
   "display_name": "venv",
   "language": "python",
   "name": "python3"
  },
  "language_info": {
   "codemirror_mode": {
    "name": "ipython",
    "version": 3
   },
   "file_extension": ".py",
   "mimetype": "text/x-python",
   "name": "python",
   "nbconvert_exporter": "python",
   "pygments_lexer": "ipython3",
   "version": "3.13.5"
  }
 },
 "nbformat": 4,
 "nbformat_minor": 5
}
